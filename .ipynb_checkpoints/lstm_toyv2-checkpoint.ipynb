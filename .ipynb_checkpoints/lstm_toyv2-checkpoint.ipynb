{
 "cells": [
  {
   "cell_type": "code",
   "execution_count": 1,
   "metadata": {
    "collapsed": true
   },
   "outputs": [],
   "source": [
    "# this is a toy lstm example to play with time series data in tensorflow\n",
    "# currently it takes an input sequence and returns softmax ( linear ( output( for each time step t))\n",
    "# note : if you get rnn error, try restarting the kernel"
   ]
  },
  {
   "cell_type": "code",
   "execution_count": 2,
   "metadata": {
    "collapsed": true
   },
   "outputs": [],
   "source": [
    "import tensorflow as tf\n",
    "from __future__ import print_function\n",
    "from tensorflow.contrib import rnn\n",
    "import numpy as np"
   ]
  },
  {
   "cell_type": "code",
   "execution_count": 3,
   "metadata": {
    "collapsed": true
   },
   "outputs": [],
   "source": [
    "hello = tf.constant('Hello, TensorFlow!')"
   ]
  },
  {
   "cell_type": "code",
   "execution_count": 4,
   "metadata": {
    "collapsed": true
   },
   "outputs": [],
   "source": [
    "sess = tf.Session()"
   ]
  },
  {
   "cell_type": "code",
   "execution_count": 5,
   "metadata": {},
   "outputs": [
    {
     "name": "stdout",
     "output_type": "stream",
     "text": [
      "b'Hello, TensorFlow!'\n"
     ]
    }
   ],
   "source": [
    "print(sess.run(hello))"
   ]
  },
  {
   "cell_type": "code",
   "execution_count": 6,
   "metadata": {
    "collapsed": true
   },
   "outputs": [],
   "source": [
    "# Training Parameters\n",
    "learning_rate = 0.001\n",
    "training_steps = 10000\n",
    "batch_size = 128\n",
    "display_step = 200\n",
    "\n",
    "# Network Parameters\n",
    "num_input = 28 # MNIST data input (img shape: 28*28)\n",
    "timesteps = 28 # timesteps\n",
    "num_hidden = 128 # hidden layer num of features\n",
    "num_classes = 10 # MNIST total classes (0-9 digits)\n",
    "\n",
    "# tf Graph input\n",
    "X = tf.placeholder(\"float\", [None, timesteps, num_input])\n",
    "Y = tf.placeholder(\"float\", [None, num_classes])"
   ]
  },
  {
   "cell_type": "code",
   "execution_count": 7,
   "metadata": {
    "collapsed": true
   },
   "outputs": [],
   "source": [
    "# Define weights\n",
    "weights = {\n",
    "    'out': tf.Variable(tf.random_normal([num_hidden, num_classes]))\n",
    "}\n",
    "biases = {\n",
    "    'out': tf.Variable(tf.random_normal([num_classes]))\n",
    "}"
   ]
  },
  {
   "cell_type": "code",
   "execution_count": 8,
   "metadata": {
    "collapsed": true
   },
   "outputs": [],
   "source": [
    "def RNN(x, weights, biases):\n",
    "\n",
    "    # Prepare data shape to match `rnn` function requirements\n",
    "    # Current data input shape: (batch_size, timesteps, n_input)\n",
    "    # Required shape: 'timesteps' tensors list of shape (batch_size, n_input)\n",
    "\n",
    "    # Unstack to get a list of 'timesteps' tensors of shape (batch_size, n_input)\n",
    "    x = tf.unstack(x, timesteps, 1)\n",
    "\n",
    "    # Define a lstm cell with tensorflow\n",
    "    lstm_cell = rnn.BasicLSTMCell(num_hidden, forget_bias=1.0)\n",
    "\n",
    "    # Get lstm cell output\n",
    "    outputs, states = rnn.static_rnn(lstm_cell, x, dtype=tf.float32)\n",
    "    \n",
    "    #print(outputs)\n",
    "    temp=tf.convert_to_tensor(outputs)[:,-1,:]\n",
    "   # temp=temp[:,-1,:]\n",
    "    #return outputs\n",
    "   # return tf.matmul(temp, weights['out']) + biases['out']\n",
    "    return tf.nn.softmax(tf.matmul(temp, weights['out']) + biases['out'])"
   ]
  },
  {
   "cell_type": "code",
   "execution_count": 9,
   "metadata": {},
   "outputs": [],
   "source": [
    "logits = RNN(X, weights, biases)\n",
    "#prediction = tf.nn.softmax(logits)"
   ]
  },
  {
   "cell_type": "code",
   "execution_count": 10,
   "metadata": {
    "collapsed": true
   },
   "outputs": [],
   "source": [
    "init = tf.global_variables_initializer()"
   ]
  },
  {
   "cell_type": "code",
   "execution_count": 11,
   "metadata": {
    "collapsed": true
   },
   "outputs": [],
   "source": [
    "input_x = np.random.rand(1,28,28)"
   ]
  },
  {
   "cell_type": "code",
   "execution_count": 13,
   "metadata": {},
   "outputs": [
    {
     "name": "stdout",
     "output_type": "stream",
     "text": [
      "[[ 0.01892063  0.01085623  0.07216776  0.22142154  0.20905198  0.15887651\n",
      "   0.00616184  0.02103623  0.14228773  0.1392196 ]\n",
      " [ 0.01874382  0.01036791  0.05053717  0.19095573  0.18975399  0.21622229\n",
      "   0.00685446  0.01604314  0.17023781  0.13028374]\n",
      " [ 0.02218061  0.01012653  0.03949387  0.15095802  0.19461256  0.27130166\n",
      "   0.00776361  0.02148825  0.17496653  0.10710842]\n",
      " [ 0.01347075  0.00841196  0.02878556  0.19194904  0.16109622  0.23981367\n",
      "   0.00626988  0.01835492  0.25854754  0.07330045]\n",
      " [ 0.00821999  0.01334674  0.0263538   0.20055561  0.19609287  0.25270426\n",
      "   0.00608429  0.01978278  0.20885527  0.06800442]\n",
      " [ 0.00820356  0.01012385  0.01782743  0.14878374  0.17414269  0.30446523\n",
      "   0.00725969  0.02146554  0.24299057  0.06473766]\n",
      " [ 0.00493592  0.00797529  0.01585034  0.11779128  0.17297122  0.23707502\n",
      "   0.0062198   0.01701531  0.35524717  0.06491864]\n",
      " [ 0.0045178   0.00925568  0.01532807  0.13307793  0.15820609  0.14471292\n",
      "   0.00810431  0.00925436  0.46532628  0.05221668]\n",
      " [ 0.00655987  0.00569356  0.01199138  0.11191098  0.11029119  0.20360011\n",
      "   0.00770319  0.00745709  0.50177777  0.03301482]\n",
      " [ 0.00553211  0.00775914  0.01288603  0.18362546  0.10069179  0.14906909\n",
      "   0.0069601   0.00600999  0.50679964  0.0206667 ]\n",
      " [ 0.00635666  0.0128506   0.00972028  0.17802036  0.09774945  0.14382035\n",
      "   0.0119269   0.00642325  0.51018602  0.02294617]\n",
      " [ 0.00676272  0.01305429  0.00778866  0.16503911  0.08633436  0.07977489\n",
      "   0.01493192  0.00358345  0.60389966  0.01883096]\n",
      " [ 0.00959235  0.00911932  0.00589885  0.13810776  0.06734661  0.10988194\n",
      "   0.01026554  0.0034213   0.62584609  0.02052027]\n",
      " [ 0.0128328   0.01048339  0.00747002  0.15397704  0.06517608  0.15630557\n",
      "   0.0088945   0.00483081  0.55781424  0.0222155 ]\n",
      " [ 0.00996226  0.00651712  0.00800631  0.15307766  0.06119812  0.15961227\n",
      "   0.00527223  0.00491642  0.57664704  0.01479054]\n",
      " [ 0.00924719  0.0076326   0.00848587  0.17014703  0.05906378  0.22687876\n",
      "   0.0090201   0.00469561  0.48498529  0.01984383]\n",
      " [ 0.00760545  0.01026221  0.00926655  0.11837636  0.08358249  0.17563611\n",
      "   0.00682521  0.00675988  0.5581854   0.0235004 ]\n",
      " [ 0.00520915  0.00591499  0.0079235   0.10383935  0.07130243  0.22773141\n",
      "   0.00330953  0.00526094  0.53995335  0.02955525]\n",
      " [ 0.00742136  0.00844666  0.00753018  0.10075746  0.08620577  0.21143894\n",
      "   0.00598032  0.00583133  0.5299409   0.0364471 ]\n",
      " [ 0.00447409  0.01041688  0.00565324  0.14541054  0.08340839  0.21197852\n",
      "   0.00643077  0.00388324  0.48686188  0.04148239]\n",
      " [ 0.00724751  0.00745629  0.00596463  0.17061557  0.09532843  0.28847373\n",
      "   0.00440249  0.003882    0.38971919  0.02691017]\n",
      " [ 0.00537431  0.00875728  0.00525604  0.15382536  0.08870504  0.29101989\n",
      "   0.00514108  0.00467241  0.40581429  0.03143436]\n",
      " [ 0.00673293  0.00464447  0.00359845  0.10916699  0.07323323  0.34553662\n",
      "   0.00381329  0.00677708  0.41779682  0.02870019]\n",
      " [ 0.00922353  0.00482861  0.00405155  0.08776111  0.0645892   0.43209469\n",
      "   0.00466938  0.00510917  0.35595906  0.03171368]\n",
      " [ 0.0100205   0.00781403  0.0051315   0.11093327  0.078788    0.42732567\n",
      "   0.00530134  0.00593431  0.30807114  0.04068024]\n",
      " [ 0.01158491  0.00484813  0.00446958  0.09601771  0.0676806   0.4964107\n",
      "   0.00645407  0.00451291  0.27972049  0.0283009 ]\n",
      " [ 0.01179698  0.00469881  0.0058652   0.1003108   0.06517752  0.60573453\n",
      "   0.00413776  0.00555657  0.17906484  0.01765698]\n",
      " [ 0.01635124  0.00640298  0.00574592  0.09602097  0.06302828  0.49901792\n",
      "   0.00555003  0.0075549   0.27554181  0.0247859 ]]\n"
     ]
    }
   ],
   "source": [
    "with tf.Session() as sess:\n",
    "\n",
    "    # Run the initializer\n",
    "    sess.run(init)\n",
    "    \n",
    "    \n",
    "    \n",
    "    final=np.array(sess.run(logits, feed_dict={X: input_x}))\n",
    "    print(final)"
   ]
  },
  {
   "cell_type": "code",
   "execution_count": 29,
   "metadata": {},
   "outputs": [
    {
     "data": {
      "text/plain": [
       "(28, 28)"
      ]
     },
     "execution_count": 29,
     "metadata": {},
     "output_type": "execute_result"
    }
   ],
   "source": []
  },
  {
   "cell_type": "code",
   "execution_count": null,
   "metadata": {
    "collapsed": true
   },
   "outputs": [],
   "source": []
  }
 ],
 "metadata": {
  "kernelspec": {
   "display_name": "tf_orange",
   "language": "python",
   "name": "tf_orange"
  },
  "language_info": {
   "codemirror_mode": {
    "name": "ipython",
    "version": 3
   },
   "file_extension": ".py",
   "mimetype": "text/x-python",
   "name": "python",
   "nbconvert_exporter": "python",
   "pygments_lexer": "ipython3",
   "version": "3.6.1"
  }
 },
 "nbformat": 4,
 "nbformat_minor": 2
}
