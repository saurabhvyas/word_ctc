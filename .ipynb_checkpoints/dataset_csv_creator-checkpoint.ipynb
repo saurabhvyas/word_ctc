{
 "cells": [
  {
   "cell_type": "code",
   "execution_count": 22,
   "metadata": {
    "collapsed": true
   },
   "outputs": [],
   "source": [
    "# simple notebook to create a csv file , given a bunch of wav files and corresponding transcriptions ( same name ) in same \n",
    "# folder\n",
    "\n"
   ]
  },
  {
   "cell_type": "code",
   "execution_count": 8,
   "metadata": {
    "collapsed": true
   },
   "outputs": [],
   "source": [
    "import glob, os\n",
    "import csv\n",
    "\n",
    "dir_name = \"/home/saurabh/feeny_dataset/data/generated/\"\n",
    "os.chdir(dir_name)"
   ]
  },
  {
   "cell_type": "code",
   "execution_count": 9,
   "metadata": {
    "collapsed": true
   },
   "outputs": [],
   "source": [
    "def read_transcription_txt(file):\n",
    "    with open(file, 'r') as myfile:\n",
    "        data=myfile.read().replace('\\n', '')\n",
    "        return data"
   ]
  },
  {
   "cell_type": "code",
   "execution_count": 15,
   "metadata": {
    "collapsed": true
   },
   "outputs": [],
   "source": [
    "temp_list=[]\n",
    "\n",
    "def create_csv():\n",
    "    \n",
    "    \n",
    "   \n",
    " for file in glob.glob(\"*.txt\"):\n",
    "    #print(file)\n",
    "    \n",
    "    \n",
    "    wav_string= dir_name + file.replace(\".txt\",\".wav\")\n",
    "    print(wav_string)\n",
    "    \n",
    "    #temp_list.append(file + ',' + wav_string)\n",
    "    \n",
    "    temp_name = dir_name + '/' + file\n",
    "    \n",
    "    \n",
    "    \n",
    "    transcription = read_transcription_txt(temp_name)\n",
    "    \n",
    "    #print(transcription)\n",
    "    \n",
    "    temp_list.append([wav_string, transcription])\n",
    "    \n",
    "    "
   ]
  },
  {
   "cell_type": "code",
   "execution_count": 16,
   "metadata": {},
   "outputs": [
    {
     "name": "stdout",
     "output_type": "stream",
     "text": [
      "/home/saurabh/feeny_dataset/data/generatedfeeny_58.wav\n",
      "/home/saurabh/feeny_dataset/data/generatedfeeny_34.wav\n",
      "/home/saurabh/feeny_dataset/data/generatedfeeny_62.wav\n",
      "/home/saurabh/feeny_dataset/data/generatedfeeny_10.wav\n",
      "/home/saurabh/feeny_dataset/data/generatedfeeny_2.wav\n",
      "/home/saurabh/feeny_dataset/data/generatedfeeny_14.wav\n",
      "/home/saurabh/feeny_dataset/data/generatedfeeny_30.wav\n",
      "/home/saurabh/feeny_dataset/data/generatedfeeny_18.wav\n",
      "/home/saurabh/feeny_dataset/data/generatedfeeny_6.wav\n",
      "9\n"
     ]
    }
   ],
   "source": [
    "create_csv()\n",
    "\n",
    "dataset_len = len(temp_list)\n",
    "\n",
    "print(dataset_len)"
   ]
  },
  {
   "cell_type": "code",
   "execution_count": 17,
   "metadata": {},
   "outputs": [
    {
     "name": "stdout",
     "output_type": "stream",
     "text": [
      "[['/home/saurabh/feeny_dataset/data/generatedfeeny_58.wav', 'kindly as possible the show has turned'], ['/home/saurabh/feeny_dataset/data/generatedfeeny_34.wav', \"press junket there's some learning going\"], ['/home/saurabh/feeny_dataset/data/generatedfeeny_62.wav', 'into a circus and you three are driving'], ['/home/saurabh/feeny_dataset/data/generatedfeeny_10.wav', 'masses for the first time in history the'], ['/home/saurabh/feeny_dataset/data/generatedfeeny_2.wav', 'so Gutenberg invented the printing press'], ['/home/saurabh/feeny_dataset/data/generatedfeeny_14.wav', 'common man had access to the same'], ['/home/saurabh/feeny_dataset/data/generatedfeeny_30.wav', 'darling gentlemen might I interrupt your'], ['/home/saurabh/feeny_dataset/data/generatedfeeny_18.wav', 'information that used to be available'], ['/home/saurabh/feeny_dataset/data/generatedfeeny_6.wav', 'making the written word available to the']]\n"
     ]
    }
   ],
   "source": [
    "print(temp_list)"
   ]
  },
  {
   "cell_type": "code",
   "execution_count": 18,
   "metadata": {
    "collapsed": true
   },
   "outputs": [],
   "source": [
    "def csv_writer(data, path):\n",
    "    \"\"\"\n",
    "    Write data to a CSV file path\n",
    "    \"\"\"\n",
    "    with open(path, \"w\", newline='') as csv_file:\n",
    "        writer = csv.writer(csv_file, delimiter=',')\n",
    "        for line in data:\n",
    "            writer.writerow(line)"
   ]
  },
  {
   "cell_type": "code",
   "execution_count": 19,
   "metadata": {
    "collapsed": true
   },
   "outputs": [],
   "source": [
    "csv_writer(temp_list,'/home/saurabh/Documents/tf_orange/tf_orange/feeny.csv')"
   ]
  },
  {
   "cell_type": "code",
   "execution_count": null,
   "metadata": {
    "collapsed": true
   },
   "outputs": [],
   "source": []
  }
 ],
 "metadata": {
  "kernelspec": {
   "display_name": "tf_orange",
   "language": "python",
   "name": "tf_orange"
  },
  "language_info": {
   "codemirror_mode": {
    "name": "ipython",
    "version": 3
   },
   "file_extension": ".py",
   "mimetype": "text/x-python",
   "name": "python",
   "nbconvert_exporter": "python",
   "pygments_lexer": "ipython3",
   "version": "3.6.1"
  }
 },
 "nbformat": 4,
 "nbformat_minor": 2
}
