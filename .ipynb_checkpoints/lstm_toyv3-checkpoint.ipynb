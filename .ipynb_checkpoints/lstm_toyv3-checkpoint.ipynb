{
 "cells": [
  {
   "cell_type": "code",
   "execution_count": 1,
   "metadata": {
    "collapsed": true
   },
   "outputs": [],
   "source": [
    "# this is a toy lstm example to play with time series data in tensorflow\n",
    "# currently it takes an input sequence and returns softmax ( linear ( output( for each time step t))\n",
    "# note : if you get rnn error, try restarting the kernel\n",
    "\n",
    "# to do : batching , padding and BLSTM\n",
    "# status : batching : done "
   ]
  },
  {
   "cell_type": "code",
   "execution_count": 2,
   "metadata": {
    "collapsed": true
   },
   "outputs": [],
   "source": [
    "import tensorflow as tf\n",
    "from __future__ import print_function\n",
    "from tensorflow.contrib import rnn\n",
    "import numpy as np"
   ]
  },
  {
   "cell_type": "code",
   "execution_count": 3,
   "metadata": {
    "collapsed": true
   },
   "outputs": [],
   "source": [
    "hello = tf.constant('Hello, TensorFlow!')"
   ]
  },
  {
   "cell_type": "code",
   "execution_count": 4,
   "metadata": {
    "collapsed": true
   },
   "outputs": [],
   "source": [
    "sess = tf.Session()"
   ]
  },
  {
   "cell_type": "code",
   "execution_count": 5,
   "metadata": {},
   "outputs": [
    {
     "name": "stdout",
     "output_type": "stream",
     "text": [
      "b'Hello, TensorFlow!'\n"
     ]
    }
   ],
   "source": [
    "print(sess.run(hello))"
   ]
  },
  {
   "cell_type": "code",
   "execution_count": 6,
   "metadata": {
    "collapsed": true
   },
   "outputs": [],
   "source": [
    "# Training Parameters\n",
    "learning_rate = 0.001\n",
    "training_steps = 10000\n",
    "batch_size = 128\n",
    "display_step = 200\n",
    "\n",
    "# Network Parameters\n",
    "num_input = 28 # MNIST data input (img shape: 28*28)\n",
    "timesteps = 28 # timesteps\n",
    "num_hidden = 128 # hidden layer num of features\n",
    "num_classes = 10 # MNIST total classes (0-9 digits)\n",
    "\n",
    "# tf Graph input\n",
    "X = tf.placeholder(\"float\", [None, timesteps, num_input])\n",
    "Y = tf.placeholder(\"float\", [None, num_classes])"
   ]
  },
  {
   "cell_type": "code",
   "execution_count": 7,
   "metadata": {
    "collapsed": true
   },
   "outputs": [],
   "source": [
    "# Define weights\n",
    "weights = {\n",
    "    'out': tf.Variable(tf.random_normal([batch_size,num_hidden, num_classes]))\n",
    "}\n",
    "biases = {\n",
    "    'out': tf.Variable(tf.random_normal([num_classes]))\n",
    "}"
   ]
  },
  {
   "cell_type": "code",
   "execution_count": 8,
   "metadata": {
    "collapsed": true
   },
   "outputs": [],
   "source": [
    "def RNN(x, weights, biases):\n",
    "\n",
    "    # Prepare data shape to match `rnn` function requirements\n",
    "    # Current data input shape: (batch_size, timesteps, n_input)\n",
    "    # Required shape: 'timesteps' tensors list of shape (batch_size, n_input)\n",
    "\n",
    "    # Unstack to get a list of 'timesteps' tensors of shape (batch_size, n_input)\n",
    "    x = tf.unstack(x, timesteps, 1)\n",
    "\n",
    "    # Define a lstm cell with tensorflow\n",
    "    lstm_cell = rnn.BasicLSTMCell(num_hidden, forget_bias=1.0)\n",
    "\n",
    "    # Get lstm cell output\n",
    "    outputs, states = rnn.static_rnn(lstm_cell, x, dtype=tf.float32)\n",
    "    \n",
    "    #convert output shape (timesteps * batch * classes ) to (batch*timesteps*classes)\n",
    "    outputs=tf.transpose( outputs , [1, 0, 2])\n",
    "    \n",
    "    #print(outputs)\n",
    "    #temp=tf.convert_to_tensor(outputs)[:,-1,:]\n",
    "    \n",
    "   # temp=temp[:,-1,:]\n",
    "    #return outputs\n",
    "    return tf.matmul(outputs, weights['out']) + biases['out']\n",
    "   # return tf.nn.softmax(tf.matmul(outputs, weights['out']) + biases['out'])"
   ]
  },
  {
   "cell_type": "code",
   "execution_count": 9,
   "metadata": {},
   "outputs": [],
   "source": [
    "logits = RNN(X, weights, biases)\n",
    "#prediction = tf.nn.softmax(logits)"
   ]
  },
  {
   "cell_type": "code",
   "execution_count": 10,
   "metadata": {
    "collapsed": true
   },
   "outputs": [],
   "source": [
    "init = tf.global_variables_initializer()"
   ]
  },
  {
   "cell_type": "code",
   "execution_count": 13,
   "metadata": {
    "collapsed": true
   },
   "outputs": [],
   "source": [
    "input_x = np.random.rand(128,28,28)"
   ]
  },
  {
   "cell_type": "code",
   "execution_count": 15,
   "metadata": {},
   "outputs": [
    {
     "name": "stdout",
     "output_type": "stream",
     "text": [
      "[[[  2.22952819e+00  -3.06881022e+00   4.00362849e-01 ...,  -4.97769952e-01\n",
      "    -1.69417286e+00  -3.47506547e+00]\n",
      "  [  2.52452493e+00  -3.40289855e+00  -1.95264339e-01 ...,  -1.03886247e+00\n",
      "    -1.63200760e+00  -4.24965620e+00]\n",
      "  [  2.58966732e+00  -3.28062844e+00  -4.21074986e-01 ...,  -1.38853025e+00\n",
      "    -1.67522430e+00  -4.55037308e+00]\n",
      "  ..., \n",
      "  [  1.94108379e+00  -2.54905343e+00  -1.39694619e+00 ...,  -1.41750073e+00\n",
      "    -2.06053138e+00  -4.93211460e+00]\n",
      "  [  1.54872203e+00  -2.12838411e+00  -1.60038662e+00 ...,  -1.13339901e+00\n",
      "    -2.01431727e+00  -4.74815178e+00]\n",
      "  [  1.92157793e+00  -2.16250348e+00  -1.57279897e+00 ...,  -1.35253763e+00\n",
      "    -2.01440835e+00  -4.84818602e+00]]\n",
      "\n",
      " [[  2.35518026e+00  -2.84293842e+00   1.15610111e+00 ...,   5.89838922e-01\n",
      "    -7.70360589e-01  -2.90745187e+00]\n",
      "  [  2.06470776e+00  -3.41316724e+00   1.15084553e+00 ...,   1.30619574e+00\n",
      "    -2.91041613e-01  -3.21785259e+00]\n",
      "  [  1.76640761e+00  -3.09352875e+00   1.28393781e+00 ...,   1.58308864e+00\n",
      "    -3.37615252e-01  -3.17586946e+00]\n",
      "  ..., \n",
      "  [  1.82271421e+00  -4.19003820e+00   3.91848087e-02 ...,   1.37176406e+00\n",
      "    -6.79698765e-01  -2.89893627e+00]\n",
      "  [  1.80857563e+00  -3.68261862e+00   7.26325810e-01 ...,   1.21219659e+00\n",
      "    -8.51254940e-01  -2.64548469e+00]\n",
      "  [  1.69914365e+00  -4.21547985e+00   1.13955939e+00 ...,   1.52871776e+00\n",
      "    -2.36862540e-01  -2.33484340e+00]]\n",
      "\n",
      " [[  2.41210771e+00  -2.80781436e+00  -2.64011860e-01 ...,   1.86544895e-01\n",
      "    -8.17928195e-01  -3.04195547e+00]\n",
      "  [  2.52117538e+00  -3.05053306e+00  -9.40914869e-01 ...,   7.55204976e-01\n",
      "    -3.06658268e-01  -2.95127845e+00]\n",
      "  [  2.50405598e+00  -2.85661817e+00  -1.41738629e+00 ...,   7.91850865e-01\n",
      "    -2.29121208e-01  -3.09792805e+00]\n",
      "  ..., \n",
      "  [  3.21246624e+00  -3.37297535e+00  -1.57756138e+00 ...,   1.78056169e+00\n",
      "     1.66748881e+00  -2.25428343e+00]\n",
      "  [  3.47791672e+00  -3.31794453e+00  -1.62599587e+00 ...,   1.90489602e+00\n",
      "     1.56877327e+00  -1.76894283e+00]\n",
      "  [  3.80267930e+00  -3.03711700e+00  -1.56891561e+00 ...,   1.76174319e+00\n",
      "     1.64036822e+00  -2.09916735e+00]]\n",
      "\n",
      " ..., \n",
      " [[  2.32206631e+00  -3.15049553e+00   3.14425111e-01 ...,   4.14902925e-01\n",
      "    -2.25895691e+00  -3.26417089e+00]\n",
      "  [  2.07412982e+00  -3.68670511e+00  -1.54902339e-01 ...,   5.60709536e-01\n",
      "    -2.94355536e+00  -3.78468513e+00]\n",
      "  [  2.07196474e+00  -3.86956763e+00   4.75287437e-03 ...,   6.19766533e-01\n",
      "    -2.97107506e+00  -3.93159890e+00]\n",
      "  ..., \n",
      "  [  1.72256541e+00  -3.96200061e+00   3.51994157e-01 ...,   7.41698861e-01\n",
      "    -3.44010353e+00  -4.20907497e+00]\n",
      "  [  1.75087345e+00  -3.50188208e+00   7.33558714e-01 ...,   7.17434108e-01\n",
      "    -3.26894903e+00  -4.36081219e+00]\n",
      "  [  1.77433884e+00  -3.03286600e+00   6.26673222e-01 ...,   9.96668994e-01\n",
      "    -3.31967402e+00  -3.94561911e+00]]\n",
      "\n",
      " [[  2.10820794e+00  -3.38160825e+00   1.44883883e+00 ...,   3.60814989e-01\n",
      "    -1.57450175e+00  -3.98810077e+00]\n",
      "  [  1.79324889e+00  -3.59952784e+00   1.75186598e+00 ...,   3.53296041e-01\n",
      "    -2.21511221e+00  -4.81359339e+00]\n",
      "  [  1.42473173e+00  -3.40381145e+00   2.07955170e+00 ...,   9.53782260e-01\n",
      "    -2.62428713e+00  -5.64470673e+00]\n",
      "  ..., \n",
      "  [  5.43372750e-01  -4.24036694e+00   1.73331797e+00 ...,   2.02453923e+00\n",
      "    -2.24807262e+00  -7.41913939e+00]\n",
      "  [  5.90787292e-01  -4.64580631e+00   1.28241277e+00 ...,   1.83688891e+00\n",
      "    -2.17952108e+00  -7.31348276e+00]\n",
      "  [  8.08450699e-01  -4.82703018e+00   1.65835977e+00 ...,   1.74104869e+00\n",
      "    -2.24804091e+00  -7.74536467e+00]]\n",
      "\n",
      " [[  2.98536992e+00  -2.84587169e+00   1.39637899e+00 ...,  -8.48469079e-01\n",
      "    -1.34945166e+00  -3.82424116e+00]\n",
      "  [  2.85001540e+00  -2.95543361e+00   1.33235347e+00 ...,  -8.93568993e-01\n",
      "    -1.18546200e+00  -3.47922206e+00]\n",
      "  [  3.09724760e+00  -3.15349436e+00   8.05003762e-01 ...,  -1.00880897e+00\n",
      "    -1.25643170e+00  -3.96652031e+00]\n",
      "  ..., \n",
      "  [  2.55157375e+00  -3.17798066e+00   4.44743931e-01 ...,  -1.17293525e+00\n",
      "    -8.51708174e-01  -5.18712330e+00]\n",
      "  [  2.84463096e+00  -3.39800978e+00   3.54700685e-01 ...,  -1.35529506e+00\n",
      "    -7.77831376e-01  -5.32578278e+00]\n",
      "  [  2.78080153e+00  -3.18599463e+00   6.24407351e-01 ...,  -1.75876009e+00\n",
      "    -5.14718890e-01  -5.21467733e+00]]]\n"
     ]
    }
   ],
   "source": [
    "with tf.Session() as sess:\n",
    "\n",
    "    # Run the initializer\n",
    "    sess.run(init)\n",
    "    \n",
    "    \n",
    "    \n",
    "    final=np.array(sess.run(logits, feed_dict={X: input_x}))\n",
    "    print(final)"
   ]
  },
  {
   "cell_type": "code",
   "execution_count": 29,
   "metadata": {},
   "outputs": [
    {
     "data": {
      "text/plain": [
       "(28, 28)"
      ]
     },
     "execution_count": 29,
     "metadata": {},
     "output_type": "execute_result"
    }
   ],
   "source": []
  },
  {
   "cell_type": "code",
   "execution_count": null,
   "metadata": {
    "collapsed": true
   },
   "outputs": [],
   "source": []
  }
 ],
 "metadata": {
  "kernelspec": {
   "display_name": "tf_orange",
   "language": "python",
   "name": "tf_orange"
  },
  "language_info": {
   "codemirror_mode": {
    "name": "ipython",
    "version": 3
   },
   "file_extension": ".py",
   "mimetype": "text/x-python",
   "name": "python",
   "nbconvert_exporter": "python",
   "pygments_lexer": "ipython3",
   "version": "3.6.1"
  }
 },
 "nbformat": 4,
 "nbformat_minor": 2
}
