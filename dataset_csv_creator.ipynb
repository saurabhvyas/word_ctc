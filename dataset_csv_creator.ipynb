{
 "cells": [
  {
   "cell_type": "code",
   "execution_count": 22,
   "metadata": {
    "collapsed": true
   },
   "outputs": [],
   "source": [
    "# simple notebook to create a csv file , given a bunch of wav files and corresponding transcriptions ( same name ) in same \n",
    "# folder\n",
    "\n",
    "# note, this file assumes, folder has all .wav files mono channel , to convert it into suitable format\n",
    "# find convert_mp3_to_wav.sh and copy its command, and run in dataset folder\n",
    "\n"
   ]
  },
  {
   "cell_type": "code",
   "execution_count": 1,
   "metadata": {
    "collapsed": true
   },
   "outputs": [],
   "source": [
    "import glob, os\n",
    "import csv\n",
    "\n",
    "dir_name = \"/home/saurabh/Downloads/audio2/Audio\"\n",
    "os.chdir(dir_name)"
   ]
  },
  {
   "cell_type": "code",
   "execution_count": 2,
   "metadata": {
    "collapsed": true
   },
   "outputs": [],
   "source": [
    "def read_transcription_txt(file):\n",
    "    with open(file, 'r') as myfile:\n",
    "        data=myfile.read().replace('\\n', '')\n",
    "        return data"
   ]
  },
  {
   "cell_type": "code",
   "execution_count": 3,
   "metadata": {
    "collapsed": true
   },
   "outputs": [],
   "source": [
    "temp_list=[]\n",
    "\n",
    "def create_csv():\n",
    "    \n",
    "    \n",
    "   \n",
    " for file in glob.glob(\"*.txt\"):\n",
    "    #print(file)\n",
    "    \n",
    "    \n",
    "    wav_string= dir_name + file.replace(\".txt\",\".wav\")\n",
    "    print(wav_string)\n",
    "    \n",
    "    #temp_list.append(file + ',' + wav_string)\n",
    "    \n",
    "    temp_name = dir_name + '/' + file\n",
    "    \n",
    "    \n",
    "    \n",
    "    transcription = read_transcription_txt(temp_name)\n",
    "    \n",
    "    #print(transcription)\n",
    "    \n",
    "    temp_list.append([wav_string, transcription])\n",
    "    \n",
    "    "
   ]
  },
  {
   "cell_type": "code",
   "execution_count": 4,
   "metadata": {},
   "outputs": [
    {
     "name": "stdout",
     "output_type": "stream",
     "text": [
      "/home/saurabh/Downloads/audio2/Audio88.wav\n",
      "/home/saurabh/Downloads/audio2/Audio26.wav\n",
      "/home/saurabh/Downloads/audio2/Audio98.wav\n",
      "/home/saurabh/Downloads/audio2/Audio63.wav\n",
      "/home/saurabh/Downloads/audio2/Audio74.wav\n",
      "/home/saurabh/Downloads/audio2/Audio65.wav\n",
      "/home/saurabh/Downloads/audio2/Audio79.wav\n",
      "/home/saurabh/Downloads/audio2/Audio81.wav\n",
      "/home/saurabh/Downloads/audio2/Audio52.wav\n",
      "/home/saurabh/Downloads/audio2/Audio92.wav\n",
      "/home/saurabh/Downloads/audio2/Audio49.wav\n",
      "/home/saurabh/Downloads/audio2/Audio35.wav\n",
      "/home/saurabh/Downloads/audio2/Audio19.wav\n",
      "/home/saurabh/Downloads/audio2/Audio17.wav\n",
      "/home/saurabh/Downloads/audio2/Audio76.wav\n",
      "/home/saurabh/Downloads/audio2/Audio42.wav\n",
      "/home/saurabh/Downloads/audio2/Audio70.wav\n",
      "/home/saurabh/Downloads/audio2/Audio50.wav\n",
      "/home/saurabh/Downloads/audio2/Audio91.wav\n",
      "/home/saurabh/Downloads/audio2/Audio51.wav\n",
      "/home/saurabh/Downloads/audio2/Audio2.wav\n",
      "/home/saurabh/Downloads/audio2/Audio84.wav\n",
      "/home/saurabh/Downloads/audio2/Audio77.wav\n",
      "/home/saurabh/Downloads/audio2/Audio4.wav\n",
      "/home/saurabh/Downloads/audio2/Audio90.wav\n",
      "/home/saurabh/Downloads/audio2/Audio43.wav\n",
      "/home/saurabh/Downloads/audio2/Audio36.wav\n",
      "/home/saurabh/Downloads/audio2/Audio24.wav\n",
      "/home/saurabh/Downloads/audio2/Audio22.wav\n",
      "/home/saurabh/Downloads/audio2/Audio68.wav\n",
      "/home/saurabh/Downloads/audio2/Audio47.wav\n",
      "/home/saurabh/Downloads/audio2/Audio85.wav\n",
      "/home/saurabh/Downloads/audio2/Audio46.wav\n",
      "/home/saurabh/Downloads/audio2/Audio29.wav\n",
      "/home/saurabh/Downloads/audio2/Audio56.wav\n",
      "/home/saurabh/Downloads/audio2/Audio60.wav\n",
      "/home/saurabh/Downloads/audio2/Audio23.wav\n",
      "/home/saurabh/Downloads/audio2/Audio20.wav\n",
      "/home/saurabh/Downloads/audio2/Audio25.wav\n",
      "/home/saurabh/Downloads/audio2/Audio55.wav\n",
      "/home/saurabh/Downloads/audio2/Audio66.wav\n",
      "/home/saurabh/Downloads/audio2/Audio86.wav\n",
      "/home/saurabh/Downloads/audio2/Audio93.wav\n",
      "/home/saurabh/Downloads/audio2/Audio59.wav\n",
      "/home/saurabh/Downloads/audio2/Audio61.wav\n",
      "/home/saurabh/Downloads/audio2/Audio82.wav\n",
      "/home/saurabh/Downloads/audio2/Audio96.wav\n",
      "/home/saurabh/Downloads/audio2/Audio14.wav\n",
      "/home/saurabh/Downloads/audio2/Audio33.wav\n",
      "/home/saurabh/Downloads/audio2/Audio31.wav\n",
      "/home/saurabh/Downloads/audio2/Audio83.wav\n",
      "/home/saurabh/Downloads/audio2/Audio78.wav\n",
      "/home/saurabh/Downloads/audio2/Audio32.wav\n",
      "/home/saurabh/Downloads/audio2/Audio12.wav\n",
      "/home/saurabh/Downloads/audio2/Audio69.wav\n",
      "/home/saurabh/Downloads/audio2/Audio39.wav\n",
      "/home/saurabh/Downloads/audio2/Audio44.wav\n",
      "/home/saurabh/Downloads/audio2/Audio21.wav\n",
      "/home/saurabh/Downloads/audio2/Audio97.wav\n",
      "/home/saurabh/Downloads/audio2/Audio28.wav\n",
      "/home/saurabh/Downloads/audio2/Audio38.wav\n",
      "/home/saurabh/Downloads/audio2/Audio45.wav\n",
      "/home/saurabh/Downloads/audio2/Audio58.wav\n",
      "/home/saurabh/Downloads/audio2/Audio18.wav\n",
      "/home/saurabh/Downloads/audio2/Audio62.wav\n",
      "/home/saurabh/Downloads/audio2/Audio57.wav\n",
      "/home/saurabh/Downloads/audio2/Audio75.wav\n",
      "/home/saurabh/Downloads/audio2/Audio54.wav\n"
     ]
    },
    {
     "ename": "UnicodeDecodeError",
     "evalue": "'utf-8' codec can't decode byte 0x93 in position 0: invalid start byte",
     "output_type": "error",
     "traceback": [
      "\u001b[0;31m---------------------------------------------------------------------------\u001b[0m",
      "\u001b[0;31mUnicodeDecodeError\u001b[0m                        Traceback (most recent call last)",
      "\u001b[0;32m<ipython-input-4-f0c264a1cca7>\u001b[0m in \u001b[0;36m<module>\u001b[0;34m()\u001b[0m\n\u001b[0;32m----> 1\u001b[0;31m \u001b[0mcreate_csv\u001b[0m\u001b[0;34m(\u001b[0m\u001b[0;34m)\u001b[0m\u001b[0;34m\u001b[0m\u001b[0m\n\u001b[0m\u001b[1;32m      2\u001b[0m \u001b[0;34m\u001b[0m\u001b[0m\n\u001b[1;32m      3\u001b[0m \u001b[0mdataset_len\u001b[0m \u001b[0;34m=\u001b[0m \u001b[0mlen\u001b[0m\u001b[0;34m(\u001b[0m\u001b[0mtemp_list\u001b[0m\u001b[0;34m)\u001b[0m\u001b[0;34m\u001b[0m\u001b[0m\n\u001b[1;32m      4\u001b[0m \u001b[0;34m\u001b[0m\u001b[0m\n\u001b[1;32m      5\u001b[0m \u001b[0mprint\u001b[0m\u001b[0;34m(\u001b[0m\u001b[0mdataset_len\u001b[0m\u001b[0;34m)\u001b[0m\u001b[0;34m\u001b[0m\u001b[0m\n",
      "\u001b[0;32m<ipython-input-3-e97bac55c4bd>\u001b[0m in \u001b[0;36mcreate_csv\u001b[0;34m()\u001b[0m\n\u001b[1;32m     18\u001b[0m \u001b[0;34m\u001b[0m\u001b[0m\n\u001b[1;32m     19\u001b[0m \u001b[0;34m\u001b[0m\u001b[0m\n\u001b[0;32m---> 20\u001b[0;31m     \u001b[0mtranscription\u001b[0m \u001b[0;34m=\u001b[0m \u001b[0mread_transcription_txt\u001b[0m\u001b[0;34m(\u001b[0m\u001b[0mtemp_name\u001b[0m\u001b[0;34m)\u001b[0m\u001b[0;34m\u001b[0m\u001b[0m\n\u001b[0m\u001b[1;32m     21\u001b[0m \u001b[0;34m\u001b[0m\u001b[0m\n\u001b[1;32m     22\u001b[0m     \u001b[0;31m#print(transcription)\u001b[0m\u001b[0;34m\u001b[0m\u001b[0;34m\u001b[0m\u001b[0m\n",
      "\u001b[0;32m<ipython-input-2-09a888f6f577>\u001b[0m in \u001b[0;36mread_transcription_txt\u001b[0;34m(file)\u001b[0m\n\u001b[1;32m      1\u001b[0m \u001b[0;32mdef\u001b[0m \u001b[0mread_transcription_txt\u001b[0m\u001b[0;34m(\u001b[0m\u001b[0mfile\u001b[0m\u001b[0;34m)\u001b[0m\u001b[0;34m:\u001b[0m\u001b[0;34m\u001b[0m\u001b[0m\n\u001b[1;32m      2\u001b[0m     \u001b[0;32mwith\u001b[0m \u001b[0mopen\u001b[0m\u001b[0;34m(\u001b[0m\u001b[0mfile\u001b[0m\u001b[0;34m,\u001b[0m \u001b[0;34m'r'\u001b[0m\u001b[0;34m)\u001b[0m \u001b[0;32mas\u001b[0m \u001b[0mmyfile\u001b[0m\u001b[0;34m:\u001b[0m\u001b[0;34m\u001b[0m\u001b[0m\n\u001b[0;32m----> 3\u001b[0;31m         \u001b[0mdata\u001b[0m\u001b[0;34m=\u001b[0m\u001b[0mmyfile\u001b[0m\u001b[0;34m.\u001b[0m\u001b[0mread\u001b[0m\u001b[0;34m(\u001b[0m\u001b[0;34m)\u001b[0m\u001b[0;34m.\u001b[0m\u001b[0mreplace\u001b[0m\u001b[0;34m(\u001b[0m\u001b[0;34m'\\n'\u001b[0m\u001b[0;34m,\u001b[0m \u001b[0;34m''\u001b[0m\u001b[0;34m)\u001b[0m\u001b[0;34m\u001b[0m\u001b[0m\n\u001b[0m\u001b[1;32m      4\u001b[0m         \u001b[0;32mreturn\u001b[0m \u001b[0mdata\u001b[0m\u001b[0;34m\u001b[0m\u001b[0m\n",
      "\u001b[0;32m/home/saurabh/anaconda3/lib/python3.6/codecs.py\u001b[0m in \u001b[0;36mdecode\u001b[0;34m(self, input, final)\u001b[0m\n\u001b[1;32m    319\u001b[0m         \u001b[0;31m# decode input (taking the buffer into account)\u001b[0m\u001b[0;34m\u001b[0m\u001b[0;34m\u001b[0m\u001b[0m\n\u001b[1;32m    320\u001b[0m         \u001b[0mdata\u001b[0m \u001b[0;34m=\u001b[0m \u001b[0mself\u001b[0m\u001b[0;34m.\u001b[0m\u001b[0mbuffer\u001b[0m \u001b[0;34m+\u001b[0m \u001b[0minput\u001b[0m\u001b[0;34m\u001b[0m\u001b[0m\n\u001b[0;32m--> 321\u001b[0;31m         \u001b[0;34m(\u001b[0m\u001b[0mresult\u001b[0m\u001b[0;34m,\u001b[0m \u001b[0mconsumed\u001b[0m\u001b[0;34m)\u001b[0m \u001b[0;34m=\u001b[0m \u001b[0mself\u001b[0m\u001b[0;34m.\u001b[0m\u001b[0m_buffer_decode\u001b[0m\u001b[0;34m(\u001b[0m\u001b[0mdata\u001b[0m\u001b[0;34m,\u001b[0m \u001b[0mself\u001b[0m\u001b[0;34m.\u001b[0m\u001b[0merrors\u001b[0m\u001b[0;34m,\u001b[0m \u001b[0mfinal\u001b[0m\u001b[0;34m)\u001b[0m\u001b[0;34m\u001b[0m\u001b[0m\n\u001b[0m\u001b[1;32m    322\u001b[0m         \u001b[0;31m# keep undecoded input until the next call\u001b[0m\u001b[0;34m\u001b[0m\u001b[0;34m\u001b[0m\u001b[0m\n\u001b[1;32m    323\u001b[0m         \u001b[0mself\u001b[0m\u001b[0;34m.\u001b[0m\u001b[0mbuffer\u001b[0m \u001b[0;34m=\u001b[0m \u001b[0mdata\u001b[0m\u001b[0;34m[\u001b[0m\u001b[0mconsumed\u001b[0m\u001b[0;34m:\u001b[0m\u001b[0;34m]\u001b[0m\u001b[0;34m\u001b[0m\u001b[0m\n",
      "\u001b[0;31mUnicodeDecodeError\u001b[0m: 'utf-8' codec can't decode byte 0x93 in position 0: invalid start byte"
     ]
    }
   ],
   "source": [
    "create_csv()\n",
    "\n",
    "dataset_len = len(temp_list)\n",
    "\n",
    "print(dataset_len)"
   ]
  },
  {
   "cell_type": "code",
   "execution_count": 5,
   "metadata": {},
   "outputs": [
    {
     "name": "stdout",
     "output_type": "stream",
     "text": [
      "[['/home/saurabh/Downloads/audio2/Audio88.wav', 'Paris attacks suspect'], ['/home/saurabh/Downloads/audio2/Audio26.wav', 'Nokia 7 Plus Specifications'], ['/home/saurabh/Downloads/audio2/Audio98.wav', 'Pakistani journalist covers his own wedding'], ['/home/saurabh/Downloads/audio2/Audio63.wav', 'Electric vehicle scene still sketchy'], ['/home/saurabh/Downloads/audio2/Audio74.wav', 'million stake sale in Tata Technologies'], ['/home/saurabh/Downloads/audio2/Audio65.wav', 'French delegation'], ['/home/saurabh/Downloads/audio2/Audio79.wav', \"a solution to a problem that doesn't exist\"], ['/home/saurabh/Downloads/audio2/Audio81.wav', 'judges facing intimidation'], ['/home/saurabh/Downloads/audio2/Audio52.wav', 'ill kids loved puts life into perspective'], ['/home/saurabh/Downloads/audio2/Audio92.wav', 'Turkish President Recep'], ['/home/saurabh/Downloads/audio2/Audio49.wav', 'Cashews can improve good cholesterol levels'], ['/home/saurabh/Downloads/audio2/Audio35.wav', 'Samsung Galaxy S9'], ['/home/saurabh/Downloads/audio2/Audio19.wav', \"A concise look at Darwin's Theory of Evolution and its criticism\"], ['/home/saurabh/Downloads/audio2/Audio17.wav', 'Meditation has limited role in making you a better person'], ['/home/saurabh/Downloads/audio2/Audio76.wav', 'Singtel to invest in Bharti Telecom'], ['/home/saurabh/Downloads/audio2/Audio42.wav', 'Are you over 50?'], ['/home/saurabh/Downloads/audio2/Audio70.wav', 'diesel at all-time high in Delhi'], ['/home/saurabh/Downloads/audio2/Audio50.wav', \"China's success in cloning monkeys was a victory for hard work\"], ['/home/saurabh/Downloads/audio2/Audio91.wav', 'Chinese Incursions Into India Rose'], ['/home/saurabh/Downloads/audio2/Audio51.wav', 'Cancer Treatment Could Increase Heart Disease Risk'], ['/home/saurabh/Downloads/audio2/Audio2.wav', \"Rover to spend 14 days on moon's surface\"], ['/home/saurabh/Downloads/audio2/Audio84.wav', '49% of Iranians against compulsory veil'], ['/home/saurabh/Downloads/audio2/Audio77.wav', 'Khadi commission seeks compensation from Fabindia'], ['/home/saurabh/Downloads/audio2/Audio4.wav', 'SpaceX Falcon Heavy Poised For Debut Test Launch'], ['/home/saurabh/Downloads/audio2/Audio90.wav', 'Indian-Americans hold rally outside White House'], ['/home/saurabh/Downloads/audio2/Audio43.wav', \"The 'ripple effect' could have a huge impact\"], ['/home/saurabh/Downloads/audio2/Audio36.wav', 'India success propels Chinese smartphones'], ['/home/saurabh/Downloads/audio2/Audio24.wav', '2018 iPhone Models to Exclusively Use Intel Modems'], ['/home/saurabh/Downloads/audio2/Audio22.wav', \"TVS Motor launches India's first connected scooter\"], ['/home/saurabh/Downloads/audio2/Audio68.wav', 'M&M introduces mHAWK engine'], ['/home/saurabh/Downloads/audio2/Audio47.wav', \"'Extinct' medicinal plant\"], ['/home/saurabh/Downloads/audio2/Audio85.wav', '6 tortured arguments Republicans are making'], ['/home/saurabh/Downloads/audio2/Audio46.wav', 'These 4 lifestyle modifications can help you FIGHT cancer!'], ['/home/saurabh/Downloads/audio2/Audio29.wav', 'Hello Airtel postpaid users'], ['/home/saurabh/Downloads/audio2/Audio56.wav', 'Computer Vision Syndrome'], ['/home/saurabh/Downloads/audio2/Audio60.wav', 'Cholera alert in State'], ['/home/saurabh/Downloads/audio2/Audio23.wav', 'Apple raises iPhone prices in India'], ['/home/saurabh/Downloads/audio2/Audio20.wav', 'Who are your friends?'], ['/home/saurabh/Downloads/audio2/Audio25.wav', 'Hyundai Elite i20 facelift India launch confirmed at Auto Expo'], ['/home/saurabh/Downloads/audio2/Audio55.wav', 'Long screen exposure at work'], ['/home/saurabh/Downloads/audio2/Audio66.wav', 'CBI books billionaire'], ['/home/saurabh/Downloads/audio2/Audio86.wav', 'Donald Trump over NHS comments'], ['/home/saurabh/Downloads/audio2/Audio93.wav', 'Time has come to make a Brexit choice'], ['/home/saurabh/Downloads/audio2/Audio59.wav', 'Disturbing trend'], ['/home/saurabh/Downloads/audio2/Audio61.wav', 'announcements may help you save tax'], ['/home/saurabh/Downloads/audio2/Audio82.wav', 'Pakistan government to arrest him'], ['/home/saurabh/Downloads/audio2/Audio96.wav', 'speech sparks backlash'], ['/home/saurabh/Downloads/audio2/Audio14.wav', \"Indian scientists develop world's thinnest material with novel technique\"], ['/home/saurabh/Downloads/audio2/Audio33.wav', 'iBall CompBook Premio'], ['/home/saurabh/Downloads/audio2/Audio31.wav', \"'HTC U12' With 5G Support\"], ['/home/saurabh/Downloads/audio2/Audio83.wav', 'Muslim youngsters to attack'], ['/home/saurabh/Downloads/audio2/Audio78.wav', 'surprise Korean court verdict'], ['/home/saurabh/Downloads/audio2/Audio32.wav', 'Renault Kwid Superhero Edition'], ['/home/saurabh/Downloads/audio2/Audio12.wav', \"World's smallest satellite-carrying rocket launched\"], ['/home/saurabh/Downloads/audio2/Audio69.wav', 'Boeing in talks with Indian Navy'], ['/home/saurabh/Downloads/audio2/Audio39.wav', 'customer who was charged for mobile repair under warranty period'], ['/home/saurabh/Downloads/audio2/Audio44.wav', '20-month-olds ready to go home'], ['/home/saurabh/Downloads/audio2/Audio21.wav', 'Redmi 5 could be launched in India on February 14'], ['/home/saurabh/Downloads/audio2/Audio97.wav', 'UK Man With Autism Accused Of Hacking FBI'], ['/home/saurabh/Downloads/audio2/Audio28.wav', 'now reach out to Xiaomi on WhatsApp'], ['/home/saurabh/Downloads/audio2/Audio38.wav', 'Asus Zenfone 5'], ['/home/saurabh/Downloads/audio2/Audio45.wav', 'children in India not getting vaccinated on time'], ['/home/saurabh/Downloads/audio2/Audio58.wav', \"E-cigarettes 'should be on prescription'\"], ['/home/saurabh/Downloads/audio2/Audio18.wav', 'A four-day meet on Astronomy begins at Hyderabad'], ['/home/saurabh/Downloads/audio2/Audio62.wav', 'Post Budget blues continue'], ['/home/saurabh/Downloads/audio2/Audio57.wav', 'Alarming increase in tobacco related cancer'], ['/home/saurabh/Downloads/audio2/Audio75.wav', 'Bitcoin newbies are getting crushed']]\n"
     ]
    }
   ],
   "source": [
    "print(temp_list)"
   ]
  },
  {
   "cell_type": "code",
   "execution_count": 6,
   "metadata": {
    "collapsed": true
   },
   "outputs": [],
   "source": [
    "def csv_writer(data, path):\n",
    "    \"\"\"\n",
    "    Write data to a CSV file path\n",
    "    \"\"\"\n",
    "    with open(path, \"w\", newline='') as csv_file:\n",
    "        writer = csv.writer(csv_file, delimiter=',')\n",
    "        for line in data:\n",
    "            writer.writerow(line)"
   ]
  },
  {
   "cell_type": "code",
   "execution_count": 26,
   "metadata": {
    "collapsed": true
   },
   "outputs": [],
   "source": [
    "csv_writer(temp_list,'/home/saurabh/Documents/tf_orange/tf_orange/feeny.csv')"
   ]
  },
  {
   "cell_type": "code",
   "execution_count": null,
   "metadata": {
    "collapsed": true
   },
   "outputs": [],
   "source": []
  }
 ],
 "metadata": {
  "kernelspec": {
   "display_name": "tf_orange",
   "language": "python",
   "name": "tf_orange"
  },
  "language_info": {
   "codemirror_mode": {
    "name": "ipython",
    "version": 3
   },
   "file_extension": ".py",
   "mimetype": "text/x-python",
   "name": "python",
   "nbconvert_exporter": "python",
   "pygments_lexer": "ipython3",
   "version": "3.6.1"
  }
 },
 "nbformat": 4,
 "nbformat_minor": 2
}
