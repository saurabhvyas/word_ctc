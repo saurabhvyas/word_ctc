{
 "cells": [
  {
   "cell_type": "code",
   "execution_count": 1,
   "metadata": {
    "collapsed": true
   },
   "outputs": [],
   "source": [
    "#  word level CTC  tensorflow version 1.3\n",
    "\n",
    "# this module requires the following :\n",
    "\n",
    "#  a dataset csv file ( have a look at dataset csv generator)\n",
    "#  a dictionary.txt file ( have a look at dictionary folder)\n",
    "\n",
    "\n",
    "\n",
    "# to do :   \n",
    "#  , testing on realdataset , get rid of fixed batch size , instead use variable batch size  \n",
    "\n",
    "\n",
    "# perform following tests :\n",
    "\n",
    "# 1. variable batch sizes test\n",
    "# 2. GPU test\n",
    "\n",
    "\n",
    "\n",
    "\n",
    "\n",
    "# please change the following according to your system\n",
    "# hyperparameters in this notebook\n",
    "\n",
    "# change paths in this notebook to that corresponding to your system\n",
    "# please note number of audio examples in dataset must be even \n",
    "\n",
    "# peace.\n",
    "\n",
    "\n"
   ]
  },
  {
   "cell_type": "code",
   "execution_count": 2,
   "metadata": {},
   "outputs": [
    {
     "name": "stderr",
     "output_type": "stream",
     "text": [
      "/home/saurabh/anaconda3/lib/python3.6/site-packages/h5py/__init__.py:34: FutureWarning: Conversion of the second argument of issubdtype from `float` to `np.floating` is deprecated. In future, it will be treated as `np.float64 == np.dtype(float).type`.\n",
      "  from ._conv import register_converters as _register_converters\n"
     ]
    }
   ],
   "source": [
    "import tensorflow as tf\n",
    "from __future__ import print_function\n",
    "from tensorflow.contrib import rnn\n",
    "import numpy as np\n",
    "import scipy.io.wavfile as wav\n",
    "from python_speech_features import mfcc\n",
    "from tensorflow.contrib.data import Dataset, Iterator\n",
    "import time\n"
   ]
  },
  {
   "cell_type": "code",
   "execution_count": 3,
   "metadata": {
    "collapsed": true
   },
   "outputs": [],
   "source": [
    "def audio_to_mfcc(fileurl):\n",
    "    rate, sig = wav.read(fileurl)\n",
    "    mfcc_feat = mfcc(sig,rate)\n",
    "#d_mfcc_feat = delta(mfcc_feat, 2)\n",
    "#fbank_feat = logfbank(sig,rate)\n",
    "\n",
    "    return mfcc_feat"
   ]
  },
  {
   "cell_type": "code",
   "execution_count": null,
   "metadata": {
    "collapsed": true
   },
   "outputs": [],
   "source": []
  },
  {
   "cell_type": "code",
   "execution_count": 4,
   "metadata": {
    "collapsed": true
   },
   "outputs": [],
   "source": [
    "inputs = audio_to_mfcc('/home/saurabh/Documents/tf_orange/tf_orange/data/test.wav')"
   ]
  },
  {
   "cell_type": "code",
   "execution_count": 5,
   "metadata": {},
   "outputs": [
    {
     "data": {
      "text/plain": [
       "(299, 13)"
      ]
     },
     "execution_count": 5,
     "metadata": {},
     "output_type": "execute_result"
    }
   ],
   "source": [
    "inputs.shape"
   ]
  },
  {
   "cell_type": "code",
   "execution_count": 6,
   "metadata": {
    "collapsed": true
   },
   "outputs": [],
   "source": [
    "def decode_csv(line):\n",
    "       parsed_line = tf.decode_csv(line, [[\"\"],[\"\"]])\n",
    "       \n",
    "    \n",
    "       \n",
    "       \n",
    "\n",
    "       return parsed_line[0] , parsed_line[1]"
   ]
  },
  {
   "cell_type": "code",
   "execution_count": 7,
   "metadata": {
    "collapsed": true
   },
   "outputs": [],
   "source": [
    "# we also need a fixed vocabulary \n",
    "import re\n",
    "\n",
    "word_dictionary = {}\n",
    "\n",
    "with open(\"words/hardik_words.txt\") as file:\n",
    "    for i , line in enumerate(file):\n",
    "        \n",
    "        line = line.replace(\"\\n\", \"\")\n",
    "        word_dictionary[line] = i\n",
    "\n"
   ]
  },
  {
   "cell_type": "code",
   "execution_count": 8,
   "metadata": {},
   "outputs": [
    {
     "name": "stdout",
     "output_type": "stream",
     "text": [
      "1303\n"
     ]
    }
   ],
   "source": [
    "print(len(word_dictionary))"
   ]
  },
  {
   "cell_type": "code",
   "execution_count": 9,
   "metadata": {
    "collapsed": true
   },
   "outputs": [],
   "source": [
    "\n",
    "\n",
    "\n",
    "def word_to_index(sentence):\n",
    "   \n",
    "    words = sentence.split(' ')\n",
    "    index_list=[]\n",
    "    for word in words:\n",
    "       \n",
    "        if word in word_dictionary:\n",
    "           # print(word)\n",
    "            index_list.insert(len(index_list) , word_dictionary[word])\n",
    "            index_list.insert(len(index_list) , word_dictionary[' '])\n",
    "    index_list.pop()        \n",
    "    return index_list\n",
    "  "
   ]
  },
  {
   "cell_type": "code",
   "execution_count": 10,
   "metadata": {},
   "outputs": [
    {
     "data": {
      "text/plain": [
       "[814, 1302, 65, 1302, 906]"
      ]
     },
     "execution_count": 10,
     "metadata": {},
     "output_type": "execute_result"
    }
   ],
   "source": [
    "word_to_index('this is a test')"
   ]
  },
  {
   "cell_type": "code",
   "execution_count": null,
   "metadata": {
    "collapsed": true
   },
   "outputs": [],
   "source": []
  },
  {
   "cell_type": "code",
   "execution_count": 11,
   "metadata": {
    "collapsed": true
   },
   "outputs": [],
   "source": [
    "# define a function, that pads audio so that audio frames = max frames\n",
    "\n",
    "def pad(input):\n",
    "   # print(input.shape[0])\n",
    "     if input.shape[0] < timesteps:\n",
    "        \n",
    "        diff = timesteps - input.shape[0]\n",
    "        \n",
    "        # pad and return input\n",
    "        return np.pad(input,((0,diff),(0,0)), mode=\"constant\")\n",
    "    \n",
    "     elif input.shape[0] > timesteps:\n",
    "        \n",
    "        return input[:timesteps,:]"
   ]
  },
  {
   "cell_type": "code",
   "execution_count": 12,
   "metadata": {
    "collapsed": true
   },
   "outputs": [],
   "source": [
    "def _read_py_function(audio, label):\n",
    "    audio = audio_to_mfcc(audio)\n",
    "    \n",
    "    if audio.shape[0] < timesteps:\n",
    "        original_length=audio.shape[0]\n",
    "       # print(original_length)\n",
    "    \n",
    "    elif audio.shape[0] >= timesteps:\n",
    "        original_length=timesteps\n",
    "        \n",
    "    \n",
    "    audio=pad(audio)\n",
    "   \n",
    "    return audio ,label, original_length"
   ]
  },
  {
   "cell_type": "code",
   "execution_count": 13,
   "metadata": {},
   "outputs": [
    {
     "name": "stdout",
     "output_type": "stream",
     "text": [
      "WARNING:tensorflow:From <ipython-input-13-467f9fbcaf54>:1: TextLineDataset.__init__ (from tensorflow.contrib.data.python.ops.readers) is deprecated and will be removed in a future version.\n",
      "Instructions for updating:\n",
      "Use `tf.data.TextLineDataset`.\n"
     ]
    }
   ],
   "source": [
    "dataset = tf.contrib.data.TextLineDataset(\"/home/saurabh/Documents/tf_orange/tf_orange/hardik.csv\")\n",
    "dataset=dataset.map(decode_csv)\n",
    "\n",
    "\n",
    "\n",
    "dataset = dataset.map(\n",
    "    lambda audio, label: tuple(tf.py_func(\n",
    "        _read_py_function, [audio, label], [tf.double, label.dtype, tf.int64])))\n",
    "\n",
    "\n",
    "\n",
    "\n",
    "dataset=dataset.batch(2)\n"
   ]
  },
  {
   "cell_type": "code",
   "execution_count": null,
   "metadata": {
    "collapsed": true
   },
   "outputs": [],
   "source": []
  },
  {
   "cell_type": "code",
   "execution_count": 14,
   "metadata": {
    "collapsed": true
   },
   "outputs": [],
   "source": [
    "\n",
    "iterator = dataset.make_initializable_iterator()\n",
    "\n",
    "item = iterator.get_next()"
   ]
  },
  {
   "cell_type": "code",
   "execution_count": 15,
   "metadata": {
    "collapsed": true
   },
   "outputs": [],
   "source": [
    "# this function is required for CTC Loss\n",
    "# for it's input , first convert transcrition / ground truth to number representation \n",
    "\n",
    "def sparse_tuple_from(sequences, dtype=np.int32):\n",
    "    \"\"\"Create a sparse representention of x.\n",
    "    Args:\n",
    "        sequences: a list of lists of type dtype where each element is a sequence\n",
    "    Returns:\n",
    "        A tuple with (indices, values, shape)\n",
    "    \"\"\"\n",
    "    indices = []\n",
    "    values = []\n",
    "\n",
    "    for n, seq in enumerate(sequences):\n",
    "        indices.extend(zip([n]*len(seq), range(len(seq))))\n",
    "        values.extend(seq)\n",
    "\n",
    "    indices = np.asarray(indices, dtype=np.int64)\n",
    "    values = np.asarray(values, dtype=dtype)\n",
    "    shape = np.asarray([len(sequences), np.asarray(indices).max(0)[1]+1], dtype=np.int64)\n",
    "\n",
    "    return indices, values, shape"
   ]
  },
  {
   "cell_type": "code",
   "execution_count": null,
   "metadata": {
    "collapsed": true
   },
   "outputs": [],
   "source": []
  },
  {
   "cell_type": "code",
   "execution_count": 16,
   "metadata": {
    "collapsed": true
   },
   "outputs": [],
   "source": [
    "# Training Parameters\n",
    "learning_rate = 0.01\n",
    "training_steps = 100\n",
    "#batch_size = 2\n",
    "display_step = 200\n",
    "num_features = 13\n",
    "logs_path = '/home/saurabh/Documents/tf_orange/tf_orange/hardik/logs'\n",
    "model_path = '/home/saurabh/Documents/tf_orange/tf_orange/models/hardik/model.ckpt'\n",
    "\n",
    "# Network Parameters\n",
    "\n",
    "timesteps = 300 # timesteps\n",
    "num_hidden = 128 # hidden layer num of features\n",
    "num_classes = len(word_dictionary) + 1 # words.txt , all words plus space word  ( 10001) + CTC symbol (1)\n",
    "\n",
    "\n"
   ]
  },
  {
   "cell_type": "code",
   "execution_count": 17,
   "metadata": {
    "collapsed": true
   },
   "outputs": [],
   "source": [
    "#prediction = tf.nn.softmax(logits)\n",
    "inputs = tf.placeholder(tf.float32, [None, None, num_features])\n",
    "targets = tf.sparse_placeholder(tf.int32)\n",
    "seq_len = tf.placeholder(tf.int32, [None])\n",
    "batch_size = 2\n",
    "\n",
    "#batch_size = tf.placeholder ( tf.int32 )\n"
   ]
  },
  {
   "cell_type": "code",
   "execution_count": 18,
   "metadata": {
    "collapsed": true
   },
   "outputs": [],
   "source": [
    "# Define weights\n",
    "weights = {\n",
    "    'out': tf.Variable(tf.random_normal([ 2 * num_hidden, num_classes]))\n",
    "}\n",
    "biases = {\n",
    "    'out': tf.Variable(tf.random_normal([num_classes]))\n",
    "}"
   ]
  },
  {
   "cell_type": "code",
   "execution_count": 19,
   "metadata": {
    "collapsed": true
   },
   "outputs": [],
   "source": [
    "def RNN(x, weights, biases):\n",
    "\n",
    "    # Prepare data shape to match `rnn` function requirements\n",
    "    # Current data input shape: (batch_size, timesteps, n_input)\n",
    "    # Required shape: 'timesteps' tensors list of shape (batch_size, n_input)\n",
    "\n",
    "    # Unstack to get a list of 'timesteps' tensors of shape (batch_size, n_input)\n",
    "    x = tf.unstack(x, timesteps, 1)\n",
    "\n",
    "    # Define a lstm cell with tensorflow\n",
    "    lstm_cell_fw = rnn.BasicLSTMCell(num_hidden, forget_bias=1.0)\n",
    "    \n",
    "    lstm_cell_bw = rnn.BasicLSTMCell(num_hidden, forget_bias=1.0)\n",
    "\n",
    "    \n",
    "    # Get lstm cell output\n",
    "    outputs, _, _ = rnn.static_bidirectional_rnn(lstm_cell_fw, lstm_cell_bw, x,\n",
    "    dtype=tf.float32)\n",
    "    \n",
    "    #convert output shape (timesteps * batch * classes ) to (batch*timesteps*classes)\n",
    "    outputs=tf.transpose( outputs , [1, 0, 2])\n",
    "    \n",
    "    outputs=tf.reshape(outputs, [-1,2*num_hidden])\n",
    "    \n",
    "  \n",
    "    res =  tf.matmul(outputs, weights['out']) + biases['out']\n",
    "    \n",
    "    res = tf.reshape(res, [batch_size,timesteps,num_classes])\n",
    "    \n",
    "    return res\n",
    "   # return tf.nn.softmax(tf.matmul(outputs, weights['out']) + biases['out'])"
   ]
  },
  {
   "cell_type": "code",
   "execution_count": 20,
   "metadata": {
    "collapsed": true
   },
   "outputs": [],
   "source": [
    "\n",
    "\n",
    "\n",
    "\n",
    "logits = RNN(inputs, weights, biases)\n",
    "\n",
    "loss =  tf.nn.ctc_loss ( targets, logits , seq_len , time_major = False)\n",
    "cost = tf.reduce_mean(loss)\n",
    "optimizer = tf.train.MomentumOptimizer(learning_rate,\n",
    "                                           0.9).minimize(cost)\n",
    "\n",
    "\n",
    "# Option 2: tf.contrib.ctc.ctc_beam_search_decoder\n",
    "    # (it's slower but you'll get better results)\n",
    "decoder_input = tf.transpose(logits, [1, 0, 2])\n",
    "\n",
    "decoded, log_prob = tf.nn.ctc_greedy_decoder(decoder_input, seq_len)\n",
    "\n",
    "    "
   ]
  },
  {
   "cell_type": "code",
   "execution_count": 21,
   "metadata": {
    "collapsed": true
   },
   "outputs": [],
   "source": [
    "# Create a summary to monitor cost tensor\n",
    "tf.summary.scalar(\"loss\", cost)\n",
    "\n",
    "# Merge all summaries into a single op\n",
    "merged_summary_op = tf.summary.merge_all()"
   ]
  },
  {
   "cell_type": "code",
   "execution_count": 22,
   "metadata": {
    "collapsed": true
   },
   "outputs": [],
   "source": [
    "# 'Saver' op to save and restore all the variables\n",
    "saver = tf.train.Saver()"
   ]
  },
  {
   "cell_type": "code",
   "execution_count": 23,
   "metadata": {
    "collapsed": true
   },
   "outputs": [],
   "source": [
    "init = tf.global_variables_initializer()"
   ]
  },
  {
   "cell_type": "code",
   "execution_count": null,
   "metadata": {
    "collapsed": true
   },
   "outputs": [],
   "source": []
  },
  {
   "cell_type": "code",
   "execution_count": 24,
   "metadata": {
    "collapsed": true
   },
   "outputs": [],
   "source": [
    "# need this for decoding word give its index key value \n",
    "\n",
    "def keys_of_value(dct, value):\n",
    "    for k in dct:\n",
    "        if isinstance(dct[k], list):\n",
    "            if value in dct[k]:\n",
    "                return k\n",
    "        else:\n",
    "            if value == dct[k]:\n",
    "                return k"
   ]
  },
  {
   "cell_type": "code",
   "execution_count": 25,
   "metadata": {},
   "outputs": [
    {
     "name": "stdout",
     "output_type": "stream",
     "text": [
      "None\n"
     ]
    }
   ],
   "source": [
    "# testing above function \n",
    "\n",
    "print(keys_of_value(word_dictionary, 2419))"
   ]
  },
  {
   "cell_type": "code",
   "execution_count": 26,
   "metadata": {},
   "outputs": [
    {
     "name": "stdout",
     "output_type": "stream",
     "text": [
      "INFO:tensorflow:Restoring parameters from /home/saurabh/Documents/tf_orange/tf_orange/models/hardik/model.ckpt/2\n"
     ]
    },
    {
     "ename": "InvalidArgumentError",
     "evalue": "Assign requires shapes of both tensors to match. lhs shape= [1304] rhs shape= [493]\n\t [[Node: save/Assign_2 = Assign[T=DT_FLOAT, _class=[\"loc:@Variable_1\"], use_locking=true, validate_shape=true, _device=\"/job:localhost/replica:0/task:0/device:CPU:0\"](Variable_1, save/RestoreV2_2)]]\n\nCaused by op 'save/Assign_2', defined at:\n  File \"/home/saurabh/anaconda3/lib/python3.6/runpy.py\", line 193, in _run_module_as_main\n    \"__main__\", mod_spec)\n  File \"/home/saurabh/anaconda3/lib/python3.6/runpy.py\", line 85, in _run_code\n    exec(code, run_globals)\n  File \"/home/saurabh/anaconda3/lib/python3.6/site-packages/ipykernel_launcher.py\", line 16, in <module>\n    app.launch_new_instance()\n  File \"/home/saurabh/anaconda3/lib/python3.6/site-packages/traitlets/config/application.py\", line 658, in launch_instance\n    app.start()\n  File \"/home/saurabh/anaconda3/lib/python3.6/site-packages/ipykernel/kernelapp.py\", line 477, in start\n    ioloop.IOLoop.instance().start()\n  File \"/home/saurabh/anaconda3/lib/python3.6/site-packages/zmq/eventloop/ioloop.py\", line 177, in start\n    super(ZMQIOLoop, self).start()\n  File \"/home/saurabh/anaconda3/lib/python3.6/site-packages/tornado/ioloop.py\", line 888, in start\n    handler_func(fd_obj, events)\n  File \"/home/saurabh/anaconda3/lib/python3.6/site-packages/tornado/stack_context.py\", line 277, in null_wrapper\n    return fn(*args, **kwargs)\n  File \"/home/saurabh/anaconda3/lib/python3.6/site-packages/zmq/eventloop/zmqstream.py\", line 440, in _handle_events\n    self._handle_recv()\n  File \"/home/saurabh/anaconda3/lib/python3.6/site-packages/zmq/eventloop/zmqstream.py\", line 472, in _handle_recv\n    self._run_callback(callback, msg)\n  File \"/home/saurabh/anaconda3/lib/python3.6/site-packages/zmq/eventloop/zmqstream.py\", line 414, in _run_callback\n    callback(*args, **kwargs)\n  File \"/home/saurabh/anaconda3/lib/python3.6/site-packages/tornado/stack_context.py\", line 277, in null_wrapper\n    return fn(*args, **kwargs)\n  File \"/home/saurabh/anaconda3/lib/python3.6/site-packages/ipykernel/kernelbase.py\", line 283, in dispatcher\n    return self.dispatch_shell(stream, msg)\n  File \"/home/saurabh/anaconda3/lib/python3.6/site-packages/ipykernel/kernelbase.py\", line 235, in dispatch_shell\n    handler(stream, idents, msg)\n  File \"/home/saurabh/anaconda3/lib/python3.6/site-packages/ipykernel/kernelbase.py\", line 399, in execute_request\n    user_expressions, allow_stdin)\n  File \"/home/saurabh/anaconda3/lib/python3.6/site-packages/ipykernel/ipkernel.py\", line 196, in do_execute\n    res = shell.run_cell(code, store_history=store_history, silent=silent)\n  File \"/home/saurabh/anaconda3/lib/python3.6/site-packages/ipykernel/zmqshell.py\", line 533, in run_cell\n    return super(ZMQInteractiveShell, self).run_cell(*args, **kwargs)\n  File \"/home/saurabh/anaconda3/lib/python3.6/site-packages/IPython/core/interactiveshell.py\", line 2717, in run_cell\n    interactivity=interactivity, compiler=compiler, result=result)\n  File \"/home/saurabh/anaconda3/lib/python3.6/site-packages/IPython/core/interactiveshell.py\", line 2821, in run_ast_nodes\n    if self.run_code(code, result):\n  File \"/home/saurabh/anaconda3/lib/python3.6/site-packages/IPython/core/interactiveshell.py\", line 2881, in run_code\n    exec(code_obj, self.user_global_ns, self.user_ns)\n  File \"<ipython-input-22-01d2462a7cf0>\", line 2, in <module>\n    saver = tf.train.Saver()\n  File \"/home/saurabh/anaconda3/lib/python3.6/site-packages/tensorflow/python/training/saver.py\", line 1239, in __init__\n    self.build()\n  File \"/home/saurabh/anaconda3/lib/python3.6/site-packages/tensorflow/python/training/saver.py\", line 1248, in build\n    self._build(self._filename, build_save=True, build_restore=True)\n  File \"/home/saurabh/anaconda3/lib/python3.6/site-packages/tensorflow/python/training/saver.py\", line 1284, in _build\n    build_save=build_save, build_restore=build_restore)\n  File \"/home/saurabh/anaconda3/lib/python3.6/site-packages/tensorflow/python/training/saver.py\", line 765, in _build_internal\n    restore_sequentially, reshape)\n  File \"/home/saurabh/anaconda3/lib/python3.6/site-packages/tensorflow/python/training/saver.py\", line 440, in _AddRestoreOps\n    assign_ops.append(saveable.restore(tensors, shapes))\n  File \"/home/saurabh/anaconda3/lib/python3.6/site-packages/tensorflow/python/training/saver.py\", line 160, in restore\n    self.op.get_shape().is_fully_defined())\n  File \"/home/saurabh/anaconda3/lib/python3.6/site-packages/tensorflow/python/ops/state_ops.py\", line 276, in assign\n    validate_shape=validate_shape)\n  File \"/home/saurabh/anaconda3/lib/python3.6/site-packages/tensorflow/python/ops/gen_state_ops.py\", line 59, in assign\n    use_locking=use_locking, name=name)\n  File \"/home/saurabh/anaconda3/lib/python3.6/site-packages/tensorflow/python/framework/op_def_library.py\", line 787, in _apply_op_helper\n    op_def=op_def)\n  File \"/home/saurabh/anaconda3/lib/python3.6/site-packages/tensorflow/python/framework/ops.py\", line 3160, in create_op\n    op_def=op_def)\n  File \"/home/saurabh/anaconda3/lib/python3.6/site-packages/tensorflow/python/framework/ops.py\", line 1625, in __init__\n    self._traceback = self._graph._extract_stack()  # pylint: disable=protected-access\n\nInvalidArgumentError (see above for traceback): Assign requires shapes of both tensors to match. lhs shape= [1304] rhs shape= [493]\n\t [[Node: save/Assign_2 = Assign[T=DT_FLOAT, _class=[\"loc:@Variable_1\"], use_locking=true, validate_shape=true, _device=\"/job:localhost/replica:0/task:0/device:CPU:0\"](Variable_1, save/RestoreV2_2)]]\n",
     "output_type": "error",
     "traceback": [
      "\u001b[0;31m---------------------------------------------------------------------------\u001b[0m",
      "\u001b[0;31mInvalidArgumentError\u001b[0m                      Traceback (most recent call last)",
      "\u001b[0;32m/home/saurabh/anaconda3/lib/python3.6/site-packages/tensorflow/python/client/session.py\u001b[0m in \u001b[0;36m_do_call\u001b[0;34m(self, fn, *args)\u001b[0m\n\u001b[1;32m   1349\u001b[0m     \u001b[0;32mtry\u001b[0m\u001b[0;34m:\u001b[0m\u001b[0;34m\u001b[0m\u001b[0m\n\u001b[0;32m-> 1350\u001b[0;31m       \u001b[0;32mreturn\u001b[0m \u001b[0mfn\u001b[0m\u001b[0;34m(\u001b[0m\u001b[0;34m*\u001b[0m\u001b[0margs\u001b[0m\u001b[0;34m)\u001b[0m\u001b[0;34m\u001b[0m\u001b[0m\n\u001b[0m\u001b[1;32m   1351\u001b[0m     \u001b[0;32mexcept\u001b[0m \u001b[0merrors\u001b[0m\u001b[0;34m.\u001b[0m\u001b[0mOpError\u001b[0m \u001b[0;32mas\u001b[0m \u001b[0me\u001b[0m\u001b[0;34m:\u001b[0m\u001b[0;34m\u001b[0m\u001b[0m\n",
      "\u001b[0;32m/home/saurabh/anaconda3/lib/python3.6/site-packages/tensorflow/python/client/session.py\u001b[0m in \u001b[0;36m_run_fn\u001b[0;34m(session, feed_dict, fetch_list, target_list, options, run_metadata)\u001b[0m\n\u001b[1;32m   1328\u001b[0m                                    \u001b[0mfeed_dict\u001b[0m\u001b[0;34m,\u001b[0m \u001b[0mfetch_list\u001b[0m\u001b[0;34m,\u001b[0m \u001b[0mtarget_list\u001b[0m\u001b[0;34m,\u001b[0m\u001b[0;34m\u001b[0m\u001b[0m\n\u001b[0;32m-> 1329\u001b[0;31m                                    status, run_metadata)\n\u001b[0m\u001b[1;32m   1330\u001b[0m \u001b[0;34m\u001b[0m\u001b[0m\n",
      "\u001b[0;32m/home/saurabh/anaconda3/lib/python3.6/site-packages/tensorflow/python/framework/errors_impl.py\u001b[0m in \u001b[0;36m__exit__\u001b[0;34m(self, type_arg, value_arg, traceback_arg)\u001b[0m\n\u001b[1;32m    472\u001b[0m             \u001b[0mcompat\u001b[0m\u001b[0;34m.\u001b[0m\u001b[0mas_text\u001b[0m\u001b[0;34m(\u001b[0m\u001b[0mc_api\u001b[0m\u001b[0;34m.\u001b[0m\u001b[0mTF_Message\u001b[0m\u001b[0;34m(\u001b[0m\u001b[0mself\u001b[0m\u001b[0;34m.\u001b[0m\u001b[0mstatus\u001b[0m\u001b[0;34m.\u001b[0m\u001b[0mstatus\u001b[0m\u001b[0;34m)\u001b[0m\u001b[0;34m)\u001b[0m\u001b[0;34m,\u001b[0m\u001b[0;34m\u001b[0m\u001b[0m\n\u001b[0;32m--> 473\u001b[0;31m             c_api.TF_GetCode(self.status.status))\n\u001b[0m\u001b[1;32m    474\u001b[0m     \u001b[0;31m# Delete the underlying status object from memory otherwise it stays alive\u001b[0m\u001b[0;34m\u001b[0m\u001b[0;34m\u001b[0m\u001b[0m\n",
      "\u001b[0;31mInvalidArgumentError\u001b[0m: Assign requires shapes of both tensors to match. lhs shape= [1304] rhs shape= [493]\n\t [[Node: save/Assign_2 = Assign[T=DT_FLOAT, _class=[\"loc:@Variable_1\"], use_locking=true, validate_shape=true, _device=\"/job:localhost/replica:0/task:0/device:CPU:0\"](Variable_1, save/RestoreV2_2)]]",
      "\nDuring handling of the above exception, another exception occurred:\n",
      "\u001b[0;31mInvalidArgumentError\u001b[0m                      Traceback (most recent call last)",
      "\u001b[0;32m<ipython-input-26-1eb0dc6a8e90>\u001b[0m in \u001b[0;36m<module>\u001b[0;34m()\u001b[0m\n\u001b[1;32m      9\u001b[0m \u001b[0;34m\u001b[0m\u001b[0m\n\u001b[1;32m     10\u001b[0m     \u001b[0;31m# Restore model weights from previously saved model\u001b[0m\u001b[0;34m\u001b[0m\u001b[0;34m\u001b[0m\u001b[0m\n\u001b[0;32m---> 11\u001b[0;31m     \u001b[0mload_path\u001b[0m \u001b[0;34m=\u001b[0m \u001b[0msaver\u001b[0m\u001b[0;34m.\u001b[0m\u001b[0mrestore\u001b[0m\u001b[0;34m(\u001b[0m\u001b[0msess\u001b[0m\u001b[0;34m,\u001b[0m \u001b[0mmodel_path\u001b[0m \u001b[0;34m+\u001b[0m  \u001b[0;34m'/2'\u001b[0m \u001b[0;34m)\u001b[0m\u001b[0;34m\u001b[0m\u001b[0m\n\u001b[0m\u001b[1;32m     12\u001b[0m     \u001b[0mprint\u001b[0m\u001b[0;34m(\u001b[0m\u001b[0;34m\"Model restored from file: %s\"\u001b[0m \u001b[0;34m%\u001b[0m \u001b[0mload_path\u001b[0m\u001b[0;34m)\u001b[0m\u001b[0;34m\u001b[0m\u001b[0m\n\u001b[1;32m     13\u001b[0m \u001b[0;34m\u001b[0m\u001b[0m\n",
      "\u001b[0;32m/home/saurabh/anaconda3/lib/python3.6/site-packages/tensorflow/python/training/saver.py\u001b[0m in \u001b[0;36mrestore\u001b[0;34m(self, sess, save_path)\u001b[0m\n\u001b[1;32m   1684\u001b[0m     \u001b[0;32mif\u001b[0m \u001b[0mcontext\u001b[0m\u001b[0;34m.\u001b[0m\u001b[0min_graph_mode\u001b[0m\u001b[0;34m(\u001b[0m\u001b[0;34m)\u001b[0m\u001b[0;34m:\u001b[0m\u001b[0;34m\u001b[0m\u001b[0m\n\u001b[1;32m   1685\u001b[0m       sess.run(self.saver_def.restore_op_name,\n\u001b[0;32m-> 1686\u001b[0;31m                {self.saver_def.filename_tensor_name: save_path})\n\u001b[0m\u001b[1;32m   1687\u001b[0m     \u001b[0;32melse\u001b[0m\u001b[0;34m:\u001b[0m\u001b[0;34m\u001b[0m\u001b[0m\n\u001b[1;32m   1688\u001b[0m       \u001b[0mself\u001b[0m\u001b[0;34m.\u001b[0m\u001b[0m_build_eager\u001b[0m\u001b[0;34m(\u001b[0m\u001b[0msave_path\u001b[0m\u001b[0;34m,\u001b[0m \u001b[0mbuild_save\u001b[0m\u001b[0;34m=\u001b[0m\u001b[0;32mFalse\u001b[0m\u001b[0;34m,\u001b[0m \u001b[0mbuild_restore\u001b[0m\u001b[0;34m=\u001b[0m\u001b[0;32mTrue\u001b[0m\u001b[0;34m)\u001b[0m\u001b[0;34m\u001b[0m\u001b[0m\n",
      "\u001b[0;32m/home/saurabh/anaconda3/lib/python3.6/site-packages/tensorflow/python/client/session.py\u001b[0m in \u001b[0;36mrun\u001b[0;34m(self, fetches, feed_dict, options, run_metadata)\u001b[0m\n\u001b[1;32m    893\u001b[0m     \u001b[0;32mtry\u001b[0m\u001b[0;34m:\u001b[0m\u001b[0;34m\u001b[0m\u001b[0m\n\u001b[1;32m    894\u001b[0m       result = self._run(None, fetches, feed_dict, options_ptr,\n\u001b[0;32m--> 895\u001b[0;31m                          run_metadata_ptr)\n\u001b[0m\u001b[1;32m    896\u001b[0m       \u001b[0;32mif\u001b[0m \u001b[0mrun_metadata\u001b[0m\u001b[0;34m:\u001b[0m\u001b[0;34m\u001b[0m\u001b[0m\n\u001b[1;32m    897\u001b[0m         \u001b[0mproto_data\u001b[0m \u001b[0;34m=\u001b[0m \u001b[0mtf_session\u001b[0m\u001b[0;34m.\u001b[0m\u001b[0mTF_GetBuffer\u001b[0m\u001b[0;34m(\u001b[0m\u001b[0mrun_metadata_ptr\u001b[0m\u001b[0;34m)\u001b[0m\u001b[0;34m\u001b[0m\u001b[0m\n",
      "\u001b[0;32m/home/saurabh/anaconda3/lib/python3.6/site-packages/tensorflow/python/client/session.py\u001b[0m in \u001b[0;36m_run\u001b[0;34m(self, handle, fetches, feed_dict, options, run_metadata)\u001b[0m\n\u001b[1;32m   1126\u001b[0m     \u001b[0;32mif\u001b[0m \u001b[0mfinal_fetches\u001b[0m \u001b[0;32mor\u001b[0m \u001b[0mfinal_targets\u001b[0m \u001b[0;32mor\u001b[0m \u001b[0;34m(\u001b[0m\u001b[0mhandle\u001b[0m \u001b[0;32mand\u001b[0m \u001b[0mfeed_dict_tensor\u001b[0m\u001b[0;34m)\u001b[0m\u001b[0;34m:\u001b[0m\u001b[0;34m\u001b[0m\u001b[0m\n\u001b[1;32m   1127\u001b[0m       results = self._do_run(handle, final_targets, final_fetches,\n\u001b[0;32m-> 1128\u001b[0;31m                              feed_dict_tensor, options, run_metadata)\n\u001b[0m\u001b[1;32m   1129\u001b[0m     \u001b[0;32melse\u001b[0m\u001b[0;34m:\u001b[0m\u001b[0;34m\u001b[0m\u001b[0m\n\u001b[1;32m   1130\u001b[0m       \u001b[0mresults\u001b[0m \u001b[0;34m=\u001b[0m \u001b[0;34m[\u001b[0m\u001b[0;34m]\u001b[0m\u001b[0;34m\u001b[0m\u001b[0m\n",
      "\u001b[0;32m/home/saurabh/anaconda3/lib/python3.6/site-packages/tensorflow/python/client/session.py\u001b[0m in \u001b[0;36m_do_run\u001b[0;34m(self, handle, target_list, fetch_list, feed_dict, options, run_metadata)\u001b[0m\n\u001b[1;32m   1342\u001b[0m     \u001b[0;32mif\u001b[0m \u001b[0mhandle\u001b[0m \u001b[0;32mis\u001b[0m \u001b[0;32mNone\u001b[0m\u001b[0;34m:\u001b[0m\u001b[0;34m\u001b[0m\u001b[0m\n\u001b[1;32m   1343\u001b[0m       return self._do_call(_run_fn, self._session, feeds, fetches, targets,\n\u001b[0;32m-> 1344\u001b[0;31m                            options, run_metadata)\n\u001b[0m\u001b[1;32m   1345\u001b[0m     \u001b[0;32melse\u001b[0m\u001b[0;34m:\u001b[0m\u001b[0;34m\u001b[0m\u001b[0m\n\u001b[1;32m   1346\u001b[0m       \u001b[0;32mreturn\u001b[0m \u001b[0mself\u001b[0m\u001b[0;34m.\u001b[0m\u001b[0m_do_call\u001b[0m\u001b[0;34m(\u001b[0m\u001b[0m_prun_fn\u001b[0m\u001b[0;34m,\u001b[0m \u001b[0mself\u001b[0m\u001b[0;34m.\u001b[0m\u001b[0m_session\u001b[0m\u001b[0;34m,\u001b[0m \u001b[0mhandle\u001b[0m\u001b[0;34m,\u001b[0m \u001b[0mfeeds\u001b[0m\u001b[0;34m,\u001b[0m \u001b[0mfetches\u001b[0m\u001b[0;34m)\u001b[0m\u001b[0;34m\u001b[0m\u001b[0m\n",
      "\u001b[0;32m/home/saurabh/anaconda3/lib/python3.6/site-packages/tensorflow/python/client/session.py\u001b[0m in \u001b[0;36m_do_call\u001b[0;34m(self, fn, *args)\u001b[0m\n\u001b[1;32m   1361\u001b[0m         \u001b[0;32mexcept\u001b[0m \u001b[0mKeyError\u001b[0m\u001b[0;34m:\u001b[0m\u001b[0;34m\u001b[0m\u001b[0m\n\u001b[1;32m   1362\u001b[0m           \u001b[0;32mpass\u001b[0m\u001b[0;34m\u001b[0m\u001b[0m\n\u001b[0;32m-> 1363\u001b[0;31m       \u001b[0;32mraise\u001b[0m \u001b[0mtype\u001b[0m\u001b[0;34m(\u001b[0m\u001b[0me\u001b[0m\u001b[0;34m)\u001b[0m\u001b[0;34m(\u001b[0m\u001b[0mnode_def\u001b[0m\u001b[0;34m,\u001b[0m \u001b[0mop\u001b[0m\u001b[0;34m,\u001b[0m \u001b[0mmessage\u001b[0m\u001b[0;34m)\u001b[0m\u001b[0;34m\u001b[0m\u001b[0m\n\u001b[0m\u001b[1;32m   1364\u001b[0m \u001b[0;34m\u001b[0m\u001b[0m\n\u001b[1;32m   1365\u001b[0m   \u001b[0;32mdef\u001b[0m \u001b[0m_extend_graph\u001b[0m\u001b[0;34m(\u001b[0m\u001b[0mself\u001b[0m\u001b[0;34m)\u001b[0m\u001b[0;34m:\u001b[0m\u001b[0;34m\u001b[0m\u001b[0m\n",
      "\u001b[0;31mInvalidArgumentError\u001b[0m: Assign requires shapes of both tensors to match. lhs shape= [1304] rhs shape= [493]\n\t [[Node: save/Assign_2 = Assign[T=DT_FLOAT, _class=[\"loc:@Variable_1\"], use_locking=true, validate_shape=true, _device=\"/job:localhost/replica:0/task:0/device:CPU:0\"](Variable_1, save/RestoreV2_2)]]\n\nCaused by op 'save/Assign_2', defined at:\n  File \"/home/saurabh/anaconda3/lib/python3.6/runpy.py\", line 193, in _run_module_as_main\n    \"__main__\", mod_spec)\n  File \"/home/saurabh/anaconda3/lib/python3.6/runpy.py\", line 85, in _run_code\n    exec(code, run_globals)\n  File \"/home/saurabh/anaconda3/lib/python3.6/site-packages/ipykernel_launcher.py\", line 16, in <module>\n    app.launch_new_instance()\n  File \"/home/saurabh/anaconda3/lib/python3.6/site-packages/traitlets/config/application.py\", line 658, in launch_instance\n    app.start()\n  File \"/home/saurabh/anaconda3/lib/python3.6/site-packages/ipykernel/kernelapp.py\", line 477, in start\n    ioloop.IOLoop.instance().start()\n  File \"/home/saurabh/anaconda3/lib/python3.6/site-packages/zmq/eventloop/ioloop.py\", line 177, in start\n    super(ZMQIOLoop, self).start()\n  File \"/home/saurabh/anaconda3/lib/python3.6/site-packages/tornado/ioloop.py\", line 888, in start\n    handler_func(fd_obj, events)\n  File \"/home/saurabh/anaconda3/lib/python3.6/site-packages/tornado/stack_context.py\", line 277, in null_wrapper\n    return fn(*args, **kwargs)\n  File \"/home/saurabh/anaconda3/lib/python3.6/site-packages/zmq/eventloop/zmqstream.py\", line 440, in _handle_events\n    self._handle_recv()\n  File \"/home/saurabh/anaconda3/lib/python3.6/site-packages/zmq/eventloop/zmqstream.py\", line 472, in _handle_recv\n    self._run_callback(callback, msg)\n  File \"/home/saurabh/anaconda3/lib/python3.6/site-packages/zmq/eventloop/zmqstream.py\", line 414, in _run_callback\n    callback(*args, **kwargs)\n  File \"/home/saurabh/anaconda3/lib/python3.6/site-packages/tornado/stack_context.py\", line 277, in null_wrapper\n    return fn(*args, **kwargs)\n  File \"/home/saurabh/anaconda3/lib/python3.6/site-packages/ipykernel/kernelbase.py\", line 283, in dispatcher\n    return self.dispatch_shell(stream, msg)\n  File \"/home/saurabh/anaconda3/lib/python3.6/site-packages/ipykernel/kernelbase.py\", line 235, in dispatch_shell\n    handler(stream, idents, msg)\n  File \"/home/saurabh/anaconda3/lib/python3.6/site-packages/ipykernel/kernelbase.py\", line 399, in execute_request\n    user_expressions, allow_stdin)\n  File \"/home/saurabh/anaconda3/lib/python3.6/site-packages/ipykernel/ipkernel.py\", line 196, in do_execute\n    res = shell.run_cell(code, store_history=store_history, silent=silent)\n  File \"/home/saurabh/anaconda3/lib/python3.6/site-packages/ipykernel/zmqshell.py\", line 533, in run_cell\n    return super(ZMQInteractiveShell, self).run_cell(*args, **kwargs)\n  File \"/home/saurabh/anaconda3/lib/python3.6/site-packages/IPython/core/interactiveshell.py\", line 2717, in run_cell\n    interactivity=interactivity, compiler=compiler, result=result)\n  File \"/home/saurabh/anaconda3/lib/python3.6/site-packages/IPython/core/interactiveshell.py\", line 2821, in run_ast_nodes\n    if self.run_code(code, result):\n  File \"/home/saurabh/anaconda3/lib/python3.6/site-packages/IPython/core/interactiveshell.py\", line 2881, in run_code\n    exec(code_obj, self.user_global_ns, self.user_ns)\n  File \"<ipython-input-22-01d2462a7cf0>\", line 2, in <module>\n    saver = tf.train.Saver()\n  File \"/home/saurabh/anaconda3/lib/python3.6/site-packages/tensorflow/python/training/saver.py\", line 1239, in __init__\n    self.build()\n  File \"/home/saurabh/anaconda3/lib/python3.6/site-packages/tensorflow/python/training/saver.py\", line 1248, in build\n    self._build(self._filename, build_save=True, build_restore=True)\n  File \"/home/saurabh/anaconda3/lib/python3.6/site-packages/tensorflow/python/training/saver.py\", line 1284, in _build\n    build_save=build_save, build_restore=build_restore)\n  File \"/home/saurabh/anaconda3/lib/python3.6/site-packages/tensorflow/python/training/saver.py\", line 765, in _build_internal\n    restore_sequentially, reshape)\n  File \"/home/saurabh/anaconda3/lib/python3.6/site-packages/tensorflow/python/training/saver.py\", line 440, in _AddRestoreOps\n    assign_ops.append(saveable.restore(tensors, shapes))\n  File \"/home/saurabh/anaconda3/lib/python3.6/site-packages/tensorflow/python/training/saver.py\", line 160, in restore\n    self.op.get_shape().is_fully_defined())\n  File \"/home/saurabh/anaconda3/lib/python3.6/site-packages/tensorflow/python/ops/state_ops.py\", line 276, in assign\n    validate_shape=validate_shape)\n  File \"/home/saurabh/anaconda3/lib/python3.6/site-packages/tensorflow/python/ops/gen_state_ops.py\", line 59, in assign\n    use_locking=use_locking, name=name)\n  File \"/home/saurabh/anaconda3/lib/python3.6/site-packages/tensorflow/python/framework/op_def_library.py\", line 787, in _apply_op_helper\n    op_def=op_def)\n  File \"/home/saurabh/anaconda3/lib/python3.6/site-packages/tensorflow/python/framework/ops.py\", line 3160, in create_op\n    op_def=op_def)\n  File \"/home/saurabh/anaconda3/lib/python3.6/site-packages/tensorflow/python/framework/ops.py\", line 1625, in __init__\n    self._traceback = self._graph._extract_stack()  # pylint: disable=protected-access\n\nInvalidArgumentError (see above for traceback): Assign requires shapes of both tensors to match. lhs shape= [1304] rhs shape= [493]\n\t [[Node: save/Assign_2 = Assign[T=DT_FLOAT, _class=[\"loc:@Variable_1\"], use_locking=true, validate_shape=true, _device=\"/job:localhost/replica:0/task:0/device:CPU:0\"](Variable_1, save/RestoreV2_2)]]\n"
     ]
    }
   ],
   "source": [
    "# retrain from a checkpoint\n",
    "# if training first time, ignore this block\n",
    "\n",
    "with tf.Session() as sess:\n",
    "    \n",
    "\n",
    "    # Run the initializer\n",
    "    sess.run(init)\n",
    "        \n",
    "    # Restore model weights from previously saved model\n",
    "    load_path = saver.restore(sess, model_path +  '/2' )\n",
    "    print(\"Model restored from file: %s\" % load_path)\n",
    "    \n",
    "    # op to write logs to Tensorboard\n",
    "    summary_writer = tf.summary.FileWriter(logs_path, graph=tf.get_default_graph())\n",
    "\n",
    "    # Training cycle\n",
    "    for epoch in range(training_steps):\n",
    "     #   avg_cost = 0.\n",
    "           # Save model weights to disk\n",
    "        save_path = saver.save(sess, model_path +  '/2')\n",
    "        print(\"Model saved in file: %s\" % save_path) \n",
    "        \n",
    "        \n",
    "        sess.run(iterator.initializer)\n",
    "        train_cost=0\n",
    "        \n",
    "        while True:\n",
    "            try:\n",
    "                Next_element=sess.run(item)\n",
    "             \n",
    "            \n",
    "                 \n",
    "                print(Next_element[1])   \n",
    "                \n",
    "                batch_list = []\n",
    "                \n",
    " \n",
    "                for index,j in enumerate(Next_element[1]):\n",
    "                    batch_list.insert(index, word_to_index(j.decode(\"utf-8\")))\n",
    "                    \n",
    "                \n",
    "                batch_targets = sparse_tuple_from(batch_list)\n",
    "                \n",
    "                print(Next_element[2])\n",
    "                \n",
    "                feed = {inputs: Next_element[0],\n",
    "                        targets: batch_targets,\n",
    "                        seq_len: Next_element[2],\n",
    "                         }\n",
    "\t    \n",
    "\n",
    "                batch_cost, _ , summary = sess.run([cost, optimizer , merged_summary_op ], feed)\n",
    "               # print(batch_cost)\n",
    "                \n",
    "                train_cost += batch_cost*batch_size\n",
    "                \n",
    "                \n",
    "                # Write logs at every iteration\n",
    "                summary_writer.add_summary(summary, epoch )\n",
    "                \n",
    "                 # Decoding\n",
    "                d = sess.run(decoded[0], feed_dict=feed)\n",
    "   \n",
    "                dense_decoded = tf.sparse_tensor_to_dense(d, default_value=-1).eval(session=sess)\n",
    "    \n",
    "                for i, seq in enumerate(dense_decoded):\n",
    "\n",
    "                    seq = [s for s in seq if s != -1]\n",
    "       \n",
    "                    str_decoded = ''.join([keys_of_value(word_dictionary, x) for x in seq ])\n",
    "                    print(str_decoded)\n",
    "            \n",
    "              \n",
    "            except tf.errors.OutOfRangeError:\n",
    "              print(train_cost)\n",
    "              \n",
    "              \n",
    "              break\n",
    "                \n",
    "        # Save model weights to disk at the end of all epochs, if we remove this last epoch doesnt gets saved\n",
    "    save_path = saver.save(sess, model_path +  '/2')\n",
    "    print(\"Model saved in file: %s\" % save_path)        \n",
    "    \n",
    "    "
   ]
  },
  {
   "cell_type": "code",
   "execution_count": 27,
   "metadata": {},
   "outputs": [
    {
     "name": "stdout",
     "output_type": "stream",
     "text": [
      "Model saved in file: /home/saurabh/Documents/tf_orange/tf_orange/models/hardik/model.ckpt\n",
      "[b'Flexible battery inspired by human spine'\n",
      " b'Amateur radio astronomer discovers long-lost satellite']\n",
      "[300 300]\n",
      "humanwedgeshuman\n",
      "humanastronomerhuman\n",
      "[b'community members visit India' b'Moderate Blood Sugar Levels']\n",
      "[300 294]\n",
      "Levels healthit's   forget \n",
      " it's Levels Levels Levels Levels \n",
      "[b'health benefits of pear consumption' b'Fell Asleep With Headache']\n",
      "[300 279]\n",
      " into \n",
      " now bills\n",
      "[b'Woke Up With A British Accent' b\"Don't want to diet?\"]\n",
      "[294 231]\n",
      " \n",
      " chatteringlast LevelsSUV lostgenesingle \n",
      "[b'lose weight by following this simple trick'\n",
      " b'Diarrhoea outbreak in Kolkata']\n",
      "[300 300]\n",
      "  \n",
      "  forget \n",
      "[b\"A concise look at Darwin's Theory of Evolution and its criticism\"\n",
      " b'tax you have to pay']\n",
      "[300 231]\n",
      "\n",
      "\n",
      "[b'Image Makeover Under ' b'100 Per Cent Placement']\n",
      "[231 247]\n",
      "'Extinct''Extinct'\n",
      "Levels\n",
      "[b'Midcap continues to outperform' b\"boost India's energy security\"]\n",
      "[300 300]\n",
      "LevelsbreatheLevels\n",
      "LevelsLevelsLevelsLevels\n",
      "[b\"India's ultra rich spend?\" b'restructured accounts will maintain']\n",
      "[263 294]\n",
      "'Extinct'LevelsTrailhawkLevelsLevelsBudgetastronomerbatteryastronomerSalesLevelsLevelsLevelsLevelsbreakingLevels\n",
      "LevelsratherfloorLevelsit'sLevelsLevelspartLevelspartLevelsyou'rediedyou'reLevelsWorld'syou'rebatteryWorld'sLevelsbatteryLevelsWorld'sbatterybatteryLevelsLevelsLevels\n",
      "[b'board accepts resignation' b'Riding on regulatory win']\n",
      "[279 263]\n",
      "communityit'scutestepscommunityhimcommunityagreementFlipkartwantedFlipkarthimagreementFlipkartwatchingTointoTowatchingFlipkartbatteryme?Flipkartme?breakingme?Placementbreakingme?Januaryme?paywatchingfallingbreakingwatchingimpactastronomercommentsdied5GriskWorld'sSelfietargetedWorld'spleaseBrexitpleasesuccessragepleaseReadyCouncilshowcrowdsfocusLevelsstopresignationAutoTrailhawknowbatterybreakingtobaccodiedbatteryAutoscreenme?AutoastronomerAutodiedastronomerTrailhawkbattery5GnormaldancebreakingwatchingfocusMaximumCorefocusLevelssketchy'Potentiallystakefour-daypartdoesn'tfocusthornspartastronomerpartpleasedirtydancebreakingfocusdirtystaminawasFlipkartwasfocusFlipkartpartJanuaryfocusdanceworldfocusWorld'sworldWorld'sJanuaryrageFacebookbreakingrumbreakingTobreakingmebreakingwinJanuarypartJanuarypartJanuaryragefocusrumbreakingHousefocusRoughrumbreakingseesToormeFabindiaPoisedFabindiaradiochestmebreakingToworldE-cigarettessmallestE-cigarettesdayscannotintocannotReceivingcannotE-cigarettes\n",
      "FabindiafeelingsFBIToluckydecisionsFBIintome?screenme?screenme?screenFlipkartbatterytobaccobatteryparttobaccopartJanuaryoffFlipkartscreenragefocusFlipkartdoesn'tscreenWorld'snormalscreenastronomercloninginteractagreementbatteryGlobalbatteryastronomerpioneeringastronomerwatchingdanceastronomerdanceme?danceme?astronomerdancepoetrysunglassesastronomerdanceastronomerdanceastronomerdanceastronomerbatteryastronomerwindirtyastronomerwinE-cigarettesFacebookE-cigarettesWorld'sthroughastronomerdanceastronomerdanceastronomerdanceastronomerdanceastronomerdanceastronomerdanceastronomerWorld'sastronomerWorld'syou'recloningyou'reworldWorld'sJanuarysaveToNumbersfinalfocusworldTobreakingintodirtyCoreBenchmarkedE-cigarettesCoreFBIintoE-cigarettesdaysE-cigarettesdirtyintoluckydirtyluckyintoReceivingluckyReceivingintosmallestLikelucky\n",
      "[b'Scariest Flight Of My Life' b'bet a million on you']\n",
      "[294 198]\n",
      "sawFBINorthernresignationTheoryWinterheartfocusradiofasterFrenchUpFrenchreducinghimCouncilgameTheoryhimsketchyTheoryscenehimresignationintoTheoryintoIt'sMayluckyIt'sMayluckyMayluckyMay5GmadeYouBudgetMayJanuaryMayrageJanuaryWintermadeJanuarybemadebeMayLikeluckyYouLikepart5GBudgetfocustillallTestletcuteHouseit'sfieldhimrecordnormalCoreComputerfocusmeallBudgetTrailhawkresignationHouseresignationpioneeringMidcapSalesweddingSales5Gbutresignationbut5Gbut5Gbut5GrageweddingLikeJanuarydiedWinterLikeE-cigarettesbutresignationdiedbatteryE-cigarettesbatteryagreementE-cigarettesPuppiespleaseresignationhaveReadymanagementReadymeTelecomagreementUpratherOrangeshouldcouldRoughJanuaryannouncementsdescriptionAayogbutAayogoffcloningscootercloningyou'retimeworldvehicleyou'redoesn'tyou'rebatterybutbatterybutwaitMayyou'reFacebookifpleasecloningyou'reWinterdancerumresignationrumresignationrumresignationTrailhawkworldEliteworldcuteworldresignationhandsBudgetUpEliteDogresignationwatchingSpottedFrenchSpottedmecrowdsmerumspiesnowBenchmarkedallBenchmarkedallBenchmarkedresignationbuyingBenchmarkedbuyingBenchmarkednormalmeCorenowcompromisingnowwarnsTrailhawkresignationnormalresignationstakecannotcancer!World'scannot\n",
      "FBIit'scuteFBIit'schestturnNorthernhimturncutehimfocusPolemewatchingCoreintoresignationintoresignationComputerFBIHouseRoughComputerRoughHousefocusragefocusparttobaccoparttobaccoresignationbreakingJanuaryresignationdoesn'tresignationperspectiveresignationFlipkartsunglassesresignationbuyingresignationJanuaryresignationinvincibleBenchmarkedFlipkartWorld'sstaminaFlipkartJanuarymoveReceivingdoesn'tReceivingJanuarynowcannotscooterbreakingwatchingbreakingvehicleE-cigarettesdirtypricesE-cigarettesdirtyE-cigarettesscooterReceivingE-cigarettesBenchmarkedresignationbreakingbatteryresignationbeatsmoothwillsmoothBhartiSalesbreakingbatterythornsmovewasscooterdirtydancemadeE-cigarettessaidintroducessaidintroducessaidE-cigarettesyou'reragewinTrumpresignationJanuarydirtyFlightdirtyFlightWhatyou'reFlightastronomerFlightdirtyastronomerdirtysaidAutodirtyAutoturnAutocannotBenchmarkedAutodays5GforeverPolelovedallstakelovedfeelingsforeverhandsaliveHousewatchingspacewalkHousewin\n",
      "[b'no way around this' b\"only way now it's through\"]\n",
      "[198 231]\n",
      "spiescutecanesexpansionmovingthisAsusthisresignationFabindiaresignationthisresignationthisbeatCancersmoothbatterysmooththisUpthissketchythis\n",
      "lovedbeatAsusHidingHearhavethisAsushavePoleliftsFabindiaPolehaveFBIFabindialiftsHearthisimpactcreditSalesthisSalesthispioneeringtrickthismidnightyellowletalivethisAayogthisresignationthisletthisresignationthisresignationthisComputerresignationdiedthisbatterynever'shouldSecuritythisCouncil'shouldthisPackagegamesmoothBeatallorPerthisgotthispartition:thisscenethis\n",
      "[b'gonna cry myself to sleep' b'kept you to winter']\n",
      "[263 198]\n",
      "it'sIranrallyYouTheoryneedingresignationINFOresignationdoresignationnormaldelegationliftsyoumidnightpioneeringbatteryalivebatterysmoothmindyoumoveyouresignationvoidtechniqueWestyouresignationyouresignationyouresignationStudenttechniquethefirmhaveyouSalesyouresignationyouresignationyouresignationyouSalesvoidtechniquenovoidnotechniqueresignationvoidresignationyouChristianresignationtroopsseessmoothseesfeelingsresignationBudgetresignationMoondoesn'tresignationstakeCoreresignationstaketrickvehicleresignationtrickresignationGlobalresignationscooterComputerbuyingcustomersmeFabindiastakesmoothspiesbourbongonnayouTurkishtookoffresignationradioresignationwatchingresignationdiedresignationtillresignationFacebookyou'reFacebookyouyou'reyouRoughyouresignationyouresignationyouresignationyouresignationyouturnyouresignationyoujournalistyouresignationyou\n",
      "youFBIcanesyouturnyouturnyouturnresignationyouresignationyouresignationyouresignationyouresignationBudgetresignationcustomerssetupsmallestyouresignationyouSwimmingyou'rescooterRaceOrangesolutionGlobalyouCouldyouElectricWhatyouWesmallestyouQ3youresignationAsyouyou'reYouyouYouAutoyouBudgetyouBudgetyoudiedyouresignationyouOrangeWatchesChristianwarns2017-06-23foreverphoneyounormalyouphoneyouphoneyou\n",
      "[b\"you won't be needing me\" b'not in front of me']\n",
      "[213 198]\n",
      "AsusagainstyouFBIreducingit'sHearyoudangersyouinteractyou'illegal'youworld'sbeyouMilkyseayouandyoufeelingsresignationyouPuppiesscreamsjoyandGlobalyouagreementyouSelfieyoumadeyouspiesyouturnmagneticluckyyou\n",
      "GotHidingworkcanesreducingissuemovinginternetallshootallyoumagneticyouEdition'yougoyounormalyouintroducessmoothyouvehicleyouscooteryoufielddoesn'tmillionresignationyoupartyoupartyoudoesn'tyouTelecomyoucrowdsyouTurkishbutSpottedLikesaveshootcoldshouldboostFeelshouldsaveperspectivelovers'crowdsyoufeelingsaliveyoualivehandsyou\n",
      "[b'catch your tears' b'leave me this way']\n",
      "[182 198]\n",
      "brokenboardit'sWithIndianWithmovingdangerstearsINFOtearsscientiststearsIndianwallstearsscientiststearsatscientiststearsradiotearsPoisedtearsTrumptearsdoesn'ttearsofftearsatstakegotearsOrangetearsReadyTrumpTheorybedtillAndroidTradesuccesssaleUpmodificationsUptearsTheorywatchingTheorymodificationshandstearsmodificationstearsbetweentears'failed'fastersoultearstilltearstillallTheoryEdition'beatratherwalkgametroopsEdition'perspective\n",
      "it'scutedecisionsworkcutelaunchtearsAsustearsNavytearsNavytearsbuyingtearscan'tscreamsifSelfietearsNavytearsNavyifAtNavytearsNavytearsNavytearsNavytearsdoesn'tcoulddoesn'tscooterdoesn'tSelfietearsMilkytearsifGlobalCounciltillsuccessevenCounciltearsevenscootertearsscooterAttearsvehiclebankModelscrowdsWithheartscientistscouldwastearsthornstearstilltearsBudgettearsscootertearsscootertearsscooterAstronomyscooterTrumpcouldscooterTrumpscooterOrangebutNewsshouldhaveheartshouldCouncilI'mmyWithPoisedjournalistTrumptearsrathertearsCameratearsrathertearsradiotears\n",
      "[b'A puddle of water' b'Asus Zenfone 5']\n",
      "[198 300]\n"
     ]
    },
    {
     "name": "stdout",
     "output_type": "stream",
     "text": [
      "broken5warnsgameboard5tears5of5beatofdiamondof5of5Lawmakermindofdiamondof5of5aliveofaliveofdiamondofchest5firm5managementof5ofHelpof5of5of5Counciltears5tears5seestears5tears5tearssoulWhatsAppconsiders\n",
      "5humanmoving5chattering5he5Global5noof5BeatBurningmodifications5Poised5\n",
      "[b'Kill the chattering' b'Keep the voices from screaming']\n",
      "[213 294]\n",
      "homevoidhavethereducingtheKilltheKilloftearsthetearstheofthetearsoftearsoftearsoftearsthetearsoftearsoftheoftearstheofthetearsthetearstheboosttheoftearsoftearsKilltearsrunningjudgesme?BrainhavemissNewsPlanetsmissreducingtearsreducingtearsreducingtearsoftearsoftears\n",
      "ArecellKillopencelltheKilltearsKillModelstheopenKilloftheoftheoftheoftheofthetearsKilltearsKilltearsKilltearsKilltheoftheoftearsoftearsoftheofthetearsthetearsthetearsofKillofthetearstheoftearsoftearsoftearsoftearsoftearswantsKilltearscrowdsthetearsUpboostcurrentKolkataDisturbingwhereastronomerspend?considerswantstears\n",
      "[b'Pull me out' b'the pain is great']\n",
      "[182 231]\n",
      "boardcellKilltheKilltheKilltheKilltheKilltheoftheoftheoftheKilltheKilltheKilltheKilltheKilloftheoftheKillthetechniqueKilltheofKilltheKilltheKilltheoftheKillthetearsKillthecredit'Extinct'humantheKillsoulKillofKillof\n",
      "thegift100humanlovers'breaktheKilltheKilltheKilltheKilltheKilltheKilltheKilltheKilltheKilltheKilltheKilltheKilltheKilltheKilltheKilltheKilltheKilltheKilloftheoftheKillfloattheKilltheKilltheKilltheKill\n",
      "[b'here you are' b'running out of breath']\n",
      "[166 231]\n",
      "humantherunningwherethemovinggreatthegreatthegreatgotgreattheKillgreatPullofgreatKilloftheofthegreatKillmodificationsTakemodificationsgreatarrestlivedlovers'great\n",
      "thegreatthegreattheKillgreatthegreatthegreatthegreatKillgreatKillgreatKillgreatKillgreatKillgreatKillofKilltheheardofmindKillPullrunningKillofPullKillPullastronomerofrunningofgreatofgreatKillgreatofKillgreatthegreatKillgreatKillgreatKillrunningPremioPullacceptswintereverydaygreatchestgreatPullgreatPullgreatKillgreathereKillhumanrunningfinalwintergreatPullofPullrunningKillgreatKillgreatthegreatPull\n",
      "[b'i got stamina' b'i close my eyes']\n",
      "[213 231]\n",
      "PullherePullrunningPullgreatPullrunningKillherePullrunningPullgreatrunninggreatKillPullrunningPullrunninggreatrunningKillPullKillPullthegreatthePullgreatPullgreatthegreatPullthePullKillPullrunninghererunningherePullherePullherePullherePull\n",
      "runninglovers'freezingeyesboardPullgreatPullthePullpeoplethePullrunningPulleyesPulltheKillPullgreatKillPullthePullgreatPullKillPullKillPullrunningPullrunningPullrunningeyesrunningPullrunningeyesPullrunninggreatthePulltherunningPullgreatPullKillgreatrunningKillgreatrunningKillrunningPullrunningKillrunningKillPullgreatKillgreatKillgreatPullheregreathereeyesheregreatthehereeyesherePullgreatPullherePulleyesrunningPullrunningherePulleyesPull\n",
      "[b'another mountain to climb' b\"Don't give up\"]\n",
      "[279 182]\n",
      "eyesfoolfreezingvoideyeshereeyeshereeyeshereeyeshereeyeshereeyeshereeyeshereeyeshereeyesrunningeyeshereeyesrunningeyesrunningeyesrunningeyesrunninghererunninghererunninghererunninghererunninghererunningeyesrunningeyesrunningeyesrunningeyesrunningeyesrunningeyesrunningeyesrunningeyesrunninghererunningeyesrunningeyesrunningeyesrunningeyesrunningeyesrunningeyesrunningeyesrunningeyesrunninghereeyeshereeyeshererunningeyes\n",
      "eyesrunninghumanrunningBitcoineyesrunningeyesrunningeyesrunningeyesrunningeyesrunningeyesrunningeyesrunningeyesrunninghererunningeyesrunningeyesrunningeyesrunninghererunningeyesrunningeyesrunningeyesrunningeyesrunninghererunninghererunningeyesrunningeyesrunningeyesrunningeyesrunningeyeshereeyesrunningeyeshereeyeshere\n",
      "[b\"don't wanna fight anymore\" b'Rough seas will be calm']\n",
      "[231 263]\n",
      "Ohhumanhere hereeyeshereeyeshereeyeshereeyesherewalkeyesPullIntoPullTelecomeyesgiveSwimmingeyesrunningtoughofAutismarrestdriftgiverunningwarnsrunninghereeyesherebeathereeyeshereeyesheregivebeherebehererunningeyeshereeyeshereeyesmodificationseyesWithOhhereeyeshere eyesrunninghererunninghere\n",
      "hereeyesdecisionsrunningeyeshereeyeshereeyeshereeyesrunninghereeyeshereeyesrunninghererunninghererunningheregivehereeyeshereeyeshereeyeshereeyeshereeyeshereeyeshereeyeshereeyeshereeyeshereeyeshereeyeshereeyeshereeyeshereeyeshereeyeshereeyeshereeyeshereeyeshereeyesherebeherebeherebeeyeshereeyesbeeyesbeeyeshereCorerunninghereeyesyouKeeprestructuredhereeyeshereeyeshere\n",
      "[b'we weather the storm' b'dogs playing dead']\n",
      "[231 198]\n",
      "beherebeherebegivebegivebegivebegivebegivebeeyesbeeyesbespendeyesrunningeyesbeeyesherebemyselfbegreenbethebewannabehappilybeheremodificationsbe'Extinct' be\n",
      "be herebeherebegivebeherebegiveheregivebegivebegivebegiveherebegivebegivebePoleeyesgivebegivebegivebeeyeshereeyesherebeheregiverunninghererunningherebehereeyes\n",
      "[b'not worth playing chicken' b'discarding you like broken glass']\n",
      "[213 300]\n",
      "chatteringwasherechatteringgiveweKeepwewannagivewannagivewegivewegivewegivewegivewegivewegivewegivefightgivefightgivefightgivefightgivefightgivewegivefight fight\n",
      "kneesBeatcellchatteringgivebegivewegivewegivebegivefightgivefreegivewegiverunninghumanReadygivehumangotthefallingStatesScariestcrowdsfallingstrivingtheperspectivegivetheTakegivemodificationsgiverecordgamegivefightattacksbeforegive\n",
      "[b'no winners when the die' b\"it's the final dance\"]\n",
      "[247 213]\n",
      "fightplayingwarnsweplayingweplayingnoplayingwelikenolikewelikewelikewelikewelikewefightwefightlikewelikewelikefightweplayingfightplayingfightnowelikewelikewelikewefightwefightwefightwelikewelikewelikefightlikefightlikewefightArefightusual?fightplayingfightplayingfightplayingPremiokidsplayingcheapplayingoffight\n",
      "chatteringfightfloorplayingsmartphonesI'mwelikefightlikewelikefightlikefightlikefightlikefightlikewelikewelikewelikefightnowannanolikenoplayinglikewannawelikewelikewelikewewannawelikewefightwefightweaswefightwelikeMinimumwannawaywelikewelikewannawelikeSpicejetsensorwinterintervention\n",
      "[b\"So don't give up\" b\"just young lovers' romance\"]\n",
      "[182 300]\n",
      "human humannoromancedancenoromancedanceromancenoVisionnowannalikewannalikewannalikewannalikewannanoplayingnoplayingnolikeplayinglikenolikenolikewannalikeplayingnolikeplayingdanceplayingdanceupdancenofightnolikenofightnofightnoplayingnoplayinglikeplayingnolike\n",
      " playingnowheresinglenodanceplayingnoplayingnoplayingnolikenolikenolikenolikenoupdancenoromancenoplayingnoplayinglikenolikeplayinglikeplayinglikeplayingnoplayingnoplayinglikenowannaplayingnoplayinglikenoplayingnolikewannalikenolikenoplayingnoplayingnolikenolikenolikenofightnolikenofightnoromancenoromancenodanceromancedanceromancedanceromancedanceromancedanceromanceMDnodanceromancenofightnolikenoplayingnoplayingno\n",
      "[b'Keep you to Winter' b'Alarming increase in tobacco related cancer']\n",
      "[213 300]\n",
      " no danceno noromancenoromancenoromancenoromancenoromancenoplayingromanceplayingromanceplayingromanceplayingromancenoplayingwannanowannaromancewannaromanceliftromancenoplayingfightplayingnoplayingnoplayingnoplayingnoromancenoplayingromanceplayingromanceplayingromanceplayingnoplayingwannanoplayingnoplayingno\n",
      "romanceplayingromancedancenoromancenoromancenoromancenoromancenoromancenoromancenodancenoplayingnoplayingnoplayingnoplayingnoplayingnoplayingnoplayingnoplayingnoplayingromanceplayingnoplayingnoromancenoplayingnoplayingnoplayingnoplayingnoplayingnoplayingnoplayingnoplayingnoplayingnoplayingnoplayingnoplaying\n",
      "[b\"E-cigarettes 'should be on prescription'\" b'Disturbing trend']\n",
      "[300 263]\n",
      "romance romance romancedanceromancedanceromancedanceromancedanceromancedancefightromance\n",
      "dancechatteringdanceromancedanceromancedanceromanceupromanceupromanceupdanceromanceupromanceupdanceAccentdancefloatupromance\n",
      "[b'Two cosmonauts break record for longest Russian spacewalk'\n",
      " b'Cholera alert in State']\n",
      "[300 279]\n",
      "danceDisturbingupdanceWinterdanceWinterdanceWinterdanceDisturbingdanceDisturbingdanceDisturbingdanceDisturbingupDisturbingdanceupdanceWinterDisturbingWinterDisturbingWinterDisturbingWinterdanceWinterDisturbingWinterDisturbingdanceWinterdanceWinterdanceWinterDisturbingWinterDisturbingWinterDisturbingWinterDisturbingWinterDisturbingWinterDisturbingWinterDisturbingWinterdanceDisturbingdanceDisturbingdanceWinterdanceWinterdanceWinterdanceWinterdanceDisturbingdanceWinterdancefightdanceWinterdanceWinterDisturbingdanceWinterDisturbingWinterDisturbingWinter\n",
      " danceWinterdanceDisturbingWinterDisturbingWinterdanceWinterdanceWinterdanceWinterdanceWinterdanceDisturbingdanceWinterdanceWinterwannaWinterDisturbingWinterDisturbingWinterDisturbingfightDisturbingWinterDisturbingWinteralertWinterdanceDisturbingdanceDisturbingdanceDisturbingWinterdanceWinterDisturbingdanceDisturbingWinterdanceDisturbingdanceDisturbingWinterdanceDisturbingdanceDisturbingdanceDisturbingdanceWinterdanceDisturbingWinterdanceDisturbingWinterdancefightWinterfightWinterdanceDisturbingWinterdanceWinterdanceDisturbingdanceupDisturbingdanceupdanceupDisturbingdanceup\n",
      "[b'announcements may help you save tax' b'Post Budget blues continue']\n",
      "[300 279]\n"
     ]
    },
    {
     "name": "stdout",
     "output_type": "stream",
     "text": [
      "alertdancealert alertWinteralert alertdancealertDisturbingalertDisturbingalertDisturbingdanceDisturbingdancealertDisturbingalertDisturbingalertDisturbingalertDisturbingalertDisturbingalertDisturbingalertDisturbingWinterDisturbingalertDisturbingalertDisturbingalertDisturbingalertDisturbingalertDisturbingWinterDisturbingWinterDisturbingwannaDisturbingwannaDisturbing\n",
      "alert alertWinteralertWinteralertDisturbingalertDisturbingalertDisturbingalertWinterDisturbingwannaalertwannaalertWinterDisturbingalertWinteralertDisturbingWinterDisturbingWinterDisturbingalertwannaWinteralertWinterDisturbingwannaDisturbingalertWinteralertDisturbingalertDisturbingalertDisturbingalertWinteralertWinterDisturbingWinteralertWinteralertDisturbingdanceDisturbingupDisturbingdanceWinterDisturbingalertDisturbingglassupDisturbingupDisturbingupDisturbing\n",
      "[b'Electric vehicle scene still sketchy' b'Tata Motors Q3 profit surges']\n",
      "[300 300]\n",
      "humanalert alertupalertupalertupBudgetalertBudgetalertWinteralertBudgetwannaBudgetalertBudgetalertupalertupalertupglassupalertBudgetalertBudgetalertBudgetwannaBudgetwannaBudgetalertBudgetalertglassupglassupglassupalertBudgetalertBudgetalertwannaBudgetalertBudgetupalertBudgetalertupalertBudgetalertBudgetalert\n",
      " alertBudgetalertfightwannafightdancefightalertBudgetalertBudgetalertBudgetalertBudgetalertBudgetalertBudgetalertupalertBudgetupalertBudgetalertBudgetalertBudgetalertBudgetupalertfightalertfightalertwannaBudgetdancefightprofitfightwannafightwannathefightthewannaWinterwannatonightdancedeafeningBudgetfightBudgetfightalertBudgetalertBudget\n",
      "[b'French delegation' b'CBI books billionaire']\n",
      "[247 294]\n",
      " prescription'BudgetprofitBudgetprofitDisturbingupDisturbingWidespreadBudget BudgetwannaBudgetStateme?BudgetupBudget\n",
      "profitglass BudgetprofitBudgetprofitBudgetprofitBudgetglassBudgetglassBudgetglassupprofitBudgetprofitBudgetprofitglassupBudgetprofitBudgetprofitBudgetBeatprofitBudgetupBudget\n",
      "[b'States not in favour of petrol' b'M&M introduces mHAWK engine']\n",
      "[300 300]\n",
      "profitglassprofitbooksprofitbooksprofitbooksprofitbooksprofitbooksprofitbooksprofitbooksprofitbooksprofitbooksprofitfightbooksfightprofitbooksprofitbooksprofitbooksprofitbooksprofitbooksprofittrickDamageprofitbooksprofitbooksprofitbooksprofitFrenchprofitFrenchbooksprofitfightprofitfightprofitfightprofitvehicleprofitvehicleprofitvehicleprofitbooksprofitbooksprofit\n",
      " vehicleprofit profitvehicleprofitvehicleprofitvehicleprofitvehicleprofitbooksprofitbooksprofitbooksprofitbooksprofitbooksprofitbooksprofitbooksprofitbooksprofitbooksprofitbooksfightprofitbooksprofitbooksprofitbooksprofitbooksprofitbooksprofitBudgetmilitaryscreamingBudgetscreamingprofitgiveprofit\n",
      "[b'Boeing in talks with Indian Navy'\n",
      " b'Dance of galaxies challenges current thinking on cosmology']\n",
      "[300 300]\n",
      " booksFrenchvehicleFrenchvehicleFrenchvehicleFrenchbooksvehiclebooksvehiclebooksvehiclebooksFrenchbooksFrenchbookspetrolbooksFrenchpetrolFrenchpetrolFrenchbooksFrenchbooksFrenchbooksFrenchvehicleFrenchpetrolFrenchbooksFrenchbooksFrenchbookspetrolbooksvehiclebooksvehiclebooksvehiclebooksFrenchbooksFrenchbooksFrenchvehicleFrenchbooksFrenchbooksFrenchpetrolFrenchbooksFrenchpetrolbookspetrolbooksthebookspetrolbooksFrenchbooksFrenchtearsbooksFrenchbooksvehiclebooksvehiclebooksvehiclebooksFrenchbooksFrenchbooksFrenchbooksFrenchbooksFrenchbooksFrenchbooks\n",
      " booksvehiclebooksvehiclebooksvehicleFrenchvehiclebooksFrenchvehicleFrenchvehicleFrenchbooksvehiclebookspetrolbookswannabooksvehiclebooksvehiclebooksvehicleFrenchbooksvehicleFrenchbooksthebooksFrenchbooksFrenchbooksFrenchbooksvehicleFrenchvehicleFrenchbooksvehiclebooksFrenchbooksvehiclebooksvehiclebooksFrenchvehiclefight\n",
      "[b'diesel at all-time high in Delhi' b'These Two Firms Are In Race']\n",
      "[300 300]\n",
      "M&M M&M M&MpetrolFrenchpetrolFrenchpetrolFrenchpetrolFrenchpetrolvehicleFrenchvehicleFrenchvehicleFrenchvehicleFrenchvehicleFrenchvehiclepetrolFrenchvehicleFrenchvehicleFrenchpetrolthepetrolgivepetrolFrenchpetrolFrenchvehicleFrenchvehicleFrenchvehicleFrenchpetrolvehicleFrenchpetrolFrenchpetrolFrenchpetrolFrenchvehicleFrenchvehicleFrenchvehicleFrenchvehicleFrenchvehicleFrenchvehiclepetrolFrenchvehicleFrenchpetrolvehicleFrenchpetrolFrenchpetrolFrenchvehicleFrench\n",
      "Frenchmove FrenchpetrolFrenchpetrolvehiclepetrolvehiclepetrolFrenchpetrolFrenchvehiclepetrolFrenchpetrolFrenchvehicleFrenchvehicleFrenchvehicleFrenchvehicleFrenchvehicleFrenchvehicleFrenchvehicleFrenchvehicleFrenchvehicleFrenchpetrolFrenchpetrolFrenchvehicleFrenchvehicleFrenchvehiclepetrolvehiclepetrolcanespetrolFrenchpetrolFrenchpetrolFrenchpetrolvehicleFrenchvehicleFrenchvehiclepetrolvehiclepetrolFrenchvehicleFrenchsketchyvehicleglassFrenchvehicleglassvehicleglassFrenchvehiclesketchyvehicleFrenchvehiclesketchyglassvehiclesketchyFrenchvehicleIndianvehicleglassFrenchvehicleIndianvehicleFrenchvehicleglassvehicleattacksvehicle\n",
      "[b'Niti Aayog health index' b'Trade setup for Tuesday']\n",
      "[300 294]\n",
      "Indian prescription'petrolIndianpetrolIndianpetrolIndianpetrolIndianpetrolIndianpetrolIndianpetrolNavypetrolIndianpetrolNavyIndianNavyIndianpetrolIndianpetrolIndianpetrolIndianNavyIndianpetrolNavyIndianNavypetrolIndianNavyIndianNavyIndianpetrolNavyIndianNavypetrolNavywannaIndianwannaIndianvehiclepetrolNavyIndianNavypetrolNavypetrolIndianpetrolNavyIndianpetrolIndianNavyvehicleIndianFrenchIndianFrenchIndianNavyIndianNavypetrolIndianNavypetrolIndianNavyIndianNavyIndianFrenchpetrolNavypetrolNavypetrolFrenchpetrolNavyFrenchNavyFrenchNavyuppetrolvehicleFrenchNavyscreenfightNavyFrench IndianFrenchsketchyglasssketchyglasssketchy\n",
      " TradeIndianpetrolIndianpetrolIndianpetrolIndianpetrolIndianpetrolIndianpetrolNavypetrolvehiclepetrolvehicleIndianpetrolIndiansketchyglasssketchyIndiansketchyIndianpetrolIndianpetrolIndianpetrolIndianpetrolIndiansketchypetrolIndianpetrolIndianpetrolIndianpetrolIndianpetrolIndianpetrolIndianpetrolIndianpetrolIndianNavypetrolNavyIndianpetrolNavypetrolIndianpetrolNavypetrolNavypetrolNavyIndianNavyIndianpetrolNavypetrolNavypetrolNavypetrolNavypetrolvehiclepetrolsketchyupsketchyNavyvehicleNavysketchyIndianvehicleNavyconsidersSUVFrenchIndianFrenchvehiclesketchywannaIndianFrenchIndianNavyvehicleNavypetrolIndiansketchy\n",
      "[b'million stake sale in Tata Technologies'\n",
      " b'Bitcoin newbies are getting crushed']\n",
      "[300 300]\n",
      "Trade TradeIndianAayogTradeAayogTradeAayogTradeAayogTradeAayogTradeAayogNavyAayogTradeIndiansketchyTradesketchyIndiansketchyTradeIndianTradeIndianTradesketchy sketchyTrade sketchyTradeIndianTradeIndianTradeIndianTradeIndianAayogTradeAayogTradeIndianTradeAayogTradeAayogIndianAayogIndianAayogIndianAayogIndianAayogTradeIndianTradeIndianfightTradeIndianAayogfightAayogFirmsAayogFirmsgiveFirmsgiveBlunted\n",
      "human humanTwoAayogTradeAayogTradeAayogTradeAayogTradeAayogTradeAayogIndianAayogTradeAayogfightAayogTradeHomePremiohealthmindFirmsgivefightingFirmsAayogTradeAayogFirmsAayogIndianAayogIndianAayogIndianAayogIndianAayogIndianAayogIndianAayogIndianTradeIndianAayogIndianAayogFrenchTradeAayogIndianAayogNavyAayogTradeAayogTradeAayogTradeAayogTradeAayogTradeAayog\n",
      "[b'Singtel to invest in Bharti Telecom'\n",
      " b'Khadi commission seeks compensation from Fabindia']\n",
      "[300 300]\n",
      " areTradeIndianTradesketchyglassTradeglassTradeFirmsTradeFirmsareFirmsTradeFirmsTradeIndianFirmsareIndianareFirmsareTradeareIndianFirmsareFirmsIndianFirmsIndianTradeFirmsTradeareFirmsareFirmsareFirmsareTradeareTradeareTradeareTradeareTradeareTradeareTradeFirmsTradeFirmsTradeareTrade\n",
      " TradesparkshumanTradeIndianTradeareFirmsareFirmsareFirmsareFirmsareFirmsareTradeareTradeFirmsTradeareTradeareTradeareTradeareTradeFirmsareTradeareTradeareFirmssketchyTradeTwoTradesketchyglasssketchyTradeAresketchyglasssketchyglassTradeareTradeareTradeFirmsTradeareTradeareFirmsTradeFirmsTradeglasssketchyTradewhenTrade TradesketchyTradesketchytechniquesetuptearssketchybreathsketchyshapedL2PremiofromIndianfromarefromarefromareIndianareNavyIndianareIndianNavyAayogIndianTradeIndianTradeFirmsTradeFirmsTradeFirmsTrade\n",
      "[b'surprise Korean court verdict'\n",
      " b\"a solution to a problem that doesn't exist\"]\n",
      "[300 300]\n",
      "are areFirmsareTwoare setupTwo AreTwo AreTwo TwoareTelecomareTelecomareFirmsareAreareAre StatessketchyfrommillionyouthwannafrombefromareTechnologiesareFirmsareFirmsareFirmsaretheareTelecomareTelecomareTelecomFirmsTelecomareTechnologiesareFirmsareTechnologies are\n",
      "are fromareIndianareTwoareTwoareTwoareTelecomareFirmsareFirmsareIndianTelecomfromareIndianareFirmsTelecomareFirmsareFirmsareFirmsareFirmsarefromFirmsare\n",
      "[b'Inner Ear Helps Cheetah Run Fast'\n",
      " b'US ban Bitcoin buying with credit cards']\n",
      "[300 300]\n"
     ]
    },
    {
     "name": "stdout",
     "output_type": "stream",
     "text": [
      "from human TwofromTelecomfromTelecomfromTelecomfromTelecomfromTelecomfromTelecomfromTelecomfromTelecomfromTelecomfromTelecomfromTelecomfromTelecomfromTelecomfromTwofromTwofromTwofromTwoTelecomfromTelecomfromTelecomfromTelecomfromTelecom\n",
      " Telecom TwoTelecomfromTelecomfromTelecom setup from TwofromarefromAreTelecomfromTelecomfromTelecomfromTelecomfromTelecomfromTelecomfromTelecomfromTelecomfromTelecomcourtTelecomTechnologiesTelecom\n",
      "[b'judges facing intimidation' b'Pakistan government to arrest him']\n",
      "[300 300]\n",
      " TwofromcourtfromcourtthatfromFirmsthatcourtfromthatFirmsfromthatfromcourtFirmsthatFirmsthatfromthatfromStatescutestmillion fromTwofromcourtfromgrowfromcourtfromthatfrommillionfrommillionfromthatfromthatfromthatfromthatfromthatfromthatfromthatfromthatfromcourtfromTwofromthatfromthatcourtfromcourtfromthatfrombreath\n",
      "fromhumanTwofromTwofromTwocourtfromcourtfrommillionTwosetupfromTwosceneTwocourtfromcourtfromcourtfromcourtfromcourtfromcourtfromcourtgivecourtTechnologiesfromcourtfromcourtTechnologiescourtfromcourtfromthatfromcourtfromcourtfromthatfromthatfromthatcourtfrommillionfrom fromTwocourtfromTwocourtfromthatfromTechnologiesthatfromcourtFirmsthatfromcourtTwofromglassfromwannahide human from\n",
      "[b'Muslim youngsters to attack' b'49% of Iranians against compulsory veil']\n",
      "[300 300]\n",
      "Two tocourttocourttothattothattocourttocourttomillioncourttothatcourtthatcourtthattocourttocourttocourtthattocourttocourtthatcourttocourttocourtAretocourtTwocourttothattothattocourttogivetogivetocourttothattothattothattothattocourttocourtthatcourttocourthealthi20tricktoTechnologiestohumantocourttocourttocourttocourttothat\n",
      " fromtoTwotoTwotocourtTwotocourttoTwotothattocourttothattocourtthattocourtthattothatcourtthattothatcourtthatcourtthatcourttocourtthatcourttocourttoTwotoTwotothatcourtthatcourttothatcourtthatcourtthatcourtthattothattothattocourtthattothattocourtthattocourtthattothattocourttothattocourttomillioncourtTwomilliontocourttocourtStatethattohumanto\n",
      "[b'6 tortured arguments Republicans are making'\n",
      " b'Donald Trump over NHS comments']\n",
      "[300 300]\n",
      "to tomillionto tomilliontomilliontogiveto\n",
      "court to\n",
      "[b'Oil tanker continues to be missing' b'Paris attacks suspect']\n",
      "[300 279]\n",
      "tohuman to toTechnologiestocardstocardstocardstocardstocardstocardstocardstocardstocardstocardstocardstomilliontomilliontomillioncourtmilliontocardstocardstocardstocardstomilliontomilliontocourttocardstocards\n",
      "courtArerecordAre tocardstoTechnologiestocardstomilliontomillionAre tocardstoTechnologiescourtcardsTechnologiescardstocardstoTechnologiesto to toAre toscene court Arecourtmilliontomillion setup million tocardstocardstomilliontosetupcourtmilliontocardstocardstocardstocardstocardstocardsto\n",
      "[b'Chinese shipping firm MD killed'\n",
      " b'Amateur radio astronomer discovers long-lost satellite']\n",
      "[300 300]\n",
      "Twocourt millionTechnologiesmillionTechnologiesmillionTechnologiescourtmillioncommentscourtTechnologiescardsTechnologiescourtTechnologiescommentsmillionsetupmillionArecourtmillioncommentsmillioncommentsmillioncommentsmillioncourtTechnologiescourtTechnologiescommentsTechnologiescommentsTechnologiescommentsTechnologiescommentsTechnologiescommentsTechnologiesTwoStatescourtStatesfinalmillioncourtStatestocommentscardsgivecardscourtcommentsTechnologiescardsTechnologiescardscourtcardscourttocourtcardscourttoTechnologiesFirmsTechnologiescardscourtTechnologiescourtTechnologiescardsTechnologiescardscommentsTechnologiescommentsTechnologiescommentsTechnologiescourtTechnologiescourtTechnologiescourtTechnologiescourtTechnologies\n",
      "Two wastohumancommentsTechnologiescommentsTechnologiescommentsTechnologiescourtTechnologiescourtcommentsmillioncommentsmillioncommentsTechnologiescommentsmillionTechnologiescommentsTechnologiescommentsTechnologiescommentsmillionTechnologiescardsTechnologiescardsTechnologiescardsTechnologiescardsTechnologiescourtcardsTechnologiescourtTechnologiescourtTechnologiescourtTechnologiescourtTechnologiescourtTechnologiescommentsTechnologiescourtTechnologiescommentsTechnologiescommentsTechnologiescardscommentscardsTechnologiescardscommentsTechnologiescommentscourtmillionTwocourtmillionTechnologiescardstocardstoTechnologiescardsTechnologiescardsTechnologiestocardstoTechnologiescardsTechnologiesFirmsTechnologiescourtTechnologiescommentsTechnologies\n",
      "[b'Indian-Americans hold rally outside White House'\n",
      " b'Chinese Incursions Into India Rose']\n",
      "[300 300]\n",
      "phonesTwo human commentsmillioncommentsmillionTwocommentscourtcommentsTechnologiescourtTechnologiescommentscourtcommentsTechnologiescommentshumancourthumanTwomillioncommentsStatesArehumanthatmillionBeatlaunchedsleephumanStatessongStatesthereupheardhumantohumantocommentscardscommentsTechnologiesByhuman5long-lostFirmscommentssetupcommentssetupArecomments setupcommentsmillionTechnologiescourtTechnologies\n",
      "AreTwohumanAreTwomillioncommentsmillioncommentsmillioncommentsmillioncommentsmillioncommentsmillioncommentsmillioncommentscardsTechnologiescommentsmillioncommentsmillionFirmsmillionFirmsmillionFirmsmillioncommentsmillioncommentsmillioncommentsTechnologiescommentsFirmscommentsTechnologiescommentsFirmscomments\n",
      "[b'This gene could prevent heart disease' b'still a problem in India']\n",
      "[300 263]\n",
      "delegationhealthArewashumanUScommentsaUSaTwomillionTwoUSFirmsTwomillionaTwomillionTwomillionaArescenesetupInaFirmsUScommentsInUSStatesmillionFirmsmillionFirmsmillionFirmsmillionFirmsaFirmsmillionFirmsaFirmsaFirmsTechnologieslong-lostcommentscardsIndiancommentscardscommentscardsFirmscardscommentsmillioncardsTechnologiesaTechnologiesUSmillionFirmsmillioncourtFirmsmillioncardsaUSWestcardsUSoperationscardsthatcardsacardsmillioncommentsFirmscommentsFirmsaFirmsaFirmsmillionFirmsaMoveInaInscenesetupWantedEarth's sceneEarth'sstakelived ahealthhumanmodificationsStateshideStates RussianWhatwhereLevels delegationmovingchest\n",
      "a aTwoamillionacommentsaUSaFirmsmillionamillionamillionamillionUSaUSaUSamillionUSmillionamillionFirmsamillionamillionamillionUSmillioncommentsmillionTechnologiesmillionTechnologiescardscommentsTechnologiescommentsacommentsFirmscommentsFirmsmillioncommentsFirmscardsaBluntedacardsaFirmsaTechnologiesmillionamillionamillionFirmsmillionFirmsmillionFirmsmillionFirmsmillionFirmsaUScardscommentsTechnologiesXiaomicouldsurgeshumanprofithumanaFirmsashapedamillionUSmillionUSamillionTwoaUSaFirms\n",
      "[b\"Whales are at 'significant' risk from ocean microplastic\"\n",
      " b'falling victim to diabetes']\n",
      "[300 279]\n",
      "humanaAre ahumanUS USaUSyoungstersUSaUSbreathasetupasetupahealthaUSaStatesasetupaTwoaUSaTwoaTwosetupStatesaUSmillionamillionacouldcardsFirmsahumanacardscouldHouseacouldacouldacouldacouldsketchycouldsketchycouldFirmsUSsetupsceneasetupcouldTwomillioncouldmillioncouldmillionamillioncouldFirmscouldacouldmillioncouldmillioncouldmillioncouldmillionTwocouldFirmsmillionacouldFirmsacurrentascreamingawon'taStatesaHouseathea\n",
      "a human adiabetesUSamillionaFirmsmillioncouldFirmsaInFabindiasceneOhscene aOh InaStatesacouldsceneaTwoaTwoaTwoaTwoaTwoaTwoa\n",
      "[b'Weird Sensation Was A Stray Eyelash'\n",
      " b'Money only buys happiness for a certain amount']\n",
      "[300 300]\n",
      "aUSaUSWhalesUSHouseaUScoulddiabetescoulddiabetesWhalescoulddiabetescouldUSaHousecoulddiabetesHouseaAreahumancouldWhalescouldacoulddiabetescoulddiabetescouldUSdiabetesUSdiabetescoulddiabetescoulddiabetescoulddiabetescouldUSdiabetesadiabetescouldadiabetescoulddiabetesacoulddiabetescoulddiabetesaWhalescouldWhalesInStatesInWhalesdiabetescoulddiabetesmillioncoulddiabetescoulddiabetescoulddiabetescoulddiabetescouldacouldacoulddiabetescoulddiabetescoulddiabetescoulddiabetescould\n",
      "astillWhalesaWhalesaUSadiabetesadiabetescoulddiabetescoulddiabetescoulddiabetescoulddiabetescoulddiabetesadiabetescoulddiabetescoulddiabetescouldacoulddiabetescoulddiabetescoulddiabetesadiabetesacouldacouldacouldHousecouldadiabetesadiabetesadiabetesadiabetesadiabetesacouldacouldUSaWhalesaWhalesliftoffamilyArePoleaWhalesadiabetesacouldacouldadiabetesafeeladiabetesacouldacouldacouldacouldadiabetesacouldHousediabetescoulddiabetescoulddiabetesadiabetesHousediabetes\n",
      "[b'people get aggressive after a drink or two'\n",
      " b'Scientists unearth hope for new antibiotics']\n",
      "[300 300]\n",
      "diabetesa humanbehumanaWhalesadiabetesaWhalesdiabetesWhalesaWhalesadiabetesadiabetesacouldWhalesdiabetesWhalesdiabetesWhalesdiabetesadiabetesWhalesdiabetesWhalesdiabetesWhalesdiabetesWhalesadiabetesadiabetesadiabetesacoulddiabetesWhalesdiabetesrally humancouldadiabeteshumandiabeteshumandiabetescouldadiabetesHouseagiveHousegiveHousegiveHousegiveHousegive3DhumanHousememberscoulddelegationTheBengalVideoStatethatAayogWhalestearsWhalesadiabetesadiabetesadiabetesaWhalesdiabetesWhalesdiabetesWhalesdiabetesadiabetesayouaHouseadiabetesHousediabetesWhalesadiabetesadiabetes\n",
      "TwoWhalesaWhalesaWhalesadiabetesadiabetesadiabetesadiabetesoutsideWhalesdiabetesWhalesdiabetesUSdiabetesacouldadiabetesaWhalesdiabetesWhalesdiabetesstillCompBookWhalesHousediabetesHouseaWhalesHouseWhalesaWhalesaWhalesdiabetesWhalesaWhalesaWhalesadiabetesadiabetesacoulddiabetesacouldadiabetesadiabetesadiabetesHouseadiabetesasurgeslifehumanaantibioticsadiabetesadiabetesaWhalesaWhalesadiabetesaHousecouldHouseWhalesdiabetesWhalesdiabetesHouse\n",
      "[b'Digital scanning technology' b'India opens free camp']\n",
      "[247 294]\n"
     ]
    },
    {
     "name": "stdout",
     "output_type": "stream",
     "text": [
      "antibioticsboardantibioticsboardantibioticsUSWhalesUSWhalesoutsideWhalesoutsideWhalesoutsideWhalesoutsideWhalesdiabetesHouseWhalesantibioticsaWhalesHouseWhalesHouseWhalesHouseWhalesadiabetesHousediabetesantibioticsHouseWhalesantibioticsoutsideantibioticsUSantibioticsWhalesantibioticsWhalesantibioticsHouseoutsidediabetesoutsideacoulddiabetesoutsidediabetesoutsidediabetesWhalessceneHouseWhalestearsthere screamingantibioticshumanUSantibioticsWhalesStatesWhalesantibioticsaWhalestanker\n",
      "file:StatesdelegationantibioticsdelegationaWhalesUSWhalesUSWhalesUSWhalesUSWhalesUSWhalesUSWhalesUSWhalesoutsideWhalesoutsideWhalesoutsideWhalesoutsideWhalesantibioticsHouseantibioticsHouseantibioticsHousediabetesWhalesdiabetesWhalesdiabetesWhalesantibioticsWhalesantibioticsWhalesantibioticsWhalesantibioticsoutsidediabetesWhalesHouseIndiabetes diabetesWhalesdiabetesWhalesaUSadiabetesadiabetesaStatesdiabetesantibioticsaWhalesaWhalesaWhalesdiabetesHouseWhalesoutsideWhalesdiabetesaoutsideUSaoutsideHousehumanHouseantibioticsHouseantibioticsHouseantibioticsHousediabetesantibioticsdiabetesacouldadiabetesUSaUSaHouseagiveLevelshereadiabetesaHouseUSHouseaUSdiabetesHousediabetesHouseadiabetesastronomerdiabetesUSdiabetesantibioticsaUSdiabetesa\n",
      "[b'Kill Cancer By Choking Off Its Life Blood'\n",
      " b'5 Worst Foods For Your Brain']\n",
      "[300 263]\n",
      "antibioticsstillWhaleslovers'antibioticsUSantibioticsoutsideantibioticsUSantibioticsUSantibioticsUSantibioticsUSantibioticsoutsideUSantibioticsoutsideantibioticsoutsideantibioticsoutsideWhalesoutsideantibioticsoutsideHouseantibioticsHouseantibioticsWhalesoutsideantibioticsoutsideantibioticsoutsideantibioticsoutsideantibioticsUSantibioticsoutsideantibioticsUSantibioticsHouseantibioticsUSantibioticsUSantibioticsaantibioticsHouseWhales\n",
      "antibioticshumanantibioticsUSantibioticsscanningantibioticshumanantibioticsoutsidesceneantibioticsgiveantibioticsPoleantibioticsdiabetesWhalessetupWhalestears antibioticsoutsideaUSantibioticscommunityantibioticsmarinesetupHouseantibioticsUSantibioticsUSantibioticstheantibioticsoutsideantibioticsWhalesantibioticsHouseWhalesantibioticsaHouseaHouseantibioticsoutsideantibioticsoutsideantibioticsoutsideHouseantibioticsoutsideantibioticsoutsideantibioticsoutsideTwoantibiotics\n",
      "[b'Swimming in cold water'\n",
      " b\"World's smallest satellite-carrying rocket launched\"]\n",
      "[231 300]\n",
      "antibioticsvaccinatedscanningdelegationscanningantibioticshumanscanningantibioticsscanningopensantibioticsopensantibioticsopensantibioticsopensantibioticsscanningantibioticsHouseantibioticsscanningantibioticsscanningantibioticsscanningantibioticsscanningantibioticsscanningantibioticsscanningantibioticsscanningantibioticsseagiveantibioticsHousescanninggiveantibioticsscanningantibioticsscanningantibioticsIndiaantibioticsscanningIndiascanningwon'tIndiascanningIndiatearsamounttearsmagicalscanningHouseMovescanningPlanetsVivoYeartearsofaantibioticsEclipseaoutsideaoutsideUSscanningstakeantibioticsoutsidestakeUSInstakeopensantibioticsHouseantibioticsUSopensThisopensHouseopensUSopensUSHouseantibioticsStatesHouseoutsideHousescanningoutsideUSoutside\n",
      "antibioticsfoolhumanantibiotics humanHouseantibioticsscanningantibioticsUSantibioticsOffantibioticsopensStatesantibioticsStatesopensHouseUSStatesUSHouseopensStatesopensHouseStatesHouseantibioticsHouseantibioticsHouseantibioticsHouseantibioticsstakeHouseopensantibioticsoutsideantibioticsoutsideantibioticsscanningOffopensscanningOffopensscanningopensantibioticsscanningantibioticsopensantibioticsopensOffopensantibioticsopensoutsideInoutsideantibioticsHouseantibioticsthatantibioticsoutsideantibioticsscanningWhalesscanningWhalesHouseoutsideWhalesoutsideWhalesoutsideWhalessmilescanningsmilesetupsmiledieselwinterWhalesopensstakesmileWhalesStateWhalesscanningWhalesantibioticsHousescanningHousescanningHouseoutsidescanningoutsidescanningantibioticsscanningoutsidescanningoutsidesketchyoutsideWhalesoutsidescanningoutsideHouseoutsideantibiotics\n",
      "[b'alternative to pain killers' b'locations where it will be visible']\n",
      "[279 279]\n",
      "Statesscreamssatellite-carryingFrenchscanningdelegationWhalesscanningopensscanningOffopensOffWhalesopensWhalesopensscanningopensscanningWhalesopensWhalesscanningOffscanningOffscanningOffscanningOffHouseOffscanningOffHouseOffHouseoutsideOffHouseOffHousescanningOffscanningOffoutsideOffopensOffopensOffHouseOffoutsideOffoutsideOffsceneOffsatellite-carryingOffopensOffopensOffstakeOffoutsideOffsketchyOffoutsideOffopensscanningOffscanningOfftechniquescanningLookscanningOffscanningWeirdopensantibioticsstakeopensstakeoutsideOffoutsidestakeFabindiaStatesscanningopensHouseopensoutsideUSHouseUSHouseStatesscanningstakeUSOffscanning\n",
      "scanningemailsscanningOffhumanscanningOffscanningOffscanningOffscanningoutsideOffIndiaOffIndiaOffscanningOffIndiaOffsketchyOffscanningOffsketchyOffopensHousehumanantibioticsopensOffhumanOffopensOffopensOffHousescanningOffFoodsantibioticsOffscanningOffscanningOffoutsideOffscanningOffopensscanningOffInarmorAutoJeepbillsAheadscreamingopensscanningcoldsecretsusual?smileThis\n",
      "[b'Will Astronomers Be Ready' b'Global sea level surging at faster rate']\n",
      "[247 300]\n",
      "humanstakesatellite-carrying satellite-carryingsketchyvisiblesatellite-carryingopensvisiblesketchyvisiblesketchyvisibleOffhumanvisiblesketchyopensstakesketchyOffsketchyopensOffopensHouseInopensinterventionopenscouldInsatellite-carryinglooksatellite-carryingtearssatellite-carryingOffHouseOffHouseOffHouseOffwaterOffwaterOffwaterOffvisibleopensvisibleItsopenssketchyOffsketchyscenesketchyscenesketchyOffopensvisiblesatellite-carryingsketchyOffopensOffopensvisibleopensvisibleopensstakeopensStatesatellite-carryingStatessatellite-carryingwateropensStateswateropenssceneOffopensStatessatellite-carryinghealthIndiavisibleStateswalkvisiblestakeOffopensvisibleIndiavisible\n",
      "IndiaPoleThiswaterscanningsatellite-carryingopensOffopensstakesceneoutsideopensHouseopensItsopensIndiaItsIndiaopenswateropenswateropenswaterItswaterItswateropenssatellite-carryingopenssatellite-carryingFoodsWorstsatellite-carryingIndiavisibleIndiavisibleIndiavisibleIndiavisibleIndiavisibleIndiavisibleIndiaOffvisibleOffsatellite-carrying HouseWorstopenssatellite-carryingopensWorststakeopenssatellite-carryingAutismhumanIndiaOffIndiahumanIndiavisiblesketchyvisibleOffopensOffopensIndiavisibleIndiasceneIndiavisibleIndiaOffIndiaHouseIndiaopensvisibleIndiasatellite-carryingyouthsatellite-carryingIndiawaterOffgivewaterEarth'swatersatellite-carryingwaterdeafeningStatesareSwimmingvisibleopensWorstsatellite-carryingopenssatellite-carrying Worstwateropenssatellite-carryingopenswaterItssatellite-carryingwatersatellite-carrying\n",
      "[b'Elon Musk reacts moments before' b'budget focuses on Moon']\n",
      "[300 300]\n",
      "Keepsatellite-carrying visible satellite-carryingStatessatellite-carryingwateropenswatersatellite-carryingvisiblesatellite-carryingwatersatellite-carryingGlobalpainsatellite-carryingwatersatellite-carryingpainIndiawaterIndiawaterhumanIndiaDancescanningwatervisiblewatersatellite-carryingvisiblewatervisibleIndiavisiblewatersatellite-carryingvisiblewatersatellite-carryingvisiblecutestvisibleKolkataInWorst WorstchatteringWorstRidingstakefinalsatellite-carryingvisiblewatersatellite-carryingpainsatellite-carryingpainsatellite-carryingvisiblesatellite-carryingvisibleIndiawatervisibleWorstvisiblewatersatellite-carryingvisiblewatervisibleopensReadyvisiblewatervisiblewatersatellite-carryingvisiblewatersatellite-carryingvisiblewatersatellite-carryingwatersatellite-carryingvisiblepainvisiblesatellite-carryingvisiblesatellite-carryingvisiblesatellite-carryingvisiblewatervisiblewatersatellite-carryingonIndiavisibleIndiawatervisible\n",
      "satellite-carrying Indiapainsatellite-carryinghumanvisiblewatersatellite-carryingvisiblesatellite-carryingpainsatellite-carryingpainIndiapainvisibleIndiasatellite-carryingIndiasatellite-carryingIndiawatersatellite-carryingwatersatellite-carryingwatersatellite-carryingwatervisiblesatellite-carryingpainvisiblepainThisvisiblewaterpainwatersatellite-carrying coldIndiasatellite-carryingwatersatellite-carryingwatersatellite-carryingItssatellite-carryingItsGlobalItsvisiblesatellite-carryingvisiblesatellite-carryingOffvisiblesatellite-carryingvisiblepainvisiblepainIndiasatellite-carryingIndiasatellite-carryingpainIndiawaterIndiaGlobalIndiaGlobalIndiapainwatervisiblesatellite-carryingwatersatellite-carryingwaterIndiawaterIndiasatellite-carryingwatersatellite-carryingvisiblesatellite-carryingIndiasatellite-carryingvisiblesatellite-carryingIndiasatellite-carryingvisiblesatellite-carryingpainvisiblesatellite-carryingvisiblewayOddanimalwayhumanAutismspiesBrainvisiblesatellite-carryingvisiblepainsatellite-carryingpainsatellite-carryingvisiblewatersatellite-carryingvisibleThissatellite-carryingwaterIndiasatellite-carryingIndiasatellite-carryingwaterhumanvisiblebreath satellite-carryingIndiasatellite-carrying\n",
      "[b'NASA ends pioneering pollution sensor' b'purple total solar eclipse']\n",
      "[300 294]\n"
     ]
    },
    {
     "name": "stdout",
     "output_type": "stream",
     "text": [
      "satellite-carrying Worstpainwateronvisiblewatersatellite-carryingpainsatellite-carryingpainsatellite-carryingvisiblepainvisibleIndiavisibleIndiasatellite-carryingwaterReadywaterpainsatellite-carryinghumanpainhumanpainsatellite-carryingCompBookpainIndiaonIndiaonIndiaontotalGlobalonwaterpainonWorstontotalWorstsatellite-carryingpainsatellite-carryingpainonItspainItssatellite-carryingwatersatellite-carryingpainsatellite-carryingpainwaterpainsensorpainsatellite-carryingsensorwatersatellite-carryingpainIts satellite-carryingwaterReadygiveReadywaterpainwateronpainonpainsatellite-carryingpainGlobalReadyItsReadywaterpainReadyvisiblepainItspainItspainwaterpainwaterReadysatellite-carryingpainsatellite-carryingpainwatersatellite-carryingpainwaterpainwaterpainwaterpainwatersatellite-carryingpainItsIndiayouthsatellite-carryingmomentssatellite-carryingeverydaylaunchedsatellite-carryingavailable\n",
      "satellite-carryingGotIndiaBengal'Extinct'watersatellite-carryingpainIndiasatellite-carryingIndiasatellite-carryingIndiasatellite-carryingIndiapainIndiapainonIndiaonpainIndiapainwaterpainwaterpainwaterpaintotalpainstakepaintotalpainstakepainonsatellite-carryingonsatellite-carryingonsatellite-carryingonpainsatellite-carryingGlobalonpainsatellite-carryingpainsatellite-carryingpainsatellite-carryingwaterpainReadysatellite-carryingpainsatellite-carryingWorstpainsatellite-carryingpainReady3DonIndiaonsatellite-carryingonsatellite-carryingonsatellite-carryingwaterItswater5waterpoliticalwatertotalwatersatellite-carryingItspainReadypainsatellite-carryingwaterReadypainReadywatersatellite-carryingItssatellite-carryingpaintotalpaintotalsatellite-carryingItspainItspainsatellite-carryingpaincoldwaterpainItspainsatellite-carryingwatersatellite-carryingItsvisiblepainwaterpain painWorst Itspain pain WorstInwaterPorschebillshealthwater satellite-carrying MovepainGlobalsatellite-carryingIn\n",
      "[b'launch its satellite internet prototypes'\n",
      " b'marine ecosystem hidden beneath']\n",
      "[300 300]\n",
      "onmomentssensormomentswateronGlobalonGlobalontotalontotalontotalontotalonReadyonReadyonGlobalonGlobalontotalonGlobalonGlobalpainsketchyontotalonReadysensortotal total total total ItssensortotalGlobalonGlobaltotallaunchedtotallaunchedonGloballaunchedontotalonGloballaunchedtotallaunchedtotallaunchedReadytotalontotalontotalontotalpainGlobalpainGlobalsketchypainsketchylaunchedontotalonwateronwateronwatertotalwatertotalontotalontotalGlobaltotalReadytotalontotalon\n",
      "AstronomersdelegationonThiswaterThiswateronGlobalontotalontotalonReadytotalReadyonReadyontotalontotalontotalReadyonReadyonReadyonReadytotalReadyonReadyonReadyontotalReadyontotalReadyonReadyonReadysatellite-carryingsensoronGlobaltotalReadyonReadyontotalReadytotalReadytotalReadyonReadyGlobalpainonIndiaontotalontotalontotalontotalontotalonIndiaReadyonReadyonReadyonReadyonwateronIndiawaterIndiapainhealthsatellite-carryinglaunchedIndiaAstronomers\n",
      "[b'Twist in out-of-Africa theory' b'just sending AI messages']\n",
      "[300 294]\n",
      "sensortotaltearshumansensorhuman sensorReadysensorReadytotalsensorReadysensormomentssensorReadyhuge5totalhiddentotalhiddentotalhiddentotalhiddentotalReadytotalReadysensortotalsensortotalmomentssensorGlobalhiddensensorGlobalsensortotalGlobalsensorhiddenGlobalhiddenGlobalsensorGlobalReadyGlobalReadyGlobalReadyGlobalhiddenGlobalsensorGlobaltotalonReadysensorReadytotalReadyGlobalhiddenGlobaltotalReadyGlobaltotalGlobaltotalGlobalReadyonReadytotalGlobaltotalonGlobaltotalGlobaltotalGlobaltotalGlobaltotalReadyGlobaltotalitsReadyitsReadytotalReadytotalsensorGlobalThis GlobalbrokentotalGlobaltotalGlobaltotalReadytotalReadytotalReadytotalReadyGlobalhiddenGlobalhiddenGlobaltotalReadytotalGlobaltotalhidden\n",
      "sensor sensorStates ThiswatertotalwaterThistotalsensor total totalsensortotalhiddentotalhiddentotalsensorReadytotalsensortotalsensor sensortotalsensortotalsensorGlobaltotalGlobaltotalhiddentotalhiddentotalhiddentotalhiddentotalhiddenGlobaltotalhiddentotalReadysensor sensor sensortotalGlobalhiddenhumanhiddenIndiahiddentotalhiddentotalItssensortotalsensor totalsensortotalsensormomentsscreamingdiabetestotalBeat totaltearshiddenGlobalareWorsthiddenStatesmoments momentspain\n",
      "[b'The crowds are back' b'Are we all alone in the Universe']\n",
      "[247 294]\n",
      "sensor sensor'Extinct'be sending ThisGlobalThis ThishiddensendinghiddenmomentshiddenThishiddenThissensorhiddensensoritstotalitsGlobalitsReadyitsReadymomentsReadyGlobalmomentsGlobalsendingsatellite-carryingitshiddensensorhiddentotalitshiddenReadyhiddentotalhiddentotalsensortotalsensorsendingReadysensoritsReadyendingWhalestrip human itsReadyitssensorReadysensorhiddentotalhiddensensorhiddenmomentssensorhidden sensorhidden hiddensensorhiddentotalsensorhiddensensorhiddensensorsendingIndiasending\n",
      "sendingmomentssensorReadysensorhiddenReadyhiddenReadysensorhiddencalmReadysensorlaunchedsensoritssensoritslauncheditslauncheditslaunchedReadylauncheditssensoritshiddenitsReadyhiddenamountSugarReadyamountReadyasksensoritssensorhumansensoritssensorhiddenitshiddenitsWorsthiddensensorhiddenitssensoritssensoritshiddensensorhiddensensortotalsensortotalsensortotalsensortotalhiddentotalsensorhiddenReadyhiddensensorhiddensensortotalsensortotalsensortotalsensortotalsensortotalsensorhiddensensorReadysensortotalReadytotalsensorReadysensor sendingsensorcoldReadysensorvoiceGlobalcold sensorcoldrocketmomentsstillhiddenitstears WorstInmomentsGlobal \n",
      "[b'Redmi Note 5 launch' b'emails will change the way people interact']\n",
      "[247 300]\n",
      "sensor'Extinct' GotSwimmingsending thissendingthissending sending sensorsendingsensor sensor momentsitssendingitssensorTwistitsUniverseitsmomentshiddensensormomentshiddensensorsendingsensorsendingsensorsendingsensormomentssensorsendinghiddensensorhiddenStudentssendinghiddensendingitsThissendingitshiddenitsreactsitshumanitssensoritssendinghiddensendinghiddensendingitssendingitssendingitssendingsensorhiddenitsmomentssensorsendingsensorsendingmoments itshiddenReadyhiddenReady WorstReadywaterReady Readysending ReadysendingReady sendingbondWorstReady Worststake hiddensending hiddensendingReadysending7sending\n",
      "sendingmomentsitsmomentsitssendingitssendingitssendingitssendingitssendingitssendinghiddensendinghiddensendinghiddensendinghiddenmomentshiddenitshiddenitshiddenitshiddenitssensoritssendingitssensormomentssensorsendingsensorsendinghiddensendinghiddensensorhiddenReadysensorUniversesendinghiddensendinghiddensendinghiddenmomentssendingitshiddenitshiddenitsReadysendingitssendingitssensorsendinghiddensendingitssendinghiddensendinghiddensendinghiddensendinghiddensendinghiddensendingitssendinghiddensendinghiddensendingitssendingitsreactssendingitssurgingReadyWorstpeoplevisiblesurgingsendingIndianbooks lack its\n",
      "[b'Maximum Prepaid Plan' b'Nokia 8 Starts Receiving Android']\n",
      "[263 300]\n",
      "momentsWorst human sendingTwistUniverseTwistUniversesensorUniverseTwistsensorUniverse momentssendingsensorsendingmomentssendingmomentsUniversemomentssendingmomentsTwistUniverseTheUniversesendingmomentshiddenmomentsReadysendingmomentssendingmomentssendingUniversesendingUniversemomentssendingmomentssendingmomentspeoplesendingUniversesendingmomentspeoplemomentssendingUniversepeopleUniverselaunchedmomentsUniversemomentsUniversemomentsUniversemomentsUniversemomentsUniverseitslaunchedtearslaunchedUniverselaunchedUniverseitsUniversesendingUniversesendingUniversesendingUniversemomentssending\n",
      " momentsphonesits sending sending sendingThepeoplesendingTwistpeoplehiddensendingUniversemomentssendingUniverseitsUniverseitsUniverseitsUniversemomentsUniverseitsmomentsUniversemomentsitsUniversesendingUniversesendingUniversesendingmomentsUniversesensorsendingUniversesendingcold sendingmomentssendingindexsending sendingmomentsTwistsensorsendingcoldUniversesendingUniversesendingmomentsTwistsendingUniversesendingTwistUniverseTwistUniverselaunchedUniversemomentslaunchedmomentsUniverse\n",
      "[b'gears up for India expansion' b'Mercedes Benz C Class Revealed']\n",
      "[294 300]\n",
      " WorstUniverse bemoments TheUniversepeoplesendingpeopleIndiaMaximumpeoplesendingMaximumsendingpeopleIndiasendingsurgingsendingIndiapeoplehumanpeoplesurginghumansurgingpeoplehumanUniversepeopleUniversepeopleTwistpeopleUniversepeopleUniverseTheUniverseTwistTheUniversepeoplebreakTwistIndiaTwistIndiaTwistUniverseTwistUniverseTwistUniversepeopleUniverseReadymomentsUniverseReadyUniversemomentspeopleUniversepeopleUniversehumanTwistUniverse UniverseTwistUniverseTwistpeopleIndia UniverseTwistUniverseTwistUniverseTwistpeopleTwistpeopleTwistRedmiitIndiamomentsTwist UniverseTwistUniverseMaximum \n",
      "moments Astronomers sendingpeople people people people people TwistpeopleUniversepeople coldUniverse Twist Twist Universe peopleTwistUniversepeopleUniverseTwistpeoplerocketpeopleUniversepeopleUniversepeopleTwistmoments moments Twistsending Worst sending momentssendingmomentssendingpeopleReadyTwist UniversesendingTwistUniverseIndiapeopleIndiapeople\n",
      "[b'Samsung Galaxy S9 to Feature 3D Emoji'\n",
      " b\"Indian scientists develop world's thinnest material with novel technique\"]\n",
      "[300 300]\n"
     ]
    },
    {
     "name": "stdout",
     "output_type": "stream",
     "text": [
      " Maximum UniverseRedmiUniverse Maximum Twist UniverseIndia people Twist Maximum humanUniverseTwistIndiaTwistWorstTwistWorstsensorTwist Twist Twist humanUniverseIndiaRedmiTwistIndiaTwistIndiaTwistUniversehumanTwistUniverseTheTwisthumanTwistTheTwistpeopleTwistIndiapeopleUniversepeople MaximumIndiaMaximumIndiaMaximumIndiaMaximumUniverse Twist TwistUniverseTwistUniverseTwistUniverseTwistUniverseTwistUniverseTwistRedmiTwistRedmiTwistpeoplemomentsMaximummomentspeopleTwistpeopleTwistMaximumTwistpeopleIndiaTwistIndiaRedmiTheTwistUniverseRedmiTwistRedmiTwistpeopleIndia UniverseIndiaUniverse UniverseIndiaTwistpeopleTwistpeopleIndiaMaximumTwistpeopleTwistUniverse Universe RedmiTwistpeople\n",
      "itsdescription Swimming human Twist peopleRedmi RedmipeopleIndiaRedmi RedmipeopleRedmiTwistIndiaUniversepeopleRedmiTwist peopleRedmipeopleRedmipeople RedmiIndiapeopleIndiaMaximum Maximum TwistUniverseTwistUniversepeopleTheTwistpeopleMaximumpeopleUniversepeople peopleIndia Twist Universe Twist Twist Maximum MaximumTwistMaximumUniverseMaximumUniversepeopleTwistpeopleMaximumTwistpeopleUniversepeopleTwistpeopleUniverseRedmiMaximumUniverseTwistMaximumUniverseMaximumUniverseMaximumIndiaMaximumTheMaximumTwistMaximumTwistUniverseTwist\n",
      "[b\"Google's Reply App Spotted in Testing\"\n",
      " b'Facebook app now available for JioPhone']\n",
      "[300 300]\n",
      " Khadi Redmi Redmi Redmi Redmi Redmi Redmi IndiaTheRedmiIndiaTheRedmiTheIndiaRedmiIndiapeopleIndia Astronomers MaximumAstronomersMaximummomentsMaximumTheMaximumRedmiMaximumTheRedmi India Maximum RedmiUniverseTheMaximumTheMaximumUniverseTheUniverseTheMaximumThesatelliteUniverseTwistUniverseTwistTheRedmiTheRedmiMaximumRedmiMaximumRedmiMaximumRedmiMaximumRedmiMaximumRedmiMaximumIndia MaximumIndia IndiaMaximum \n",
      " India India India IndiaRedmiIndia IndiaMaximumIndia MaximumIndiaMaximumIndiaMaximumTheIndiaTheIndiaTheTwistIndiaUniverseTwistMaximumhuman humanIndiaTwist TwistThehumanTheIndia MaximumRedmiMaximumRedmiTheMaximumTwistTheTwistTheTwistTheIndiaMaximumTheMaximumTheMaximumRedmiTheRedmiWorstMaximumIndiatheoryIndiaRedmiMaximumTheMaximumIndiaUniverseTheUniverseTheUniverseTheUniverseIndiamomentsIndiaMaximumRedmiIndia The Maximum IndiaMaximumIndia\n",
      "[b'Benchmarked Ahead of Debut' b'cashback under Flipkart Apple sale']\n",
      "[300 300]\n",
      " India India IndiaModemsTheIndiaitGlobalMaximumRedmiMaximumAstronomersitRedmipeopleTheMaximumitMaximumIndiaMaximumIndiaRedmi Maximum IndiaTheIndiaMaximumTheRedmiThe5The5TheTwist5ReadyTheReadyTheitTheRedmiThelaunchedAmateurIndianscientistslaunchedTheRedmiTheofTheMaximumsurgingMaximumIndiaRedmiTheIndiaTheUniverseRedmiIndia India India IndiaReadyFrenchIndiaRedmiIndiaTheRedmiIndiaRedmiIndiapeopleRedmiIndiaMaximumRedmiTheIndiaTheRedmiMaximumIndiaitRedmiIndiamomentsIndiaitIndiaRedmiMaximumIndiaMaximumIndiascientistsIndiaMaximumIndiaitscreamingbreathAfghanistan'srocketcouldfor\n",
      " human Maximum Maximum Maximum MaximumAstronomersMaximumAstronomersMaximum reactsMaximumreactshumanreactshumansurginghumanRedmi India MaximumIndiaMaximumTheUniverseThehuman human Indialaunched RedmiMaximumRedmiMaximumRedmi RedmiMaximumRedmiMaximum8Redmi MaximumRedmiIndiaMaximumIndiaMaximumRedmiMaximumTheRedmiMaximumRedmiMaximumTheTwistTheMaximumTheUniverseTheRedmiMaximumIndiaMaximumIndiahuman MaximumTheMaximumTheMaximumTheIndiaTheIndiaTwistTheMaximumIndiaMaximumIndiaMaximum Maximum MaximumIndiaMaximumIndiaMaximumIndiaMaximumRedmiMaximumIndiaMaximum\n",
      "[b'Spectra Fastest Package for its customers'\n",
      " b'Snapchat opens up Snap Map on web']\n",
      "[300 300]\n",
      " India Indiacold MaximumAstronomersMaximum MaximumlaunchedMaximumIndialaunchedIndia India IndiaRedmiMaximumIndiaMaximumIndiaMaximumRedmiWorstRedmiTheWorstIndiaTheit8scientists TwistThemindathumankeepscardsatRevealedTwistthatTwist India8RedmiIndia MaximumAstronomersMaximum IndiaMaximumTwistreactsTwistAstronomersMaximumIndiaMaximumAstronomersIndiaMaximumIndia 8India 8MaximumIndiaTheIndiaTwistTheIndiaRedmiIndiaMaximum Astronomers 8 RedmiMaximumRedmi Redmi \n",
      " Redmiscientists India Maximum Maximum RedmiTheRedmiTheMaximumTheRedmiTheMaximumIndiaMaximumIndiascientistsMaximum WorstIndiaMaximumRedmi Universe Worst Worst Worst Worst thatRedmihumanTheRedmiThe8TheRedmiMaximumIndiaMaximumThereactsTheMaximum8The8Maximum8MaximumIndiascientists AstronomersscientistsMaximum8 human itsTheMaximumTheMaximumWorstTheMaximumRedmiIndiaMaximum MaximumIndiaMaximumprofitMaximumlaunchedMaximumlaunched The Theprofit TwistRedmiTwistRedmi TwistIndiaRedmiIndiaMaximumThescientistsTheTwistTheRedmireactsTheTwistscientistsromancescientistsTheitTwistRedmi scientists reactsRedmi\n",
      "[b'Enters Final Year Field Tests' b'Google is good at building phones']\n",
      "[300 300]\n",
      " 8 8 8 scientistsRedmiscientists8scientistsIndiascientists8Indiascientists8scientistsRevealed scientistsRedmi RedmiscientistsRevealedRedmiRevealedscientistsRevealed8Revealed Redmi8 humanreactsWorstRevealedWorstforWorstBrainWorstscientistsWorstscientistsWorstscientistsTheit8scientists8scientists8scientists8scientists8scientists8scientists8scientists8scientists8scientists8scientists 8 scientistsIndiascientists8scientistsitscientistsRevealedscientistsRevealed8scientists8scientists8India The scientists\n",
      " stake scientistsRedmi scientistsIndiascientistsitRedmiitRedmiscientistsitRedmiscientistsRedmiscientists8scientists8scientists8scientists8scientists8scientists8 8 Debutscientistslaunchedsurging8surgingRevealedheliumRevealedDebutMeditationDebutscientistsDebutscientistsDebutscientistsDebutscientistssurgingscientistssurgingscientistssurgingDebutMaximumscientistsMaximumsurgingscientistsit8scientistsit Redmiit8DebutitDebut5Debutscientists8scientistsRevealedscientistsitscientists coldWorstcutest\n",
      "[b'First Look Video at Auto Expo'\n",
      " b'Oracle expands global startup ecosystem']\n",
      "[300 300]\n",
      " Revealed8offorAndroidtheoryforatgiveatWorstforWorst8 scientists RevealedscientistsRevealedscientistsatRevealedWorstatitRedmiatDebutatRevealedsatelliteRevealedsatelliteatFoodsatDebutscientistsatittheoryscientistsitscientistsforscientistsforsurgingforsurgingforatforprofitsurgingAndroidforsurgingfor 8forWorstforWorstfor8forWorst8 Emojifor8WorstEmoji8ItsEmojiit scientistsThe\n",
      " scientists scientists Revealed RevealedreactsRevealedreacts8theoryDebutit8 it Redmiscientists Revealed 8Revealed8scientists8 8 EmojisatelliteAndroidEmojisatelliteTestingAndroidreactsatreacts8it8 scientistsitEmojitheoryscientistsEmojiitEmojiittheoryitEmojitheoryFoodstheoryEmojitheoryEmojiforEmojifortheoryfortheoryforCof scientists tearsscientistsforatforprofit surginglaunched FeaturesatellitelaunchedscientistslaunchedAndroidlaunchedforlaunchedDebutFeature scientistsfor atAndroidatforscientists8 8forEmojiAstronomersscientists8 8 scientists \n",
      "[b\"A fast moving 'Potentially Hazardous' asteroid will zoom past Earth\"\n",
      " b'smooth interface without any slowdown']\n",
      "[300 300]\n",
      " Debut atDebutatDebutit at scientistsRevealedDebutattheoryDebutatDebutatDebutatDebutatRevealedatDebutatRevealedattheoryattheoryattheoryattheoryatittheoryatsurginglaunchedsurging 8Revealed8Revealed8RevealedatRevealed8atsurgingatsurgingatsurgingatsurgingtheoryAstronomerssurging surgingAstronomerssurginglaunchedsurginglaunchedDebutatDebutatlaunchedatlaunchedatlaunchedDebutitatDebutatDebutatDebutAstronomersforAstronomers Astronomers launched AstronomerslaunchedAstronomers AstronomerslaunchedExpoMapits\n",
      " scientists Emoji Revealed atDebuttheoryitDebutitscientists DebutatAppleattheory Emojifor8theoryfor foritsat at launchedEmoji8EmojiatDebutatDebutattheoryforEmojitheory for attheoryDebutBrain thetill 8 \n",
      "[b'family targeted in South Africa' b'spies issue a challenge']\n",
      "[294 279]\n",
      " at Debut Debut Debutit its up AppDebutAppDebutApp AppDebutAppupDebutlaunchedup launchedDebut launchedtheory theoryatforEmojitheoryEmojiat at humanforatitsfor forup forannouncementsfor IndiaforEmojiAndroidMuskEmoji betting human for forhumanits forat that for available astronomer that \n",
      " atreactsatWorstat its its its its for C RevealedEmojiRevealedEmojiRevealed theoryatEmojiDebut at at at foritsEmojiitsfor at Debut Debut theoryRevealed theory C \n",
      "[b'Trump attorney says he made' b'Strong political case for intervention ']\n",
      "[294 300]\n",
      " 'Extinct' DebutMoonfor for Musk AndroidApplefor DebutforatforatforatforatAheadforTestingforat AstronomersBrainDebutforDebutforupforatforAstronomersupAstronomersforupforupforupforupforupfor MuskAppforAppforMuskfor forCforCforCforCforEmojiforatCforatforatDebutatforDebutforatThefor \n",
      " mindatgiveatforAppforatfor foratforatfor Map for for foratApple atforItsforBrainforatforatfor forAstronomersfor forCforupfor \n",
      "[b'police recommend corruption charges'\n",
      " b'global terrorist financing watchlist']\n",
      "[279 300]\n"
     ]
    },
    {
     "name": "stdout",
     "output_type": "stream",
     "text": [
      "Astronomers Musk DebutMusk DebutMusk Musk DebutatDebutatRevealedatRevealedatDebutfor Astronomers Debut couldAppDebutupDebutup upAppthat thatforAndroidforatforupforDebutCupforAppforAppleforAppleAstronomers AppleAstronomersupAppleMusk Apple Apple DebutAppleup forRevealed forRevealedfor AppleforApple AndroidforDebutAndroidfor forDebut forDebut at \n",
      " out AstronomersDebutthatupMusk AppforAppforAppforAppforatupatupnovelupforupatforatforatforatforBrainfor DebutApp for forvisible forAppleforMapbooksthat Map forupforAppleforupfor Debut DebutforBrainfor for for \n",
      "[b'Widespread Damage From Cyclone'\n",
      " b'without compromising your Christian faith']\n",
      "[263 300]\n",
      "FrenchAstronomersAppleoutsmart Debut DebutatDebutatDebutatfor C C Debut AppCDebutAstronomersMusk AppDebut DebutAppDebutMuskDebutBrainCupBrainupCApp AppAstronomers Android AndroidupforCAstronomersupAppBrainupMoonAstronomers AstronomersMoon CAppleCRevealedupforthatforupnovelupCDebut Debut thatitsAstronomersupitsupAstronomersupBrainAstronomers upBrainupCnovelAppleupAppleupAndroidupYearupCYearCupCupCupDebutCMuskApp Musk\n",
      "against Emoji atDebutsurging Debut DebutatDebut satelliteatthatAndroidatAndroidupAstronomersfor EmojiforatAndroidatforupforwillAstronomerssurgingAstronomersCAstronomersAppupCBrainupBrainupforAppleAndroidAppleAndroidAppleupBrainuptheoryupBrainatAppleCAppCAppCAppC AstronomersDebutEmojicoldEmojicoldEmojiCcoldEmojiRevealedAstronomers App AppCAppCAndroidCup Astronomers EmojihumanEmojiupCEmojiitsBrainEmojiAstronomersEmojiAstronomersEmojiBrainforBrainEmojiupEmojiupCAndroidsurgingAstronomerscoldnowsurgingDebut \n",
      "[b'makes Americans more secure'\n",
      " b'Super Blue Blood Moon and Lunar Eclipse in 60 seconds']\n",
      "[279 300]\n",
      "AstronomersannouncementsAstronomersannouncementsAstronomersMusk Debut Debut will will will will StatesCouncilrocket Astronomers now ChristianEmojiApp App will willChristianRevealed AppEmojiChristianAstronomers AppleAndroidnovelAndroidAppleDebutEmojiTestingDebutTestingDebutTestinginCAppChristianDebutnowDebutChristiancoldChristianAstronomerscoldChristiannowAppChristianAppMuskChristianAppAppleCnowAstronomersnowAstronomersinAppleupApplesatelliteAndroidnovelAppleupCupBrainupItsnovelIts C EmojiatChristiankillersAstronomers Musk purpleChristian ChristianMusk \n",
      "launchhealth smartAstronomersareoutAppleMuskRevealedDebutCChristianCChristianAstronomersMoonApp novelwillApp'PotentiallyAppYearSyriaAppAndroidnovelAppChristianthatprofitthatglobalAndroidreactsAppleAndroidprofitAppleWorstAndroidBrainupsketchyBrainsketchyAndroidBrainChristiansketchyChristianAppChristiansketchyChristiannovelChristianAppBraininAndroidglobalCglobalsatelliteglobalStatesFoodsYearglobalFoodsglobalTestingupChristiannowChristianYearAppleinAppleAndroidinAndroidinYearglobalinglobalYearnovelinChristianglobalinFoodstheChristiannovelChristianinnovelinBrainItsofTestingYearAppleattheAppleinAppleinChristianinChristianinChristianinChristianinAppletheAppleinAppleAndroidinDebutChristianinChristianinChristianCChristianDebut inBrainupChristianinYearnovelYearAndroidYearupinup\n",
      "[b'visit shows he considers' b'to discuss bilateral relations']\n",
      "[300 294]\n",
      "Christian forgotChristianFoodsDebut will RevealedChristian inrelationsinChristianMuskChristianMuskChristianMusk thatChristianAppnovelMusk MuskinMusk Christian ChristianMoonChristianMoonBraininnovelinChristianAndroidChristianAppleAndroidinChristianinChristianinChristianin MuskAstronomersitsAstronomersinChristianinCrelationsChristian Christian inAstronomers WorstAstronomers inChristianinChristiancoldChristian Christian Christian Christian DebutnovelDebutnovel DebutRevealednovelDebutforAndroidnovelRevealedDebutRevealedDebutRevealed\n",
      "againstEmojiinbettingFromcould Moon marineinAppleinChristianinDebutChristianrelationsChristiananyAstronomersnovelEmojiupWorstnovelitsMuskChristianMuskChristianrelationsChristiannovelChristiannovelChristianinthatinChristianinChristianinChristianAstronomersChristianAstronomersDebutinChristianinChristian Christianrelations Christian ChristianrelationsChristianrelationsChristianRevealed ApplemyselfFrenchDancediabetes screamingasChristianrelationsApple Emoji\n",
      "[b'India should use military agreement'\n",
      " b'proven Syria using chemical arms']\n",
      "[300 300]\n",
      "ratherChristiansatellite-carryingDamage Damage DamageRevealedDamagerelations'PotentiallyDamagerelationsDamageRevealedrelationswillRevealedrelations Debut Field MoonDamage willApplerelationsAppleinAndroidinnovelrelationsnovelrelationsDamagerelationsChristianDamageAndroidinAndroidDamagerelationswillrelationsinChristianinrelationsTestingrelationsinrelationsDamageChristianrelationsChristianrelationsinrelationsinrelationsinChristianrelationsChristianrelationsDamagerelationsinrelationsinrelations relationsinrelationsChristianrelationsinBraininDebutThe willrelations relationsChristiankillersChristianrocketdelegation \n",
      "ChristianinfromChristiansurface Apple relations relations relations relations relations relations in relations inrelationsFromChristian'PotentiallyDamagesatelliteinAndroidreactswillTestingreactsYear Testingnovelrelations relationsYearinDamage relations relations relationswillrelationswillrelations relationswillrelationswillrelationswillrelationsnovel'Potentiallyrelations'PotentiallyChristian'PotentiallyChristianrelations relationsnovelChristianrelationsChristianrelationsChristianDamageChristianrelations Christianrelations ApplethatFromAppleAndroidApple AppleAndroidreactsAppleMaprelationsSyriarelationsgoodYearDebutC \n",
      "[b\"UN Security Council has 'failed'\" b'Russian officials dispute reports']\n",
      "[300 300]\n",
      "relationsoutrelations willDamagerelationswillrelationswillrelations Syria'PotentiallyReplySyriainSyriainwillinuseSyriauserelationsusewillrelationsDebutrelations showsuseshowsuserelationsuse relations relations relationsDamageuserelations relationsusescanningMapthat FromSyriarelations relations Testing showsuse noveluse use DamageterroristDamageuseitsavailableitsavailable shows relations DamageshowsrelationsDamagerelationsDamagerelationsshowsrelations relationsDamage relations relationsitsnovelnow relations Revealed \n",
      "legsChristianrelationsFrom Damage Damage Damageshows showskillersDamageThisDamageApple shows Damage useChristianSyriarelationsshowsrelations usenowDamageFromuseChristianAndroidDamage use TestingAppleTestingavailablerelationsinU12'relationsDamagerelationsDamagerelationsDamagerelationsDamagerelationswillrelationsDamagerelationsuseDamageuserelationsuseDamageuseAstronomersuse relationsshowsrelationsuserelationsuserelationsDamagerelationsshowsrelationsuserelations relationsDamagerelationsuseofuserelationsuseshowsTestingrelationsuserelationsFoodsrelationssurgesinofuseinuseinrelationsinofglobal\n",
      "[b\"Afghanistan's policies different from Obama's?\"\n",
      " b'Oxfam rocked by corruption']\n",
      "[300 294]\n",
      "use usereactsDamagepeopleSyria Syria people Fromscanning From SyriaFromSyria Syriaterrorist Syriause DamageuseshowstechniqueshowsrocketDamagewilluse FrenchluckyheliumusereliefFrenchscanningreliefFrenchareitsuse use DamagerelationsuserelationsshowsrelationsDamageshows showsitsavailableitsshowsuseshowsuseshowsuseshowsrelationsDamagerelationsSyriarelationsSyriarelationsshows Syria showsSyriashowsSyriauseshowsuserelationsDamagerelationsusecoulduseTheBitcoinrelationsuseshowsuse use use willSyria Feature Feature startup3Duse use use Its DebutStatescoldStatesMap\n",
      "useChristianuseFoodsseaatuse scanningbooksvisiblescanningFromwillpeopleavailablescanningFromshowsFromshows use use Damage Apple Apple Map Worst MapTestinguseendsuseTestingFromsatelliteTestingFromslowdownDebutFromslowdownKeepglobalFromDebutFromofalertFromglobalrelationsDebutCommandoutonFrominthatMapthatMapthatMapuseshowsuseshowsuseshowsuse useshows willSyria DamageuseterroristrelationsuseSyriause useshowsuseshowsuseDamageusesurgesshowsrelationsuseDamageuseDamagerelationsSyriashowsSyriauseshows killers couldOh areAayogare \n",
      "[b'Canada wants answers after Iran' b'Syria poses new dangers to US']\n",
      "[300 300]\n",
      "SyriadieselSyriauseblueSyriaAayogSyria Syria Syria Syria Syria oceanuseDamageuseEarthuseEarthEclipseYourEclipsethatYouravailableYearargumentsmanagementofhumanmagicalhumanbookspayFrenchthatsafePlanetsbooksprofithiddenprofitSyria Syria Syria Syria SyriauseMapuse Maphumanreactsprofit Syria Syria Syria Syria SyriauseSyriauseSyriause Featurescanning profitHelp launchAppleTestingSpicejetSyriaChristianFabindiaSyria Syria SyriaFeatureSyriawillSyria Syria Syriascanning scanningFrenchMap Syriaalert Syria SyriaatDebutSyriaofSyria\n",
      "Syriausehealthuse SyriarocketSyria Syria Syria Syria Syria Syria use Eclipse Debut willSyriafinancingSyriaFrenchSyria Syria Syriause'PotentiallySyriauseSyriashowsSyria SyriauseSyriauseSyriauseshowsuseSyria Syria Syria Syria\n",
      "[b'Meditation has limited role in making you a better person'\n",
      " b'Domestic Abuse and the White House']\n",
      "[300 263]\n"
     ]
    },
    {
     "name": "stdout",
     "output_type": "stream",
     "text": [
      "SyriaFromscreaming Syria Syria Syria useSyria Map themMap SyriaMap showsSyriashows Syria Syria Syria SyriashowsuseSyria use useshowsuse shows use shows Syriause showsSyria Syria Syria SyriaprofitSyriaprofitSyria\n",
      "Syria Syria showsSyria Syria Syria Syria Syria shows Syria Syriause use use useshowsSyriauseSyriauseSyriauseSyriauseterroristSyriaoftheuseMap Syria Syria Syria showsuseshowsuse people interface interfaceofalertslowdownDebutwilluseofusealertSyriaofSyriaofSyriauseSyriashowsSyria SyriabooksthatSyria Syria Syria\n",
      "[b'body found in bed box' b'warns youth from celebrating']\n",
      "[263 300]\n",
      "disputearethemare are SyrialongesthasdisputeDamageinofinreportsAayogofDamage SyriaterroristshowsSyriausewannadisputeusedisputeusedisputewannauseshowsuseSyriauseDamageuseshowsterroristIraniansbeathowbeatFromSyriashowsSyria showsSyriaofSyriashowsuseshowsinuseinrelationsshowsterroristReplybyFromavailableKeepavailablepeopleavailableoffreedomofbreathesatellite amountSyriausual? Syria shows showsdisputeshows shows showsSyria forgot shows \n",
      "byforgotKeepby Syria Syriadispute disputeSyriadisputeSyriashowsSyria Reply From'Potentiallyglobalinslowdown'PotentiallyslowdownSyriashowsDamageslowdownwillslowdownwillSyriacourtSyriathatSyria Syria Syria SyriadisputeusedisputeuseSyriashowsSyriainSyria'PotentiallySyriadisputeinofuseofnowarenowwifeSyriaWishinguse useinFrominFromtheshowsuseshowsuseshowsuseshowsinofshowsSyriauseofshowsofshowsofshowsuseshowsrelationsterroristrelationsterroriststartuprelationsshowsuseshowsdisputeshowsdisputeshows\n",
      "[b'Man Wanted For Law Student' b'keep striving for special status']\n",
      "[300 300]\n",
      "byratherFoodsFromDamage Syria Damage by terrorist terroristFromDamageFrombyFrom slowdown Damage From DamageshowsDamageshows DamageterroristFromterrorist terroristFeatureterroristFrom Damage stakeDamagedisputeshows DamageFromby From FromDamagebyinbyfinancingbyfinancingslowdownfinancingmanagementfinancingavailableForthebydisputeForDamageconfirmedbydisputecouldMoon could dispute byhasFrombyDamagebyhasshowsDamageterroristinterroristofinDamageindisputeDamageshowsterroristdispute terroristDamageshowsterroristshowsterroristindisputeinitsintheinkillersinterfacein Emojigivecovers coldEmoji\n",
      "myselfMoneynowSyndromeSyria Syria Syria Syria Syria bySyria'Potentially MoonFieldinterfaceField slowdownstartupbyterroristbyDamagebyDamageSyriabyshows FromterroristFrombyterroristthatbyofdispute dispute disputein terrorist byTestingterrorist terrorist terrorist by dispute byDamageby startup terroristdispute different dispute dispute \n",
      "[b'effective booth management' b'Odd even not a permanent solution']\n",
      "[247 279]\n",
      " byinterfacedisputebydifferentinofcelebratingdisputeinby by by SyriaFinalcelebratingin'PotentiallyEclipsedispute 'Potentially dispute'Potentiallydispute reactsby'PotentiallyGlobal'PotentiallyGlobal'Potentiallyscenenowincelebratingincelebratinghasinbooksinbooksindisputeincelebrating celebrating Eclipsecelebrating byterrorist terroristdisputeDamageterroristDamageterroristdispute terroristbyterroristDamageFromdisputeFromterroristdisputeDamageby byDamagedisputeDamagedisputecelebratingterrorist differentdisputeterroristDamageMoon different by terrorist What \n",
      "byseaFrombyTelecomhasgoodcelebratingin'Potentiallyhasinhas differentOracleDamage Damage interfacealert goodinterface FromhasinhasincelebratingdisputemoredisputecelebratingmorecelebratingincelebratinginofinEclipse bycelebratingForincelebratingbyincelebratingmorecelebratingreportscelebratingreportsbyofbyintheinthethatcouldmoreinofcelebratingbythecelebratingbycelebratingofbyin theby bycelebratinginthereportscelebrating by byreportsFromcelebratingbyofbyinalert incelebratinginterroristdisputeincelebratingincelebrating incelebratingindisputecelebratingincelebratingincelebratingindisputein celebratingin celebrating disputeinkillersthegoodbytheReadyoftears differentscanninginarethe\n",
      "[b'Northern Command chief' b'Campus placement at IIMs']\n",
      "[231 300]\n",
      "TelecomfromHyderabadFortoFoodscelebrating'Potentiallycelebrating has has profitinfieldincommentsbooksalertbooksalertbooksalert Telecom petrol French French onpetrolhas 'Potentiallyhas inhas oncelebrating arescanning profit scanningbyFordifferentbyinbytheinForthecelebratingintheincelebratingin incelebratingthecelebratingtheintheintheincelebratingincelebrating killers Levels thempuppyTelecomfromcouldcelebratingSUVlifestyledisputeNokia \n",
      " by Damage DamagebyDamagecelebrating by different FordifferentFor differentcelebratingFromdisputeFromcelebratingdisputecelebrating Fromcelebratingdispute celebrating killers Tata by Indiabydispute \n",
      "[b'Lawmaker Watches His Son Beat Up'\n",
      " b'A four-day meet on Astronomy begins at Hyderabad']\n",
      "[300 300]\n",
      " reports inEclipseinForonFor scanningForbyfamilyby byinbyreportsForby byitsFor thatthe dispute in \n",
      " Starts byglobal has reportsofhasdisputebycelebrating celebrating bycelebrating celebrating celebratingDamagehasreportshasdisputebycelebratingbycelebratingbycelebratingdisputebydisputebyhasbyhas byhascelebratingdisputecelebratingdisputeincelebratingincelebratingbycelebratingby in inmorebycelebratingdisputecelebrating disputecelebrating celebratingthecelebratingincelebratingdisputecelebratingdisputecelebratingofincelebratingthein inbymorebymorereports by by celebrating by bythebytheby hascelebratinghas celebratingdisputeThecelebratingbycelebratingThe\n",
      "[b'uninterruptible dialogue between India, Pakistan'\n",
      " b\"Rover to spend 14 days on moon's surface\"]\n",
      "[300 300]\n",
      " different For For \n",
      " interface at reports has'Potentiallyat has celebrating DamagehasSecurityhas celebratingatcelebrating Ahead hasby reports'Potentiallyhasreports reports reportshasdispute has strivingbyhas hasstriving has has \n",
      "[b'Who are your friends?' b'Spicejet to shift operations']\n",
      "[247 279]\n",
      " different by striving Reply DamageOracleDamageOracleDamage'Potentially Damage 'Potentially Indian 'Potentiallysketchyhasdispute more differentreportsdifferentreports managementdifferent Google \n",
      " byreportsLawdispute dispute reports dispute Law \n",
      "[b'but I keep falling down' b'nothing comes now']\n",
      "[263 231]\n",
      " strivingthe thestrivingthe ForLawForLawstrivingLawpermanent the Oracle Oracle atOracle good Oraclescreamingfor differentbreathstillfrom Keep\n",
      " sketchyFor ForThestrivingThe For interfacematerialsatellite ForTheendsCommand FortearsNokiacouldfromdifferentfrom scanning \n",
      "[b'I know peace will come' b'wanted to need someone']\n",
      "[247 247]\n",
      "arefrom Oracle'PotentiallyOracle solutionrisingFeature \n",
      "Telecomfrom has permanentLaw permanent permanentLaw For tearsthepermanent Law profit remedies \n",
      "[b'wanted to play tough' b'do all just on my own']\n",
      "[247 263]\n",
      " different endsatDebutslowdown kneesFoodsfinalYearforYear'PotentiallyYearspend?liftsfinal'PotentiallyYearBengal'PotentiallyYear'PotentiallyYeartechnique'Potentially everydaychatteringTechnologies \n",
      " ratedieselare different For For For surgesFor Law management managementSecuritydifferentWhite \n",
      "[b\"Sometimes needed Superman's soul\" b'Help me out of this hell']\n",
      "[300 263]\n",
      " Law Astronomy AstronomyLaw LawpermanentLawpermanent the reports \n",
      " From management Featuretechnique could \n",
      "[b'lifts me up like helium'\n",
      " b'Redmi 5 could be launched in India on February 14']\n",
      "[294 300]\n",
      "White are 'failed' different'failed'differentstriving differentmanagementphones permanent permanentThe ForLaw ForCommandpermanentCommandLawForpermanentCommand CommandLawpermanentLawpermanentSecuritypermanent Foratpermanent permanentReplyLawreportsEclipsereports bydifferent different \n",
      " OracleField'failed' different reports Lawstriving permanentCommand Command \n",
      "[b\"When I've hit the ground\" b'float towards the sun']\n",
      "[247 247]\n",
      " dispute differentForstriving'failed'strivingFor'failed'For'failed' striving \n",
      " different'failed'management strivingmanagementstriving striving striving striving boost \n",
      "[b'you fill me up' b'drift towards the ground']\n",
      "[231 279]\n",
      " Commandstriving different management disputeby permanentreportsgood striving striving The different Formanagement management differentWhitemanagementdifferentmanagement \n",
      "areWhitesurvive reports For Formore For For For different management different\n",
      "[b\"lucky that you're around\" b'bring a bottle of rum']\n",
      "[263 213]\n",
      " management good goodmanagement differentby Oracle by strivingOracledisputemanagement byAstronomybystrivingCouncil different Astronomy AstronomydifferentAstronomy For For Forstriving'PotentiallyFrom'failed'managementslowdownAstronomyslowdownAstronomy'failed'disputemanagement management White White differentmanagement management different \n",
      " permanent Field Council Expo inReplyastronomerCommand For FormanagementCouncil helium final slowdown 'Potentially ends Oracle Oracle ends endsOracle'PotentiallytechniqueAndcalmWhiteseahealth \n",
      "[b'cream and whiskey bourbon' b'We got nothing to lose']\n",
      "[263 247]\n"
     ]
    },
    {
     "name": "stdout",
     "output_type": "stream",
     "text": [
      " Whitenow striving For different Oracle AstronomyCommandAstronomyCommandAstronomyCommandpermanentAstronomypermanentAstronomypermanentEclipseAstronomy Astronomy Securitydifferenttechnique techniquesurvivetechniqueModelsbackFrom Council Council AstronomyCouncilAstronomyCouncil AstronomyEclipseSecurityAstronomyreports thepermanentAstronomypermanentAstronomyTwoCouncilpermanentsurgespermanentAstronomythe theAstronomytheAstronomytheAstronomytheAstronomytheAstronomysolutionAstronomymoremanagementstrivingmanagementstrivingForstrivingmorestrivingmanagementLawinterfaceLawendsLawnowslowdownLawmanagementtechniqueOraclevoicesnow interface \n",
      " White managementgoodmanagementstrivingdifferent differentOracleSecurityOracledisputeCouncilSecurityThepermanentstrivingThestrivingTheAstronomyTheendsSecurityFieldSecuritypermanent permanent permanentForpermanentForpermanenttechniquewaterSecuritypermanentCommandpermanentCommandpermanentCommandpermanentFor ForOraclemanagementForMoonstriving ForSecuritystrivingsketchyIndianForbyFormanagementAstronomyForpermanentCommandpermanentAstronomypermanentAstronomyreportspermanentAstronomypermanentAstronomyreportsnowAstronomypermanentreportsWhite White areWhiteAstronomythedifferentWhite3D23:00:14,103StudentsAutotechniquefinalwarnsdifferentWhitemanagementdifferentmanagement\n",
      "[b'bring a friend if you please' b'all the misfit and us']\n",
      "[294 279]\n",
      "managementWhitenowWhitenowmanagementgooddifferentDamagehasdifferent different differentForstriving strivingdifferentstrivingdifferent differentstrivingForLawbyFormanagementLawForAstronomyForstrivingdifferentCouncilFormanagement Formore disputeFordisputeForhappensdispute'failed'managementwinnersdifferent different Astronomy Astronomy bystartupdifferentbyLawAstronomydifferentAstronomyby differentAstronomydifferent different ItsdifferentbydifferentCouncildifferentdisputedifferentdisputemoremanagementdisputemanagementdisputebydifferent byCouncilbyCouncilFordifferentForCouncilstrivingmanagementmoreCouncildisputeAstronomyThedifferentTheCommandAstronomySecuritytheSecurityLawthemanagementstrivingmanagementBeatmanagementAstronomySecurityBeatWhiteCommandnowWhitereportsWhitereportsthereportsLawreportsAstronomyLawreportskillersmanagementLawnowCommandWhitereportsnowdifferentmanagementdifferentWhitemanagementlaunchedreportsofwarnsNokiarocketmedicinal managementNokiamanagementnow \n",
      "Whitehelpdifferent has FordifferentbyOracleFordifferentmanagementFor differentFormanagement different gotmanagement 'failed'OracleSecurity ForCouncilmanagementFor differentFor differentFor For ForCouncildifferent managementFordifferent managementreportsmanagementdifferentreportsdifferentgoodMoonSecuritymoreSecurityOracleSecurityOracle Field Field FieldEclipseSecurityFieldSecurityFieldSecurity management OracleSecuritystrivingCouncil Oracle morestrivinggoodstrivingstartupslowdownstartupmoreEclipseendsEclipseOracleslowdownFieldstartup startupmovingstartupdisputeFieldstrivingmanagementstrivingmoreReplyForOracleWhiteSecurityFordifferentWhite goodWhiteForWhiteForAstronomymanagementnowWhitemanagementWhitedifferentmanagementnowdifferentstrivingdifferentFordifferentWhitenowinterfacetechniqueseasteps white world'sdifferent\n",
      "[b\"TVS Motor launches India's first connected scooter\"\n",
      " b'get better than this']\n",
      "[300 213]\n",
      " nowreportsgoodForgooddifferentgoodstriving good strivingdisputestrivingTheyellowThediabetescouldhealthpassTheLawTheCommandcouldmagneticdiabetesmessagesmanagementWhitecoldSecurityWegoodnowbygoodstrivinggoodreports reportsgood Security Command Security Field CouncilCommandFieldSecurityFieldCouncilField CouncilIt'sFinal FinalEclipseFieldTheSecurityEclipseCommandreportsWhitedifferentWhitereportsdifferentreportsdifferentmorereportsAstronomypermanent moreSecurityreportspermanentreportsAstronomypermanent hasdispute Lawpermanentreports permanent dispute slowdownFor disputedifferentdisputeLawWhitedispute Council ForstrivingdisputestrivingdifferentstrivingdifferentWhiteLawdifferentstrivingdifferent strivingdisputebyCouncil ItsstrivingItsAstronomyLawAstronomyLawAstronomyLawAstronomyLawAstronomymorepermanentmoreAstronomyForpermanentForCommandtheCommandtheCommandtheCommandLawCommandLaw\n",
      " White CommandstrivinggoodbystrivinggoodcoldgoodDamageends'PotentiallyDamageOracleSecurityFieldDamageOracleFieldThisOracleFieldThisFieldendsFieldOraclebystrivingCounciltechniqueIndianFinalAstronomyFinalmoreCommandReplyThisstakeReplyOraclestrivingSecurityReplyslowdownReplygoodAheadmanagementReplystrivingAheadOracleAheadOracleFormanagementstakedisputewestakeForslowdownstrivingOracleYearmorestrivingAheadstrivingmorestrivingAheadstrivingSecurityAheadSecuritynowSecuritynowFornowreportsSecurityslowdownreportsslowdownreportsSecurity'failed'reportsSecurityreportsSecuritydifferentSecurityWhite management techniqueIIts astronomerwhereMoon Goingdifferentreports strivingdifferent\n",
      "[b'be our family' b'this is Christmas baby']\n",
      "[231 279]\n",
      "EclipseCommandnowhealthnowgoodnowcoldnowendsslowdowntechniquedisputeItsstartupnowstartupdisputestartupItssolutiondisputeCouncilbyCouncilEclipse'failed'LawreportsLawreportsLawreportsAstronomyEclipsereports morepermanentstartupTestingSecuritymoreCouncilstartup more startup For For moredispute TestingCouncildisputeCouncilItsCouncildisputeWhitedisputenowdisputeslowdownnowmoredisputemoredisputenowmoreAheadnowslowdownnowslowdowndisputestrivingdispute'failed'couldCommandthecalmtearsworld'sstepsMoonBeatevendifferentvisiblewatervisiblemanagementvisiblewater \n",
      "WereportssolutiongoodphonesnowThisreportsgoodDamageFrombystrivingbystrivingdifferentbyhasdisputebyTheget'PotentiallyslowdownIndian'Potentiallygood'PotentiallydisputeCouncilAheadMoonReplySecuritysurginghasgoodhasSecuritytechniquestartupdisputeLawstrivingCouncilmorestrivingstartuphasdisputenowSecuritydisputegetSecuritystartupendsmorestartupAheadDamagestakebystartupSecurityYeardisputestrivingcoldreportscoldtheWhite thepermanentCommandreports dispute disputeslowdowndifferentdisputeWorstEclipsemoreCouncil CouncilItsCouncilEclipseItsLawEclipsesketchyLawItsLawCommandCouncilCommandreportsItstheLawtheCommandItsreportsCommandLawCommandLawprescription'CommandLawCommandnowCommandmoreCommandmoreLawthemoreLawAstronomymedicinalCommandmedicinalnowreportsmedicinalstartupLawnowreportssurgesofdelegationtechniquenowKeepnowSecuritynowreportsnowreportsmanagementbystrivingnow \n",
      "[b'Bring them all to their knees' b'Take a trip down']\n",
      "[247 182]\n",
      "YearnowMDwinter EclipseundergetMoonishasinterfaceAhead FinalEclipseSecurityFinalEclipseFinalinterfaceReplyCommandwhiskeyreportswhiskeyLawnowEclipseMoonWeThewatercourageThescenenowTheSecurityAheadEclipseAheadwewhiskeygetwhiskeypermanentEclipsepermanentinterface Eclipse inpermanent Councilstake stakedispute startupnowTestingdispute Council customersThefightThe 'failed'drinkCouncil CouncilTheCommandTheofTheWethetearsCommandrocketmodificationsrocketgetsalerocketnowWhitenowsalegetnowsalenowsale now nowLawnow hasdispute now FeatureThehas getnow nowdelegationAheadMooncosmonauts diabeteswhennowsmile\n",
      "nowissolutionreportsEclipsegoodissurgingissurgingcoldWeisundergoodsurginggoodisgoodcoldsurgingWeslowdowngetThisgetendsgetendsWe startup'failed'get'failed'globalFrom'failed'surgesstakeFromanysurgesstakeYear reports'failed'bystartupWorstCouncilbyFrom'failed'slowdown'failed'sceneslowdowndisputescene disputethenowslowdownstartup slowdown Fordifferent Testingslowdownmore slowdownmore YeardisputeFromYearFromYear FeaturecrowdsPer'failed'warnsitsfor forlongestcampatGooglerocketWeMeditationnowsurges\n",
      "[b\"It's the cutest thing\" b'so get dressed']\n",
      "[263 213]\n",
      "WeisYeargetisgetisIt'sis is isMD is familyissurginggetisgetWeisgetReplygetReplygetReplyis'PotentiallygetisgetisgetReply hasisgetrocketcoldstartupisWegetrocketbettersalewinnersbetterisgetWestartupislaunchesWeFinalgetisIt'sgetIt'sgetIt'sgetIt'sscooterWesketchyIt'snowIt'sgetreportsIt'sreportsEclipsestartupCommandEclipseIt'sEclipsewannathefamilybabytheCommandthereportswhiskeynowisgetisget'failed'now'failed'needfamilybynow saleifstartupgetends\n",
      "WesolutionisWe now familyWe We family It's sketchynowsketchy 'failed'global Its FeatureLawFeature This novelFromnoveltears'failed'getinterfacetechniqueOraclecoldOracleStarts astronomer slowdowninterfaceslowdownsurviveFromcanestechniqueFromdressedtechniquebetterFromdiestartupits 3Dstartup3DFeatureitsNHSitsNHSLevelsrestructuredslowdownsurviveslowdownrestructuredNHSslowdowninterfacedressedinterfaceliftsFromliftsGlobal GlobalFromYearslowdown \n",
      "[b'colors of the rainbow' b\"It's so magical\"]\n",
      "[231 231]\n"
     ]
    },
    {
     "name": "stdout",
     "output_type": "stream",
     "text": [
      "healthIt'srocketisIt's is It's Year 'failed'person'failed'is'failed'get'failed'AheadIt'smarineIt's It's It's It's It's It'sisIt'sisIt's It'sglobalYearFrom Testing Testing booth personCouncilisfamily whiskey'failed'ItsbabycrowdsnowStartsis Itsgetisslowdowncrowdsslowdownmagical Ear WhitemaintainfamilysolutionthefamilyIt'sthefamily It's WhiteIt'sWhite\n",
      "It'sfamilyThisisfamilyIt'sLookStartsisgetIt'sisIt'sisIt'sisFromIt's It's It's orIndia'sIt'sis It'sis SouthIt'sCommandIt'sGottaTesting GottagetIt'sclosestakeisboothfinancingIt'sholeIt'sget It'sgetIt's 'failed'hasIt's It's getAhead It'sgetIt'sgetIt'sgetIt'sget saleisfamilyisFeaturenowisnowget nowget solution isdelegationgameispushdressedwinterbluePerKolkatabestatusKolkatabillsstatusAayogKolkataTechnologies medicinalis screaming\n",
      "[b'go there in your dreams' b'Apple raises iPhone prices in India']\n",
      "[213 300]\n",
      "solutionIt'sthemwifelaunches get It's It's It's It's It'sisIt'sisgetIt'sisIndianIt's StartscoulddaysgetIt'sgetIt'sneedIt'sgetIt'sgetIt'sisIt's It's It's It's familyIt'sfamily It'sUniverseIt'sisIt'sisIt'sisfamilyisbaby\n",
      "usersfamilyIt'sfamilyIt's It's It's It'sis family familyhas family It's It's It's Startswarns It's It's slowdown 'failed'gettheirgetthe theIt's It's It's the \n",
      "[b'You with the lights' b'Red yellow pink green']\n",
      "[213 279]\n",
      " It's It'sisIt'sreportsIndianyourreportsIndianscooterReplynowIt'sReplyFoodslovers'nowFoodsTestingwhiskeythegetIt'sget It'sgetisIt's It's getIt'sgetIt'sWeis isWebabyifbetterif isbetterfamilyisbetterifis isbetterifbetterifbetterWebabytheany theverdictbabyscooterbabyanyisstakeisWorstifFeaturewannadressedsolution back liftsastronomer\n",
      "babyfamilyIt's stakeif whiskey It'ssketchydrinkscooterkillerswhiskey whiskey babytheisthe It's consumptionthe CouncilIt'stheir theirIt'sbabygetiftechniqueifMoon delegationkillers sketchytheirIt'stheirbabyscootersketchyIt's the baby theirtheIt'swhiskeyIt's It'stheirIt'stheIt's baby baby the the It'sTwo TwotheFirst family isdressed magical isIt's \n",
      "[b'Orange and purple and blue' b'Christmas is waiting for you']\n",
      "[263 294]\n",
      "familydressedboothbabyIt'sfamilyIt'sisIt'sWeIt's get getallgetmisfitgetisWeisinterfaceReplyismisfitgetisgetmagicalgetIt'sisgetisgetisgetmagicalbabymagicalwhiskeygetismisfit getisgetWe magical whiskey scootertheirTestingscooterglobal the crowds magical magicalisbabymagical babymagicaldressedfamilybabytheir ifbaby dressed screamingbeforemagicalfamily if familygetfamilylegsplease\n",
      "babyif magicalWeIt'slaunchesissurgingWe magicalismagicalWeImageWesurgingWesurgingisWeDamagesurgingmagical the the the the babythe the thesurges baby babysurgestheirsolutioniftheirifscooterifscooter scooterifscooterifsurgessolutionscooterifscooter scooter scooter the the magicalsurgestheirscooterfightifscooterif scootertechniqueTestingthesolutionscooterthebeginsthebabyfamilythemagical magicalfamilywhiskeythemagicalbabythebabybetterfamilythefamilywhiskeymagicalfamilythemagicalfamilymagicalfamily babyfallingslowdownfamilythe family if \n",
      "[b'a friend this holiday' b'who loves to play']\n",
      "[263 263]\n",
      " familyget underwhounder under undersurgingunder whobefore Wewinners magical their the cold ThisStartsbefore Starts magical magicalbabymagicaltheirmagical surges magical baby babytheir attorney theirmagicaltears their dressed impactkeep game \n",
      " magicalWemagicalWemagicalWemagicalWemagicalyourmagicalbooth Damageisyourlaunchesboothyouriswillis yourmagicalismagicalyourmagicalmisfitmagicalmisfit istalkslimitedWesurgingvoices magicalif betterfamily betterthe bettertheifthe scooter theirTestingFoodsTestingglobalscootermagicalscooter magical baby babymagical baby babytheirbabytheirmagicalscooterfamily familybabyfamily babyfamily baby theirbabymagicalscooterbabybeforethe thewhiskeythe babythe baby the the thebabythebabydressedmagicaldressed \n",
      "[b'eat all the candy canes' b'down to meet us']\n",
      "[279 247]\n",
      "baby dressed Takewhoall all all all all all all all all magicalyourallyourall their scootertheallthe thewhiskeythe the theall all their the thetheir magical thedressedfasteryellow dressedAfghanistan's just\n",
      " allyourallyourallyour their sketchyfamilysketchy ifwhiskeyscooterallscooter scooter the scooter scooterthe magical magical Take the the thebetter dressedthe launches magicalsurvivescootermagical magical theirdressed magicalbetter dressed dressedtheir their dressed dressedvisibletheirjudgesyour dressedTake familyTakeyourallyour\n",
      "[b'We can dance' b'everything is possible']\n",
      "[231 247]\n",
      "dressedchangedressed allTakewhoTakewhoYouWewhoYou all allisall all all allyourallyourall allbluemagical magical magicalthe dressed \n",
      "game dressedwith yourWeisTakewhoImagewhoImageis whoisall all magicalisyour isall whiskeymagicalall all nothingNavyall alltechniqueallWetechniqueWetechniqueWetechniqueall all alltheirismagical their all their their dressed launches launchesbaby launches crowdswith dressed Google launchesdressed dressedfamily\n",
      "[b'2018 iPhone Models to Exclusively Use Intel Modems'\n",
      " b'For the puppy in the window']\n",
      "[300 247]\n",
      "dressed allwho allwhoallwhoall who whoallwhoall whoTakelaunches allwho all all allwho whoall all whoall Take allwhiskeyallatall all all all all all all all \n",
      " Youwho technique TakeWe \n",
      "[b'I can see him' b'he sees a friend in me']\n",
      "[231 263]\n",
      " You the the the dressed dressed with \n",
      " WeYou You You all all all all all all all theiryour yourallwater water waterprofitWeallyouratdressedatyourdays allisWeisWeiswhoallWeall YouWeYou allWeTakeWeandatdressed whoallwho at dressed\n",
      "[b'Oh how much' b'waiting to come home']\n",
      "[213 231]\n",
      "Telecomwith YouwhoYouwho \n",
      " alltheWe sale saleAutosaleall allcamp the \n",
      "[b'Found my best friend' b'At the old dog pound']\n",
      "[231 247]\n",
      " You You \n",
      " the \n",
      "[b'Puppies are forever' b'old and slow']\n",
      "[247 231]\n",
      " \n",
      " Singtel talkis loveswhiskey You Reply Yearat\n",
      "[b'never let you go'\n",
      " b'Hyundai Elite i20 facelift India launch confirmed at Auto Expo']\n",
      "[213 300]\n",
      " and Weand and and and and and We anymoreblue hidedelegation satellite-carryinglovespetrolEarfromYousatellite-carryingYouand and atfrom(data_generator)StatesNote \n",
      "French wealland andall all allandallandallis and and andalland WelovesWeandWeand and We and and is \n",
      "[b\"you're my family\" b'oh my cute']\n",
      "[198 198]\n",
      " Orange who We We Apple thesketchy ApplelovesApplelovesApple dresseddiseasedressedatandscreaming atdressedDebutatBraindiseasedelegationatStatesdressedatdressed dressed purple andWeand\n",
      "French who with \n",
      "[b'Wait for the snow' b'I will read the last']\n",
      "[198 231]\n",
      "withpain and and and and Christianastronomer Apple at 5andlaunchesand Appledressed dressed at520-month-olds areat20-month-olds \n",
      " We the dressed \n",
      "[b'that they wrote' b'by the open fire']\n",
      "[198 231]\n",
      " with WeYouNavyWeloves blue We who and magical \n",
      "with challengeWe who whoWewho We WeisWeandthereandisandalland andWeand and andthe the the the the the the the the and andloves \n",
      "[b'you is a gift tonight' b'for all my life']\n",
      "[231 182]\n",
      " who whoWeisWeisloves We WeisandWeloves the the and andthe the novel the the the human atdressedliftsdressed and\n",
      " bluewith whoandWewhoiswhoWewhoandthe the and lovesisloves nothing andwithand the dressed 'Potentiallythinnestlot\n",
      "[b'everyday is Christmas' b'here with me']\n",
      "[231 166]\n",
      "whowith withwhobluewithisWeisWeiswhoblueistheistheisandisandistheisthe the theisthelovestheisthe thetherethelovesthe\n",
      "withwhowithwho WeiswithisbluewhoiswhoiswhoblueWeblueiswithwhowith We withbluewithisWeisandisalliswiththere We whodreams\n",
      "[b'Nokia 7 Plus Specifications' b'safe in your arms']\n",
      "[300 231]\n",
      "loveswhowithwhoiswithcaniswhoTakewhoiswhoiswhoiswithfriendcould FabindiawithWeallWeisYouisYouthere thereYoulovesthereloveswithlovestheloveswithiswithiswith withpaintheiratindexpain withWe withishumaniswithisthereandwithiscaniswithistherewith with with blue with withbluewithiswith blue withthewith thewithlovestheloves withthewithiswithiswithiswithiswiththe\n",
      "who bluewithiswithcan withcaniswith withis is is is is is the iswiththeiswithiswithis thewith with with the there therehuman You with with withthere withisblue there thetherewiththerewiththesavewithiswithloves with with  canes\n",
      "[b'my angel baby' b'the gift that keeps']\n",
      "[198 198]\n",
      "userspainboothTelecomwithbluewiththereWetherewithistherefriendtherecantherefriendtherefriendtherelovestherewiththerewith the thehumanthewiththewiththewiththewiththewiththewiththewiththewiththewithlovesthelovesnothing Wewithdreamsloveswithanymore anymorewithlovescanlovesbluewithloves\n",
      "withuserswithwhothereWewithiswewithiswithisWecanfriendlovesfriendlovestheOrangefriendcanWewithisWeiscaniswithiswithWeYouWewithislovesfriendlovescanwithloveswithlovesbluelovestherebluewith loveswith withloveswiththereloveswithloveswith dressed Look who who\n",
      "[b'joy in my holiday song' b'And when you smile']\n",
      "[213 182]\n"
     ]
    },
    {
     "name": "stdout",
     "output_type": "stream",
     "text": [
      "themTaketheremytheremy myYoumythemythemyhumantheremyhumanmy mywithmy my books launches movesolutionsketchySoNavyaslovers'myRepublicans sees visible FrenchPluslovesPlusmy\n",
      "thempaintheir bluemylaunchesmytheremy my mycomemyWintermy WintermyinterfaceAndroidFinalbudgetFeatureGlobalFeatureat dressed my\n",
      "[b'I cant breathe' b'catch you tonight']\n",
      "[198 166]\n",
      "bluelauncheswhenloveswhenYoumywhenmywhenmy myWintermy mythelovesmydressedmyApplethisatmy\n",
      "Takeremediesmywhenmy my myYoumyYoulovesmylovesmyinterventionmywhiskeymylovesmylovesmy\n",
      "[b'keep you on ice' b'Snowflake you know']\n",
      "[182 182]\n",
      "canesnothingthemhealthTakelaunchesTakePlusTakefriendTakefriendPlusfriendmyYoumyfriendPlusmyPlusallPlusallYouwhenPlusYouastronomerSingtelYouBeatknowlaunchesmybluemywhenlauncheswhenMaplaunchesMap Map MaptheirmytheirthebreathethetheremywhenPluswhenPlusmyPluswhenPlus\n",
      "NokiaYoupaintheirTake whenPluswhenmywhenPluswhenPlusmywhenmyPluswhenmovingwhenPluswhenPluswhenPluswhenmywhenPluswhenYoumyYouallmyYouallWewhenExclusivelyYoudrinkwhenYoumyYoumywhenmyPlusYoumyPlusallPluslovesYoulovesnothingloveswhenPlanetsallwhenPlanetsallwhenallrockedallcommissionmywhiskeyI'mrisingFeatureallPlusmyPlusbreathePlus\n",
      "[b'no one like you' b'Sony Xperia L2 With Wide-Angle Selfie Camera']\n",
      "[166 300]\n",
      "nothingwhennothinginterface reactswhenknowwheninterfaceStartsslowdowninterfaceSouthwhenTestingwhenTestingYourbreatheAutismDamageRevealedbreathewhenbreathewhenbreathesatellitewhenknowwhenmywhenmywhenbreathewhenbreathewhenbreatheCameraallknowwhenPluswhenbreathePlusbreathethebreathemarinebreatheverdictYouwhenYoucloningwhenkeepfriendkeeplongestknowbluekeepbluefriendbreathedressedbreathedressedknowbreathe\n",
      "painwhenuserswhenkeepwhenknowwhen knowwhenI knowTakeYouwhenPlusTakePlusknowyourtheiryourwaterallwhiskeyallwhiskeyalljournalistverdictPlusverdictPlusCameraallwhenStateswhentonightwhenPlusknowYoualltheiralltheirevenknowallYouallYouallwhiskeyallPlusinterventionCamerawhenPlusCameraPlusCameraPluswhenCameraallPlusalltargetedwhenPlusbreathewhenPlusYouwhenYouwhenYouwhenhappenswhenPlusknowPlusknowPlustheirknowPluswhenFeaturewhenbreatheplacementbeforehumanChristianPlusopensChristianPluscanwillPlusdrinkwhenknowPlusfriendPluswhiskeysatellitePluswhiskeyPlusknowPluswhenPluswhenPluswhenPluswhenknowwhen\n",
      "[b\"I'm gonna hide you\" b'Hello Airtel postpaid users']\n",
      "[213 300]\n",
      "ITakepainIkeepusersblueIknowIblueOrangeCameraknowdreamsbreatheknow'PotentiallyAppleOracleAppleOracleinterfacewhenAppleDebutRevealedI'mRevealedI'm StartsI'mknowI'mwhenknowwhenknowwhenI'mhumanslipwhenworld'swhenblueI'mMapI'mMapI'mpermanentMapdressedI'mbreatheI'mdressedI'moutI'mplacementI'mknowastronomerCameraI'mCameraknowCameraI'mCameraknowI'mknowwhenCameraknowCameraknow knowtonightknowCameraknowCameraknowCameraknowtonightknowtonightkeepknowiceknowCameraknowtonight\n",
      "usersNokiaNotekeepknowCameraknowbreatheknowwhenknowuserswhenITakeusersIRedknowCameraknowCameraknowCameraknowusersCameratonightknowCameraknowCameraknowCameraknowCameraallWeknowCameratonightCameraknowCameraallYouknowYouknowCameraknowCamera knowwhenknowtonightCameratonightknowtonightCamerawhenCameraknowCameraknowCameraknowCameraknowCameraknowCameraknowCameraknowCameraknowCameraknowCameraknowCameraknowICameralovesdreamsCameraApplebreathe\n",
      "[b'never leaving' b\"we'll be freezing\"]\n",
      "[148 198]\n",
      "usersbreatheusersbreatheusersknowusersCamerausersknowusersknowuserskeepusersknowusersknowusersknowusersCamerausersCamerausersCamerauserskeepuserskeepCamerausersCameraApplecoldDebutscreamingNokiausers\n",
      "usersIndia'susersholduserstonightusersknowusersCamerausersCamerausersCamerausersCameraprofitusersprofittheirusersCamerausersCamerausersbreatheuserstonightI'mbreatheCamerausersCamerausersCamerausersknowCameraknowusersCamerausersCamerausersbreatheuserstonightuserskeepknow\n",
      "[b'you are my home' b\"come on let's go\"]\n",
      "[182 198]\n",
      "usersspend?usersthemusersI'musersIusersIusersIuserskeepusersknowusersI'mCameraI'mCameraI'mbreatheusersI'mFeatureinterfaceStartsI'musersI'mknowI'musersI'mCameraI'mbreatheCamerauserstonightuserstonightbreatheusersbreatheOracledressedbreathedressedLevelsdressedusersthemblueuserskeepiceusersdressed\n",
      "keepusersiceusersI'musersI'musersI'muserstonightusersknowI'musersknowusersI'mknowusersI'musersI'muserskeepuserskeepusersiceusersiceuserstonightusersicedreamsusersiceusers\n",
      "[b'go below zero' b'hide from the sun']\n",
      "[148 182]\n",
      "gouserskeepgousersgoI'mgoI'mgotonightgoI'mgousersgokeepgokeepgoI'mgotonighthomegoIkeepbreathedressedIbluekeep\n",
      "keepgokeepgoI'mgoI'mtonightI'mtonightI'mtonightI'mbreathetonightI'mtonightI'monebreatheonegobreathegousersgoI'musersgoI'mgobreatheneverbreatheiceinterfacebreathekeepuserskeepCameraseeskeep keepbreathegobreatheI'mkeepgo\n",
      "[b'hit the North Pole' b'live happily']\n",
      "[182 148]\n",
      "gokeepgonevergoI'mgokeepneverkeepI'mgoneverkeepnevergooneI'mgoI'mgoI'mgoI'monegoonegobreathetonightgowe'llkeepwe'llnevergoonegooneI keepice \n",
      "IDonaldkeepTelecomgo goI'mgoonegoonegoneveronegoonegobreathegoonebreathewe'lltonightwe'llkeepneverIgohome icegoice\n",
      "[b'carry me without legs' b'hear my secrets']\n",
      "[213 182]\n",
      "Ipaincashback20-month-oldsRed20-month-oldsIgocaneswe'llgohomegohomegohomegohomeneverwe'llcatchwe'llgoneverwe'llneverwe'llneverI'mtonightI'monewe'llonewe'llonewe'llonegooneneverwe'lltonightgowe'llgowe'llhomewe'llhomeonegoonegohidegotonightwe'lltonightwe'llneverkeepwe'llneverathitkeepvisiblekeepIdreamsIkeephidedreamsIgowe'llhidewe'llgoonehidegocanesdreamsIwe'llgowe'llgowe'llhomehidewe'll\n",
      "keepgokeepwe'llgoneverwe'llnevertonightwe'lltonightwe'lltonightwe'lloneI'mhomeI'mhomekeepI'mmissingtonightwe'lltonighthomeNokiadreamshomeII'mwe'llkeepwe'lltonightwe'lltonightwe'lltonightwe'llhomewe'llhomeI'mhomeneverhomenevertonighthomebreathehomebreathecatchhomeicehomeicehomeicehomeicegoiceI'mkeepgohomegohomegohomegohome\n",
      "[b'Planets beyond Milky Way galaxy discovered for first time'\n",
      " b'Jeep Compass Trailhawk SUV']\n",
      "[300 300]\n",
      "we'llhidelegswe'llneverhomehidehomeneverhideneverhideneverhidehomehidenevericeneverhomeneverhomeonehitsatellite-carryingfriendwe'llhomehidewe'llneverhideicewe'llneverwe'llneverhideneverhidewe'llkeepneverhitneverhideneverhidehomeonehomehidehomebreatheneverhitnevertonighthidehitneverhitneverhomeneverhomeonehomeneveroneneverhomeonehomehitoneneverhidehomehumanhomeRenaulthumanoneCamerahomeI'mhomehidehomehidebreathehideonehomeonehithomeonehomeneverhomeneveroneneverhomeonehomebreathehomeoneneveroneneverlegsneverkeepneverkeepneverhitneverhidehomehidehomehithomeneverhitnever\n",
      "IhidehomehidehomeicehomeIhomelivehomelegsliveneveroneneverhitonewe'llhidehomehidehomehidewe'llhomewe'llhomewe'llhomewe'llhomewe'llhithomeonehomeneverwe'llneverhidehomehidehomelivewe'llhomehithomehumanhomehithomehitneverhomehidehomehithideoneneverhideneverIhideIhideIiceIhideneverhideneverhidehitwe'lltonighthidetonighthidetonighthidetonighthithidehithidehittonighthidetonighthomeonehomeonehomehidehomelikehomegohitgohomeonehomehitonetonightonetonightbreatheonehithidehomeneverhomehideouthomeneverhomeneverhomelegshomelegsonewe'llicewe'llnever\n",
      "[b'I love this song' b'I know you']\n",
      "[182 182]\n",
      "IpainhidelegsneverlegshidehomehideI'mhumanI'mlegshidehomehidehomehithidelegshidelegshideIhidelegshithomehithidehithidehomehideoneReplymarineinterfaceslowdownbyhithomehidehitneverhitneverhitneverlegsneverlegsneverlegslivelegslive\n",
      "legsIlegshidelegshidelegshidelegshomehidehomeI'mhumanI'mhumanI'mhitlegshitlegsI'mlegshitlegshidehithidehomelegshithidehitneverlegshidelegshithidehithidehitlegsneverhithideneverlegshidetonightItonightnevertonightneverhealthneverliveIcatchlegsliveneverlegshidelegslivelegshidelivelegshideneverhidelegshidelegslive\n",
      "[b'youre a special one' b'Some see crazy']\n",
      "[198 198]\n",
      "legsscanningliveOffIlegslivelegslivefromlivefromlegspetrolsecretsNokialivelegsliveWinterlivelegslivelegsliveTrailhawkliveTrailhawkoneTrailhawkhitcardsIndiaTrailhawkhitonehomeonehitonelegsTrailhawkhitonehitTrailhawklegsIliveIliveTrailhawkhitlegsliveTrailhawkhideonehideTrailhawkoneTrailhawklegsTrailhawklegsTrailhawklegshomeonelivelegshomeonehomeoneTrailhawkonebreathelegsTrailhawklivetearsTrailhawkhideTrailhawkhitTrailhawkhitTrailhawkhitTrailhawklegslivelegslivelegs\n",
      "legsTrailhawklegsTrailhawklegsTrailhawkhidelegssecretslegsITrailhawkhitTrailhawklegsTrailhawklegsTrailhawkhitIlegsliveIliveIsecretsITrailhawklivehitlegshitlegshitlivehitlivelegsSpecificationslegsonehideoneIsecretsIlegshitsecretshitsecretshitonehitTrailhawklivelegslivelegsneverliveneverlivelegsdownLevelsreactsliveReadyone\n",
      "[b'where I see love' b'You fall so low']\n",
      "[198 231]\n"
     ]
    },
    {
     "name": "stdout",
     "output_type": "stream",
     "text": [
      "ITrailhawklivelegsTrailhawkhitlivelegshitTrailhawkhitlivehitTrailhawkoneTrailhawkoneITrailhawkhitTrailhawkhitIneversecretsIlivesecretslivehitsecretshitTrailhawkoneTrailhawkoneTrailhawkoneTrailhawkonIsecretsVivohumanhumanIndiaMaximumreactsyoureeffectiveromanceperiodrumhumanTechnologieshitIlivehidelowTrailhawklegsliveIonelowAshitlowGotlegsoneneversinglelegssingleTrailhawksecretshitneverReadyhitsecretssingle secretsI Telecom I Offseeatfor\n",
      "IlegssecretslegsTrailhawksecretsIsecretsIsecretsIsecretsIhidesecretslivesecretsIsecretsIsecretsIsecretsIsecretsIsecretsonelegssecretshitlegsTrailhawkoneIoneITrailhawkoneTrailhawkoneTrailhawkoneTrailhawkonehumanfinancinglowfinancinglowbooksonelaunchesonbooksTrailhawkoneTrailhawkliveTrailhawkIpetrolfromliveIfromITrailhawkwhiskeyTrailhawkliveTrailhawkbreatheusersTrailhawkonTrailhawkhitTrailhawkWinterlowTrailhawkinTrailhawkhitTrailhawkAayogTrailhawkhitastronomerTrailhawkoneTrailhawkhitTrailhawkdiet?Hazardous'bettingoneTrailhawklivehitlegsonespendlivehitsecretslivesecretslivelegsIlegsIliveIliveI\n",
      "[b'but shoot so high' b'So much life in those']\n",
      "[231 263]\n",
      "IoneIsecretsIsecretsIsecretsIsecretsIsecretsTrailhawkIonehitIoneIoneTrailhawkoneTrailhawkoneITrailhawkIoneIoneITrailhawkIliveITrailhawkoneIoneIsecretsonesecretsoneITrailhawkITrailhawkhitIoneIonehitIhitI'mhitIoneIoneliveIlivecrushedsecretsonesecretsIcanes yellow Nokia canes I IlivecatchIsecretsNokiaIsecretsIsecretsIsecretschange \n",
      "IsecretsITrailhawksecretsTrailhawkoneTrailhawkoneTrailhawkoneTrailhawkoneTrailhawkoneITrailhawkoneTrailhawkoneTrailhawkoneITrailhawkITrailhawksecretsTrailhawkIliveTrailhawkoneTrailhawkIoneIoneIoneIonehitoneIoneIsecretsoneTrailhawkoneITrailhawkoneTrailhawkoneTrailhawkhitonehitarmshidehithomelegsoneTrailhawkIoneIoneICanadaliveIseeTrailhawklovers'CompBookpetrolTrailhawkpetrolboothphonesliveoneliveIliveIliveIlegsIsecretsITrailhawkonechangeIweightsingleliverocketliveoneliveITrailhawk\n",
      "[b'you look for the light' b'when your wounds open']\n",
      "[231 231]\n",
      "lowhighlowsecretsIsecretslowTrailhawkseesecretsseeSpecificationssecretslegsSpecificationslowSpecificationslowliveyourlowonedescriptionDebutlowforgethighforBitcoindaysIlowIlowIlowliveIsecretslowIliveoneTrailhawksecretslowsecretslowsecretslowsecretslowTrailhawksecretsTrailhawklowIlowneverIoneIhighIhighonesecretsonesecretsonesecretsIsecretsonesecretsonesecretsonesecretsIhighIsecretshighsecretsIhighIonelivehighoneliveonelive\n",
      "lowTrailhawkoneTrailhawkIlowsecretsIsecretsIsecretsIsecretsIsecretsIlegssecretsTrailhawkliveIlivesecretslivesecretsseesecretsseeonesecretsIlowIlowonesecretsIsecretsonehighonesecretsonehighoneSooneSoliveIonesecretsITrailhawkITrailhawkseelowonelowTrailhawkhighonehighoneIsecretsIhidesecretsIsecretslivelowIneversecretsITrailhawkneverlowneverIoneliveonelivesecretsIsecretsonesecretsIliveTrailhawkIsecretslow IhighIhighsecretslowIsecretsIonesecrets\n",
      "[b\"'HTC U12' With 5G Support\" b'you will cry']\n",
      "[300 198]\n",
      "highSohighSohighSohighSohighSohighSolowSolowiceSoseeyourSoyourlow see lowhighlowU12'lowseelowseelowyourlowpersonlowhighVivoSoyourlowhitU12'lowyourlowyourSoseeyourseeyourseeyourseeyourseeU12'seeSpecificationsyourSpecificationsseeyourlowyourhighlowU12'yourU12'yourseeyourlowyourSoyourU12'yourU12'yourlowSohighlowhighSolow\n",
      "lowyourhighSolowSolowhighlowSolowSolowSohighSoseeSolowSolowSolowSohighlowseelegsseeSoseeSpecificationsseehighSolowseelowhighSoseelowseelowseeSohighSohighonehighIhighISohighiceSohighonehighSobreathehighbreatheSoseehighSohighSoseehighIhighsecretshightheirhighoneSohighSohigh\n",
      "[b'I can see a rainbow' b'they fall on down']\n",
      "[231 213]\n",
      "highlowhighlowyourSoseeSohighSohighseehighyourseehighyourhighlowhighyourseelowISolowSoneverlowSosecretsSoseeSoseehighseehighseehighseeSoyourSoseeSoseeSoseewillSohighSohighSoyourSohighSohighSoseeSoseeSoseeSowillSohighlowwilllowhighSowillhighdeafeninghuman bookscommentsalerthighbookshighatbookshighlivehigh\n",
      "highU12'seeSohighSohighSohighseeyourSoyourSoyourSoyourSoyourSoseeSoyourlowwilllowyourlowyourbeforehighSoseehighSoseeSoseeSolowSoyourlowSohighseeSoyourSoyourbreatheyourhighhidehighyourhighyouroneyourU12'yourwillhightheirseeseessee seeModelsseahighagainsthighlowU12'highyourhighsonghighforsecretshighsongEmojiyourseeEmojilegslivehighatthisdreamsmarinehighC highfor\n",
      "[b'see your soul grow' b'Through the pain']\n",
      "[231 198]\n"
     ]
    },
    {
     "ename": "KeyboardInterrupt",
     "evalue": "",
     "output_type": "error",
     "traceback": [
      "\u001b[0;31m---------------------------------------------------------------------------\u001b[0m",
      "\u001b[0;31mKeyboardInterrupt\u001b[0m                         Traceback (most recent call last)",
      "\u001b[0;32m<ipython-input-27-67a05a6bfc34>\u001b[0m in \u001b[0;36m<module>\u001b[0;34m()\u001b[0m\n\u001b[1;32m     54\u001b[0m                 \u001b[0md\u001b[0m \u001b[0;34m=\u001b[0m \u001b[0msess\u001b[0m\u001b[0;34m.\u001b[0m\u001b[0mrun\u001b[0m\u001b[0;34m(\u001b[0m\u001b[0mdecoded\u001b[0m\u001b[0;34m[\u001b[0m\u001b[0;36m0\u001b[0m\u001b[0;34m]\u001b[0m\u001b[0;34m,\u001b[0m \u001b[0mfeed_dict\u001b[0m\u001b[0;34m=\u001b[0m\u001b[0mfeed\u001b[0m\u001b[0;34m)\u001b[0m\u001b[0;34m\u001b[0m\u001b[0m\n\u001b[1;32m     55\u001b[0m \u001b[0;34m\u001b[0m\u001b[0m\n\u001b[0;32m---> 56\u001b[0;31m                 \u001b[0mdense_decoded\u001b[0m \u001b[0;34m=\u001b[0m \u001b[0mtf\u001b[0m\u001b[0;34m.\u001b[0m\u001b[0msparse_tensor_to_dense\u001b[0m\u001b[0;34m(\u001b[0m\u001b[0md\u001b[0m\u001b[0;34m,\u001b[0m \u001b[0mdefault_value\u001b[0m\u001b[0;34m=\u001b[0m\u001b[0;34m-\u001b[0m\u001b[0;36m1\u001b[0m\u001b[0;34m)\u001b[0m\u001b[0;34m.\u001b[0m\u001b[0meval\u001b[0m\u001b[0;34m(\u001b[0m\u001b[0msession\u001b[0m\u001b[0;34m=\u001b[0m\u001b[0msess\u001b[0m\u001b[0;34m)\u001b[0m\u001b[0;34m\u001b[0m\u001b[0m\n\u001b[0m\u001b[1;32m     57\u001b[0m \u001b[0;34m\u001b[0m\u001b[0m\n\u001b[1;32m     58\u001b[0m                 \u001b[0;32mfor\u001b[0m \u001b[0mi\u001b[0m\u001b[0;34m,\u001b[0m \u001b[0mseq\u001b[0m \u001b[0;32min\u001b[0m \u001b[0menumerate\u001b[0m\u001b[0;34m(\u001b[0m\u001b[0mdense_decoded\u001b[0m\u001b[0;34m)\u001b[0m\u001b[0;34m:\u001b[0m\u001b[0;34m\u001b[0m\u001b[0m\n",
      "\u001b[0;32m/home/saurabh/anaconda3/lib/python3.6/site-packages/tensorflow/python/framework/ops.py\u001b[0m in \u001b[0;36meval\u001b[0;34m(self, feed_dict, session)\u001b[0m\n\u001b[1;32m    646\u001b[0m \u001b[0;34m\u001b[0m\u001b[0m\n\u001b[1;32m    647\u001b[0m     \"\"\"\n\u001b[0;32m--> 648\u001b[0;31m     \u001b[0;32mreturn\u001b[0m \u001b[0m_eval_using_default_session\u001b[0m\u001b[0;34m(\u001b[0m\u001b[0mself\u001b[0m\u001b[0;34m,\u001b[0m \u001b[0mfeed_dict\u001b[0m\u001b[0;34m,\u001b[0m \u001b[0mself\u001b[0m\u001b[0;34m.\u001b[0m\u001b[0mgraph\u001b[0m\u001b[0;34m,\u001b[0m \u001b[0msession\u001b[0m\u001b[0;34m)\u001b[0m\u001b[0;34m\u001b[0m\u001b[0m\n\u001b[0m\u001b[1;32m    649\u001b[0m \u001b[0;34m\u001b[0m\u001b[0m\n\u001b[1;32m    650\u001b[0m \u001b[0;34m\u001b[0m\u001b[0m\n",
      "\u001b[0;32m/home/saurabh/anaconda3/lib/python3.6/site-packages/tensorflow/python/framework/ops.py\u001b[0m in \u001b[0;36m_eval_using_default_session\u001b[0;34m(tensors, feed_dict, graph, session)\u001b[0m\n\u001b[1;32m   4756\u001b[0m                        \u001b[0;34m\"the tensor's graph is different from the session's \"\u001b[0m\u001b[0;34m\u001b[0m\u001b[0m\n\u001b[1;32m   4757\u001b[0m                        \"graph.\")\n\u001b[0;32m-> 4758\u001b[0;31m   \u001b[0;32mreturn\u001b[0m \u001b[0msession\u001b[0m\u001b[0;34m.\u001b[0m\u001b[0mrun\u001b[0m\u001b[0;34m(\u001b[0m\u001b[0mtensors\u001b[0m\u001b[0;34m,\u001b[0m \u001b[0mfeed_dict\u001b[0m\u001b[0;34m)\u001b[0m\u001b[0;34m\u001b[0m\u001b[0m\n\u001b[0m\u001b[1;32m   4759\u001b[0m \u001b[0;34m\u001b[0m\u001b[0m\n\u001b[1;32m   4760\u001b[0m \u001b[0;34m\u001b[0m\u001b[0m\n",
      "\u001b[0;32m/home/saurabh/anaconda3/lib/python3.6/site-packages/tensorflow/python/client/session.py\u001b[0m in \u001b[0;36mrun\u001b[0;34m(self, fetches, feed_dict, options, run_metadata)\u001b[0m\n\u001b[1;32m    893\u001b[0m     \u001b[0;32mtry\u001b[0m\u001b[0;34m:\u001b[0m\u001b[0;34m\u001b[0m\u001b[0m\n\u001b[1;32m    894\u001b[0m       result = self._run(None, fetches, feed_dict, options_ptr,\n\u001b[0;32m--> 895\u001b[0;31m                          run_metadata_ptr)\n\u001b[0m\u001b[1;32m    896\u001b[0m       \u001b[0;32mif\u001b[0m \u001b[0mrun_metadata\u001b[0m\u001b[0;34m:\u001b[0m\u001b[0;34m\u001b[0m\u001b[0m\n\u001b[1;32m    897\u001b[0m         \u001b[0mproto_data\u001b[0m \u001b[0;34m=\u001b[0m \u001b[0mtf_session\u001b[0m\u001b[0;34m.\u001b[0m\u001b[0mTF_GetBuffer\u001b[0m\u001b[0;34m(\u001b[0m\u001b[0mrun_metadata_ptr\u001b[0m\u001b[0;34m)\u001b[0m\u001b[0;34m\u001b[0m\u001b[0m\n",
      "\u001b[0;32m/home/saurabh/anaconda3/lib/python3.6/site-packages/tensorflow/python/client/session.py\u001b[0m in \u001b[0;36m_run\u001b[0;34m(self, handle, fetches, feed_dict, options, run_metadata)\u001b[0m\n\u001b[1;32m   1126\u001b[0m     \u001b[0;32mif\u001b[0m \u001b[0mfinal_fetches\u001b[0m \u001b[0;32mor\u001b[0m \u001b[0mfinal_targets\u001b[0m \u001b[0;32mor\u001b[0m \u001b[0;34m(\u001b[0m\u001b[0mhandle\u001b[0m \u001b[0;32mand\u001b[0m \u001b[0mfeed_dict_tensor\u001b[0m\u001b[0;34m)\u001b[0m\u001b[0;34m:\u001b[0m\u001b[0;34m\u001b[0m\u001b[0m\n\u001b[1;32m   1127\u001b[0m       results = self._do_run(handle, final_targets, final_fetches,\n\u001b[0;32m-> 1128\u001b[0;31m                              feed_dict_tensor, options, run_metadata)\n\u001b[0m\u001b[1;32m   1129\u001b[0m     \u001b[0;32melse\u001b[0m\u001b[0;34m:\u001b[0m\u001b[0;34m\u001b[0m\u001b[0m\n\u001b[1;32m   1130\u001b[0m       \u001b[0mresults\u001b[0m \u001b[0;34m=\u001b[0m \u001b[0;34m[\u001b[0m\u001b[0;34m]\u001b[0m\u001b[0;34m\u001b[0m\u001b[0m\n",
      "\u001b[0;32m/home/saurabh/anaconda3/lib/python3.6/site-packages/tensorflow/python/client/session.py\u001b[0m in \u001b[0;36m_do_run\u001b[0;34m(self, handle, target_list, fetch_list, feed_dict, options, run_metadata)\u001b[0m\n\u001b[1;32m   1342\u001b[0m     \u001b[0;32mif\u001b[0m \u001b[0mhandle\u001b[0m \u001b[0;32mis\u001b[0m \u001b[0;32mNone\u001b[0m\u001b[0;34m:\u001b[0m\u001b[0;34m\u001b[0m\u001b[0m\n\u001b[1;32m   1343\u001b[0m       return self._do_call(_run_fn, self._session, feeds, fetches, targets,\n\u001b[0;32m-> 1344\u001b[0;31m                            options, run_metadata)\n\u001b[0m\u001b[1;32m   1345\u001b[0m     \u001b[0;32melse\u001b[0m\u001b[0;34m:\u001b[0m\u001b[0;34m\u001b[0m\u001b[0m\n\u001b[1;32m   1346\u001b[0m       \u001b[0;32mreturn\u001b[0m \u001b[0mself\u001b[0m\u001b[0;34m.\u001b[0m\u001b[0m_do_call\u001b[0m\u001b[0;34m(\u001b[0m\u001b[0m_prun_fn\u001b[0m\u001b[0;34m,\u001b[0m \u001b[0mself\u001b[0m\u001b[0;34m.\u001b[0m\u001b[0m_session\u001b[0m\u001b[0;34m,\u001b[0m \u001b[0mhandle\u001b[0m\u001b[0;34m,\u001b[0m \u001b[0mfeeds\u001b[0m\u001b[0;34m,\u001b[0m \u001b[0mfetches\u001b[0m\u001b[0;34m)\u001b[0m\u001b[0;34m\u001b[0m\u001b[0m\n",
      "\u001b[0;32m/home/saurabh/anaconda3/lib/python3.6/site-packages/tensorflow/python/client/session.py\u001b[0m in \u001b[0;36m_do_call\u001b[0;34m(self, fn, *args)\u001b[0m\n\u001b[1;32m   1348\u001b[0m   \u001b[0;32mdef\u001b[0m \u001b[0m_do_call\u001b[0m\u001b[0;34m(\u001b[0m\u001b[0mself\u001b[0m\u001b[0;34m,\u001b[0m \u001b[0mfn\u001b[0m\u001b[0;34m,\u001b[0m \u001b[0;34m*\u001b[0m\u001b[0margs\u001b[0m\u001b[0;34m)\u001b[0m\u001b[0;34m:\u001b[0m\u001b[0;34m\u001b[0m\u001b[0m\n\u001b[1;32m   1349\u001b[0m     \u001b[0;32mtry\u001b[0m\u001b[0;34m:\u001b[0m\u001b[0;34m\u001b[0m\u001b[0m\n\u001b[0;32m-> 1350\u001b[0;31m       \u001b[0;32mreturn\u001b[0m \u001b[0mfn\u001b[0m\u001b[0;34m(\u001b[0m\u001b[0;34m*\u001b[0m\u001b[0margs\u001b[0m\u001b[0;34m)\u001b[0m\u001b[0;34m\u001b[0m\u001b[0m\n\u001b[0m\u001b[1;32m   1351\u001b[0m     \u001b[0;32mexcept\u001b[0m \u001b[0merrors\u001b[0m\u001b[0;34m.\u001b[0m\u001b[0mOpError\u001b[0m \u001b[0;32mas\u001b[0m \u001b[0me\u001b[0m\u001b[0;34m:\u001b[0m\u001b[0;34m\u001b[0m\u001b[0m\n\u001b[1;32m   1352\u001b[0m       \u001b[0mmessage\u001b[0m \u001b[0;34m=\u001b[0m \u001b[0mcompat\u001b[0m\u001b[0;34m.\u001b[0m\u001b[0mas_text\u001b[0m\u001b[0;34m(\u001b[0m\u001b[0me\u001b[0m\u001b[0;34m.\u001b[0m\u001b[0mmessage\u001b[0m\u001b[0;34m)\u001b[0m\u001b[0;34m\u001b[0m\u001b[0m\n",
      "\u001b[0;32m/home/saurabh/anaconda3/lib/python3.6/site-packages/tensorflow/python/client/session.py\u001b[0m in \u001b[0;36m_run_fn\u001b[0;34m(session, feed_dict, fetch_list, target_list, options, run_metadata)\u001b[0m\n\u001b[1;32m   1318\u001b[0m                 run_metadata):\n\u001b[1;32m   1319\u001b[0m       \u001b[0;31m# Ensure any changes to the graph are reflected in the runtime.\u001b[0m\u001b[0;34m\u001b[0m\u001b[0;34m\u001b[0m\u001b[0m\n\u001b[0;32m-> 1320\u001b[0;31m       \u001b[0mself\u001b[0m\u001b[0;34m.\u001b[0m\u001b[0m_extend_graph\u001b[0m\u001b[0;34m(\u001b[0m\u001b[0;34m)\u001b[0m\u001b[0;34m\u001b[0m\u001b[0m\n\u001b[0m\u001b[1;32m   1321\u001b[0m       \u001b[0;32mwith\u001b[0m \u001b[0merrors\u001b[0m\u001b[0;34m.\u001b[0m\u001b[0mraise_exception_on_not_ok_status\u001b[0m\u001b[0;34m(\u001b[0m\u001b[0;34m)\u001b[0m \u001b[0;32mas\u001b[0m \u001b[0mstatus\u001b[0m\u001b[0;34m:\u001b[0m\u001b[0;34m\u001b[0m\u001b[0m\n\u001b[1;32m   1322\u001b[0m         \u001b[0;32mif\u001b[0m \u001b[0mself\u001b[0m\u001b[0;34m.\u001b[0m\u001b[0m_created_with_new_api\u001b[0m\u001b[0;34m:\u001b[0m\u001b[0;34m\u001b[0m\u001b[0m\n",
      "\u001b[0;32m/home/saurabh/anaconda3/lib/python3.6/site-packages/tensorflow/python/client/session.py\u001b[0m in \u001b[0;36m_extend_graph\u001b[0;34m(self)\u001b[0m\n\u001b[1;32m   1379\u001b[0m         \u001b[0;32mwith\u001b[0m \u001b[0merrors\u001b[0m\u001b[0;34m.\u001b[0m\u001b[0mraise_exception_on_not_ok_status\u001b[0m\u001b[0;34m(\u001b[0m\u001b[0;34m)\u001b[0m \u001b[0;32mas\u001b[0m \u001b[0mstatus\u001b[0m\u001b[0;34m:\u001b[0m\u001b[0;34m\u001b[0m\u001b[0m\n\u001b[1;32m   1380\u001b[0m           tf_session.TF_ExtendGraph(\n\u001b[0;32m-> 1381\u001b[0;31m               self._session, graph_def.SerializeToString(), status)\n\u001b[0m\u001b[1;32m   1382\u001b[0m         \u001b[0mself\u001b[0m\u001b[0;34m.\u001b[0m\u001b[0m_opened\u001b[0m \u001b[0;34m=\u001b[0m \u001b[0;32mTrue\u001b[0m\u001b[0;34m\u001b[0m\u001b[0m\n\u001b[1;32m   1383\u001b[0m \u001b[0;34m\u001b[0m\u001b[0m\n",
      "\u001b[0;31mKeyboardInterrupt\u001b[0m: "
     ]
    }
   ],
   "source": [
    "# Start training\n",
    "with tf.Session() as sess:\n",
    "    sess.run(init)\n",
    "    \n",
    "    # op to write logs to Tensorboard\n",
    "    summary_writer = tf.summary.FileWriter(logs_path, graph=tf.get_default_graph())\n",
    "\n",
    "    # Training cycle\n",
    "    for epoch in range(training_steps):\n",
    "     #   avg_cost = 0.\n",
    "           # Save model weights to disk\n",
    "        save_path = saver.save(sess, model_path)\n",
    "        print(\"Model saved in file: %s\" % save_path) \n",
    "        \n",
    "        \n",
    "        sess.run(iterator.initializer)\n",
    "        train_cost=0\n",
    "        \n",
    "        while True:\n",
    "            try:\n",
    "                Next_element=sess.run(item)\n",
    "             \n",
    "            \n",
    "                 \n",
    "                print(Next_element[1])   \n",
    "                \n",
    "                batch_list = []\n",
    "                \n",
    " \n",
    "                for index,j in enumerate(Next_element[1]):\n",
    "                    batch_list.insert(index, word_to_index(j.decode(\"utf-8\")))\n",
    "                    \n",
    "                \n",
    "                batch_targets = sparse_tuple_from(batch_list)\n",
    "                \n",
    "                print(Next_element[2])\n",
    "                \n",
    "                feed = {inputs: Next_element[0],\n",
    "                        targets: batch_targets,\n",
    "                        seq_len: Next_element[2],\n",
    "                         }\n",
    "\t    \n",
    "\n",
    "                batch_cost, _ , summary = sess.run([cost, optimizer , merged_summary_op ], feed)\n",
    "               # print(batch_cost)\n",
    "                \n",
    "                train_cost += batch_cost*batch_size\n",
    "                \n",
    "                \n",
    "                # Write logs at every iteration\n",
    "                summary_writer.add_summary(summary, epoch )\n",
    "                \n",
    "                 # Decoding\n",
    "                d = sess.run(decoded[0], feed_dict=feed)\n",
    "   \n",
    "                dense_decoded = tf.sparse_tensor_to_dense(d, default_value=-1).eval(session=sess)\n",
    "    \n",
    "                for i, seq in enumerate(dense_decoded):\n",
    "\n",
    "                    seq = [s for s in seq if s != -1]\n",
    "       \n",
    "                    str_decoded = ''.join([keys_of_value(word_dictionary, x) for x in seq ])\n",
    "                    print(str_decoded)\n",
    "            \n",
    "              \n",
    "            except tf.errors.OutOfRangeError:\n",
    "              print(train_cost)\n",
    "              \n",
    "              \n",
    "              break\n",
    "                \n",
    "        # Save model weights to disk at the end of all epochs, if we remove this last epoch doesnt gets saved\n",
    "    save_path = saver.save(sess, model_path)\n",
    "    print(\"Model saved in file: %s\" % save_path)         \n",
    "\n",
    "               \n",
    "        \n",
    "            \n",
    "                \n",
    "                \n",
    "             \n",
    "                \n",
    "                \n",
    "            "
   ]
  },
  {
   "cell_type": "code",
   "execution_count": null,
   "metadata": {
    "collapsed": true
   },
   "outputs": [],
   "source": [
    "\n",
    "    \n",
    "    \n",
    "    "
   ]
  },
  {
   "cell_type": "code",
   "execution_count": null,
   "metadata": {
    "collapsed": true
   },
   "outputs": [],
   "source": []
  },
  {
   "cell_type": "code",
   "execution_count": null,
   "metadata": {
    "collapsed": true
   },
   "outputs": [],
   "source": []
  },
  {
   "cell_type": "code",
   "execution_count": null,
   "metadata": {
    "collapsed": true
   },
   "outputs": [],
   "source": []
  },
  {
   "cell_type": "code",
   "execution_count": null,
   "metadata": {
    "collapsed": true
   },
   "outputs": [],
   "source": []
  },
  {
   "cell_type": "code",
   "execution_count": null,
   "metadata": {
    "collapsed": true
   },
   "outputs": [],
   "source": []
  },
  {
   "cell_type": "code",
   "execution_count": null,
   "metadata": {
    "collapsed": true
   },
   "outputs": [],
   "source": []
  },
  {
   "cell_type": "code",
   "execution_count": null,
   "metadata": {
    "collapsed": true
   },
   "outputs": [],
   "source": []
  }
 ],
 "metadata": {
  "kernelspec": {
   "display_name": "tf_orange",
   "language": "python",
   "name": "tf_orange"
  },
  "language_info": {
   "codemirror_mode": {
    "name": "ipython",
    "version": 3
   },
   "file_extension": ".py",
   "mimetype": "text/x-python",
   "name": "python",
   "nbconvert_exporter": "python",
   "pygments_lexer": "ipython3",
   "version": "3.6.1"
  }
 },
 "nbformat": 4,
 "nbformat_minor": 2
}
