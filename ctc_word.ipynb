{
 "cells": [
  {
   "cell_type": "code",
   "execution_count": 1,
   "metadata": {
    "collapsed": true
   },
   "outputs": [],
   "source": [
    "#  word level CTC  tensorflow version 1.3\n",
    "\n",
    "# personal note : CTC Tensorflow documentation is not at all clear and intuitive , so if confused refer to any example\n",
    "# note for decoder, the input has to be in this format 3-D float Tensor sized [max_time x batch_size x num_classes]\n",
    "# it doesn't support time major option\n",
    "# if I use sequence length property of tf.contrib.rnn.static_rnn  , it will do dynamic computation , in other words\n",
    "# I don't need to calculate differences for padding inputs, just pad to a upper limit, but since its dynamic \n",
    "# tf will only unroll till sequence length for each of the inputs \n",
    "\n",
    "\n",
    "# to do :   \n",
    "#graphical loss function , testing on realdataset , seperate training and inference , model save/restore\n",
    "\n",
    "\n",
    "# current problems \n",
    "# lousy implementation , for each batch, I am creating a temporary numpy array and padding values ..\n",
    "\n",
    "\n",
    "# please change the following according to your system\n",
    "# hyperparameters in this notebook\n",
    "# words in words/words.txt file , one per line , last line has space word\n",
    "# change paths in this notebook to that corresponding to your system\n",
    "\n",
    "\n",
    "# peace.\n",
    "\n",
    "\n"
   ]
  },
  {
   "cell_type": "code",
   "execution_count": 2,
   "metadata": {
    "collapsed": true
   },
   "outputs": [],
   "source": [
    "import tensorflow as tf\n",
    "from __future__ import print_function\n",
    "from tensorflow.contrib import rnn\n",
    "import numpy as np\n",
    "import scipy.io.wavfile as wav\n",
    "from python_speech_features import mfcc\n",
    "from tensorflow.contrib.data import Dataset, Iterator\n",
    "import time\n"
   ]
  },
  {
   "cell_type": "code",
   "execution_count": 3,
   "metadata": {
    "collapsed": true
   },
   "outputs": [],
   "source": [
    "def audio_to_mfcc(fileurl):\n",
    "    rate, sig = wav.read(fileurl)\n",
    "    mfcc_feat = mfcc(sig,rate)\n",
    "#d_mfcc_feat = delta(mfcc_feat, 2)\n",
    "#fbank_feat = logfbank(sig,rate)\n",
    "\n",
    "    return mfcc_feat"
   ]
  },
  {
   "cell_type": "code",
   "execution_count": null,
   "metadata": {
    "collapsed": true
   },
   "outputs": [],
   "source": []
  },
  {
   "cell_type": "code",
   "execution_count": 4,
   "metadata": {
    "collapsed": true
   },
   "outputs": [],
   "source": [
    "inputs = audio_to_mfcc('/home/saurabh/Documents/tf_orange/tf_orange/data/test.wav')"
   ]
  },
  {
   "cell_type": "code",
   "execution_count": 5,
   "metadata": {},
   "outputs": [
    {
     "data": {
      "text/plain": [
       "(299, 13)"
      ]
     },
     "execution_count": 5,
     "metadata": {},
     "output_type": "execute_result"
    }
   ],
   "source": [
    "inputs.shape"
   ]
  },
  {
   "cell_type": "code",
   "execution_count": 6,
   "metadata": {
    "collapsed": true
   },
   "outputs": [],
   "source": [
    "def decode_csv(line):\n",
    "       parsed_line = tf.decode_csv(line, [[\"\"],[\"\"]])\n",
    "       \n",
    "    \n",
    "       \n",
    "       \n",
    "\n",
    "       return parsed_line[0] , parsed_line[1]"
   ]
  },
  {
   "cell_type": "code",
   "execution_count": 7,
   "metadata": {
    "collapsed": true
   },
   "outputs": [],
   "source": [
    "# we also need a fixed vocabulary \n",
    "import re\n",
    "\n",
    "word_dictionary = {}\n",
    "\n",
    "with open(\"/home/saurabh/Documents/tf_orange/tf_orange/words/words.txt\") as file:\n",
    "    for i , line in enumerate(file):\n",
    "        \n",
    "        line = line.replace(\"\\n\", \"\")\n",
    "        word_dictionary[line] = i\n",
    "\n"
   ]
  },
  {
   "cell_type": "code",
   "execution_count": 8,
   "metadata": {},
   "outputs": [
    {
     "name": "stdout",
     "output_type": "stream",
     "text": [
      "8\n"
     ]
    }
   ],
   "source": [
    "print(len(word_dictionary))"
   ]
  },
  {
   "cell_type": "code",
   "execution_count": 9,
   "metadata": {
    "collapsed": true
   },
   "outputs": [],
   "source": [
    "\n",
    "\n",
    "\n",
    "def word_to_index(sentence):\n",
    "   \n",
    "    words = sentence.split(' ')\n",
    "    index_list=[]\n",
    "    for word in words:\n",
    "       \n",
    "        if word in word_dictionary:\n",
    "           # print(word)\n",
    "            index_list.insert(len(index_list) , word_dictionary[word])\n",
    "            index_list.insert(len(index_list) , word_dictionary[' '])\n",
    "    index_list.pop()        \n",
    "    return index_list\n",
    "  "
   ]
  },
  {
   "cell_type": "code",
   "execution_count": 10,
   "metadata": {},
   "outputs": [
    {
     "data": {
      "text/plain": [
       "[0, 7, 1, 7, 2, 7, 3]"
      ]
     },
     "execution_count": 10,
     "metadata": {},
     "output_type": "execute_result"
    }
   ],
   "source": [
    "word_to_index('this is a test')"
   ]
  },
  {
   "cell_type": "code",
   "execution_count": 11,
   "metadata": {
    "collapsed": true
   },
   "outputs": [],
   "source": [
    "def _read_py_function(audio, label):\n",
    "    audio =audio_to_mfcc(audio)\n",
    "   \n",
    "    return audio ,label"
   ]
  },
  {
   "cell_type": "code",
   "execution_count": 12,
   "metadata": {
    "collapsed": true
   },
   "outputs": [],
   "source": [
    "dataset = tf.contrib.data.TextLineDataset(\"/home/saurabh/Documents/tf_orange/tf_orange/data/data.csv\")\n",
    "dataset=dataset.map(decode_csv)\n",
    "\n",
    "\n",
    "\n",
    "dataset = dataset.map(\n",
    "    lambda audio, label: tuple(tf.py_func(\n",
    "        _read_py_function, [audio, label], [tf.double, label.dtype])))\n",
    "\n",
    "\n",
    "\n",
    "\n",
    "dataset=dataset.batch(2)\n"
   ]
  },
  {
   "cell_type": "code",
   "execution_count": 13,
   "metadata": {
    "collapsed": true
   },
   "outputs": [],
   "source": [
    "\n",
    "iterator = dataset.make_initializable_iterator()\n",
    "\n",
    "item = iterator.get_next()"
   ]
  },
  {
   "cell_type": "code",
   "execution_count": 14,
   "metadata": {
    "collapsed": true
   },
   "outputs": [],
   "source": [
    "# this function is required for CTC Loss\n",
    "# for it's input , first convert transcrition / ground truth to number representation \n",
    "\n",
    "def sparse_tuple_from(sequences, dtype=np.int32):\n",
    "    \"\"\"Create a sparse representention of x.\n",
    "    Args:\n",
    "        sequences: a list of lists of type dtype where each element is a sequence\n",
    "    Returns:\n",
    "        A tuple with (indices, values, shape)\n",
    "    \"\"\"\n",
    "    indices = []\n",
    "    values = []\n",
    "\n",
    "    for n, seq in enumerate(sequences):\n",
    "        indices.extend(zip([n]*len(seq), range(len(seq))))\n",
    "        values.extend(seq)\n",
    "\n",
    "    indices = np.asarray(indices, dtype=np.int64)\n",
    "    values = np.asarray(values, dtype=dtype)\n",
    "    shape = np.asarray([len(sequences), np.asarray(indices).max(0)[1]+1], dtype=np.int64)\n",
    "\n",
    "    return indices, values, shape"
   ]
  },
  {
   "cell_type": "code",
   "execution_count": null,
   "metadata": {
    "collapsed": true
   },
   "outputs": [],
   "source": []
  },
  {
   "cell_type": "code",
   "execution_count": 15,
   "metadata": {
    "collapsed": true
   },
   "outputs": [],
   "source": [
    "# Training Parameters\n",
    "learning_rate = 0.001\n",
    "training_steps = 50\n",
    "batch_size = 2\n",
    "display_step = 200\n",
    "num_features = 13\n",
    "\n",
    "# Network Parameters\n",
    "\n",
    "timesteps = 300 # timesteps\n",
    "num_hidden = 128 # hidden layer num of features\n",
    "num_classes = 9 # words.txt , all words plus space word  ( 10001) + CTC symbol (1)\n",
    "\n",
    "\n"
   ]
  },
  {
   "cell_type": "code",
   "execution_count": 16,
   "metadata": {
    "collapsed": true
   },
   "outputs": [],
   "source": [
    "# Define weights\n",
    "weights = {\n",
    "    'out': tf.Variable(tf.random_normal([batch_size, 2 * num_hidden, num_classes]))\n",
    "}\n",
    "biases = {\n",
    "    'out': tf.Variable(tf.random_normal([num_classes]))\n",
    "}"
   ]
  },
  {
   "cell_type": "code",
   "execution_count": 17,
   "metadata": {
    "collapsed": true
   },
   "outputs": [],
   "source": [
    "def RNN(x, weights, biases):\n",
    "\n",
    "    # Prepare data shape to match `rnn` function requirements\n",
    "    # Current data input shape: (batch_size, timesteps, n_input)\n",
    "    # Required shape: 'timesteps' tensors list of shape (batch_size, n_input)\n",
    "\n",
    "    # Unstack to get a list of 'timesteps' tensors of shape (batch_size, n_input)\n",
    "    x = tf.unstack(x, timesteps, 1)\n",
    "\n",
    "    # Define a lstm cell with tensorflow\n",
    "    lstm_cell_fw = rnn.BasicLSTMCell(num_hidden, forget_bias=1.0)\n",
    "    \n",
    "    lstm_cell_bw = rnn.BasicLSTMCell(num_hidden, forget_bias=1.0)\n",
    "\n",
    "    \n",
    "    # Get lstm cell output\n",
    "    outputs, _, _ = rnn.static_bidirectional_rnn(lstm_cell_fw, lstm_cell_bw, x,\n",
    "    dtype=tf.float32)\n",
    "    \n",
    "    #convert output shape (timesteps * batch * classes ) to (batch*timesteps*classes)\n",
    "    outputs=tf.transpose( outputs , [1, 0, 2])\n",
    "    \n",
    "    \n",
    "    \n",
    "  \n",
    "    res =  tf.matmul(outputs, weights['out']) + biases['out']\n",
    "    \n",
    "    return res\n",
    "   # return tf.nn.softmax(tf.matmul(outputs, weights['out']) + biases['out'])"
   ]
  },
  {
   "cell_type": "code",
   "execution_count": 18,
   "metadata": {
    "collapsed": true
   },
   "outputs": [],
   "source": [
    "\n",
    "#prediction = tf.nn.softmax(logits)\n",
    "inputs = tf.placeholder(tf.float32, [None, None, num_features])\n",
    "targets = tf.sparse_placeholder(tf.int32)\n",
    "seq_len = tf.placeholder(tf.int32, [None])\n",
    "\n",
    "\n",
    "\n",
    "\n",
    "logits = RNN(inputs, weights, biases)\n",
    "\n",
    "loss =  tf.nn.ctc_loss ( targets, logits , seq_len , time_major = False)\n",
    "cost = tf.reduce_mean(loss)\n",
    "optimizer = tf.train.MomentumOptimizer(learning_rate,\n",
    "                                           0.9).minimize(cost)\n",
    "\n",
    "\n",
    "# Option 2: tf.contrib.ctc.ctc_beam_search_decoder\n",
    "    # (it's slower but you'll get better results)\n",
    "decoder_input = tf.transpose(logits, [1, 0, 2])\n",
    "\n",
    "decoded, log_prob = tf.nn.ctc_greedy_decoder(decoder_input, seq_len)\n",
    "\n",
    "    "
   ]
  },
  {
   "cell_type": "code",
   "execution_count": null,
   "metadata": {
    "collapsed": true
   },
   "outputs": [],
   "source": []
  },
  {
   "cell_type": "code",
   "execution_count": 19,
   "metadata": {
    "collapsed": true
   },
   "outputs": [],
   "source": [
    "init = tf.global_variables_initializer()"
   ]
  },
  {
   "cell_type": "code",
   "execution_count": null,
   "metadata": {
    "collapsed": true
   },
   "outputs": [],
   "source": []
  },
  {
   "cell_type": "code",
   "execution_count": 20,
   "metadata": {
    "collapsed": true
   },
   "outputs": [],
   "source": [
    "# need this for decoding word give its index key value \n",
    "\n",
    "def keys_of_value(dct, value):\n",
    "    for k in dct:\n",
    "        if isinstance(dct[k], list):\n",
    "            if value in dct[k]:\n",
    "                return k\n",
    "        else:\n",
    "            if value == dct[k]:\n",
    "                return k"
   ]
  },
  {
   "cell_type": "code",
   "execution_count": 21,
   "metadata": {},
   "outputs": [
    {
     "name": "stdout",
     "output_type": "stream",
     "text": [
      "None\n"
     ]
    }
   ],
   "source": [
    "# testing above function \n",
    "\n",
    "print(keys_of_value(word_dictionary, 2419))"
   ]
  },
  {
   "cell_type": "code",
   "execution_count": 22,
   "metadata": {},
   "outputs": [
    {
     "name": "stdout",
     "output_type": "stream",
     "text": [
      "1533.35\n",
      "world test\n",
      "worldworldworldworld\n",
      "1229.42\n",
      "testtest\n",
      "\n",
      "56.3288\n",
      "  \n",
      " \n",
      "165.907\n",
      "  test\n",
      "\n",
      "39.9482\n",
      "  \n",
      " is \n",
      "88.1282\n",
      "  test\n",
      "\n",
      "32.4728\n",
      "       world  world\n",
      "isis  \n",
      "58.6219\n",
      "   test\n",
      "isanother\n",
      "29.2582\n",
      "     world\n",
      " world  \n",
      "31.0465\n",
      "   test\n",
      " is another  \n",
      "13.0262\n",
      "hello hello  world\n",
      "world world \n",
      "24.6456\n",
      "  a test\n",
      " is another \n",
      "6.24948\n",
      "hello hello  world\n",
      "world world world\n",
      "21.0955\n",
      " test a test\n",
      " is another test\n",
      "5.67181\n",
      "hello   world\n",
      "world world  \n",
      "17.1613\n",
      " test a test\n",
      " is another test\n",
      "3.70113\n",
      "hello world  world\n",
      "world world world\n",
      "14.963\n",
      "  a test\n",
      " is another test\n",
      "2.30455\n",
      "hello world  world\n",
      "world world world\n",
      "13.1585\n",
      "  a test\n",
      "this is another test\n",
      "1.82219\n",
      "hello world  world\n",
      "world world world\n",
      "11.8625\n",
      "  a test\n",
      "this is another test\n",
      "1.79459\n",
      "hello world hello world\n",
      "world world world\n",
      "11.1771\n",
      "  a test\n",
      "this is another test\n",
      "1.5974\n",
      "hello world hellohello world\n",
      "world world world\n",
      "10.4317\n",
      "  a test\n",
      "this is another test\n",
      "1.45204\n",
      "hello world hello world\n",
      "world world world\n",
      "9.8907\n",
      "  a test\n",
      "this is another test\n",
      "1.10656\n",
      "hello world hello world\n",
      "world world world\n",
      "9.41544\n",
      "  a test\n",
      "this is another test\n",
      "1.22131\n",
      "hello world  world\n",
      "world world world\n",
      "8.86144\n",
      "  a test\n",
      "this is another test\n",
      "0.835257\n",
      "hello world  world\n",
      "world world world\n",
      "8.26264\n",
      "  a test\n",
      "this is another test\n",
      "1.00857\n",
      "hello world  world\n",
      "world world world\n",
      "7.66373\n",
      "  a test\n",
      "this is another test\n",
      "0.850948\n",
      "hello world  world\n",
      "world world world\n",
      "7.06162\n",
      "  a test\n",
      "this is another test\n",
      "0.724651\n",
      "hello world  world\n",
      "world world world\n",
      "6.46953\n",
      "  a test\n",
      "this is another test\n",
      "0.654858\n",
      "hello world hello world\n",
      "world world world\n",
      "5.86825\n",
      "  a test\n",
      "this is another test\n",
      "0.630267\n",
      "hello world hello world\n",
      "world world world\n",
      "5.23496\n",
      " world a test\n",
      "this is another test\n",
      "0.606149\n",
      "hello world hello world\n",
      "world world world\n",
      "4.57389\n",
      " world a test\n",
      "this is another test\n",
      "0.56983\n",
      "hello world hello world\n",
      "world world world\n",
      "3.96288\n",
      " world a test\n",
      "this is another test\n",
      "0.542155\n",
      "hello world hello world\n",
      "world world world\n",
      "3.36184\n",
      " is a test\n",
      "this is another test\n",
      "0.534228\n",
      "hello world  world\n",
      "world world world\n",
      "2.75167\n",
      " is a test\n",
      "this is another test\n",
      "0.529502\n",
      "hello world  world\n",
      "world world world\n",
      "2.24642\n",
      " is a test\n",
      "this is another test\n",
      "0.516096\n",
      "hello world hello world\n",
      "world world world\n",
      "1.88605\n",
      " is a test\n",
      "this is another test\n",
      "0.499244\n",
      "hello world hello world\n",
      "world world world\n",
      "1.57409\n",
      " is a test\n",
      "this is another test\n",
      "0.483408\n",
      "hello world hello world\n",
      "world world world\n",
      "1.2252\n",
      "this is a test\n",
      "this is another test\n",
      "0.463153\n",
      "hello world hello world\n",
      "world world world\n",
      "0.828138\n",
      "this is a test\n",
      "this is another test\n",
      "0.434613\n",
      "hello world hello world\n",
      "world world world\n",
      "0.617678\n",
      "this is a test\n",
      "this is another test\n",
      "0.404717\n",
      "hello world hello world\n",
      "world world world\n",
      "0.501673\n",
      "this is a test\n",
      "this is another test\n",
      "0.379041\n",
      "hello world hello world\n",
      "world world world\n",
      "0.422189\n",
      "this is a test\n",
      "this is another test\n",
      "0.356042\n",
      "hello world hello world\n",
      "world world world\n",
      "0.36407\n",
      "this is a test\n",
      "this is another test\n",
      "0.334386\n",
      "hello world hello world\n",
      "world world world\n",
      "0.320389\n",
      "this is a test\n",
      "this is another test\n",
      "0.314233\n",
      "hello world hello world\n",
      "world world world\n",
      "0.286895\n",
      "this is a test\n",
      "this is another test\n",
      "0.296006\n",
      "hello world hello world\n",
      "world world world\n",
      "0.260723\n",
      "this is a test\n",
      "this is another test\n",
      "0.279792\n",
      "hello world hello world\n",
      "world world world\n",
      "0.239903\n",
      "this is a test\n",
      "this is another test\n",
      "0.265359\n",
      "hello world hello world\n",
      "world world world\n",
      "0.223068\n",
      "this is a test\n",
      "this is another test\n",
      "0.25236\n",
      "hello world hello world\n",
      "world world world\n",
      "0.209252\n",
      "this is a test\n",
      "this is another test\n",
      "0.24049\n",
      "hello world hello world\n",
      "world world world\n",
      "0.197759\n",
      "this is a test\n",
      "this is another test\n",
      "0.229581\n",
      "hello world hello world\n",
      "world world world\n",
      "0.188077\n",
      "this is a test\n",
      "this is another test\n",
      "0.219593\n",
      "hello world hello world\n",
      "world world world\n",
      "0.179824\n",
      "this is a test\n",
      "this is another test\n",
      "0.210527\n",
      "hello world hello world\n",
      "world world world\n",
      "0.172711\n",
      "this is a test\n",
      "this is another test\n",
      "0.20234\n",
      "hello world hello world\n",
      "world world world\n",
      "0.166516\n",
      "this is a test\n",
      "this is another test\n",
      "0.194898\n",
      "hello world hello world\n",
      "world world world\n",
      "0.161064\n",
      "this is a test\n",
      "this is another test\n",
      "0.188004\n",
      "hello world hello world\n",
      "world world world\n",
      "0.156224\n",
      "this is a test\n",
      "this is another test\n",
      "0.181431\n",
      "hello world hello world\n",
      "world world world\n",
      "0.151888\n",
      "this is a test\n",
      "this is another test\n",
      "0.174995\n",
      "hello world hello world\n",
      "world world world\n",
      "0.147974\n",
      "this is a test\n",
      "this is another test\n",
      "0.295947700739\n"
     ]
    }
   ],
   "source": [
    "with tf.Session() as sess:\n",
    "    \n",
    "\n",
    "    # Run the initializer\n",
    "    sess.run(init)\n",
    "    \n",
    "\n",
    "    \n",
    "\n",
    "\n",
    "    #print(train_seq_len)\n",
    "    \n",
    "    for curr_epoch in range(training_steps):\n",
    "        \n",
    "        sess.run(iterator.initializer)\n",
    "        train_cost = train_ler = 0\n",
    "        start = time.time()\n",
    "        \n",
    "       \n",
    "\n",
    "        while True: \n",
    "            try:\n",
    "                \n",
    "                max_len=timesteps\n",
    "                \n",
    "                \n",
    "              \n",
    "            \n",
    "           \n",
    "                elem = sess.run(item)\n",
    "            #    print(elem[0].shape)\n",
    "            #    print(type(elem[0]))\n",
    "                \n",
    "               # for label in elem[1]:\n",
    "               #     print (word_to_index(label.decode(\"utf-8\")) )\n",
    "                \n",
    "                batch_inputs=elem[0]\n",
    "                \n",
    "                batch_lengths=[]\n",
    "                \n",
    "            \n",
    "                for index,test_item in enumerate(batch_inputs):\n",
    "                \n",
    "                   # print (test_item.shape)\n",
    "                   # max_len=max(max_len, test_item.shape[0])\n",
    "                    batch_lengths.insert(index, test_item.shape[0])\n",
    "                    \n",
    "                    \n",
    "                temp_np_inputs = np.zeros((batch_size , max_len , 13 ))\n",
    "                    \n",
    "                for index,test_item in enumerate(batch_inputs):\n",
    "                \n",
    "                    if test_item.shape[0] < max_len:\n",
    "              #          print(\"needs padding\")\n",
    "                        difference = max_len - test_item.shape[0]\n",
    "              #          print(\"difference : \" + str(difference))\n",
    "                        temp_np_inputs[index] = np.pad(test_item,((0,difference),(0,0)), mode=\"constant\")\n",
    "        \n",
    "             #   print('max_len : ' + str(max_len) )\n",
    "            \n",
    "                batch_list = []\n",
    "                \n",
    "             #   print(batch_lengths)\n",
    "                \n",
    "                \n",
    "            #    print(temp_np_inputs[0].shape)\n",
    "                \n",
    "            \n",
    "                for index,j in enumerate(elem[1]):\n",
    "                    batch_list.insert(index, word_to_index(j.decode(\"utf-8\")))\n",
    "                    \n",
    "                \n",
    "                batch_targets = sparse_tuple_from(batch_list)\n",
    "                \n",
    "                \n",
    "                \n",
    "             \n",
    "                \n",
    "                \n",
    "            \n",
    "                feed = {inputs: temp_np_inputs,\n",
    "                        targets: batch_targets,\n",
    "                        seq_len: batch_lengths}\n",
    "\t    \n",
    "\n",
    "                batch_cost, _ = sess.run([cost, optimizer], feed)\n",
    "                print(batch_cost)\n",
    "                \n",
    "                # Decoding\n",
    "                d = sess.run(decoded[0], feed_dict=feed)\n",
    "   \n",
    "                dense_decoded = tf.sparse_tensor_to_dense(d, default_value=-1).eval(session=sess)\n",
    "    \n",
    "                for i, seq in enumerate(dense_decoded):\n",
    "\n",
    "                    seq = [s for s in seq if s != -1]\n",
    "       \n",
    "                    str_decoded = ''.join([keys_of_value(word_dictionary, x) for x in seq ])\n",
    "                    print(str_decoded)\n",
    "                \n",
    "            except tf.errors.OutOfRangeError:\n",
    "            #    print(\"End of training dataset.\")\n",
    "                break\n",
    "                \n",
    "    \n",
    "    \n",
    "    \n",
    " \n",
    "    \n",
    "    train_cost += batch_cost*batch_size\n",
    "    print(train_cost)\n",
    "    \n",
    "    "
   ]
  },
  {
   "cell_type": "code",
   "execution_count": null,
   "metadata": {
    "collapsed": true
   },
   "outputs": [],
   "source": []
  },
  {
   "cell_type": "code",
   "execution_count": null,
   "metadata": {
    "collapsed": true
   },
   "outputs": [],
   "source": []
  },
  {
   "cell_type": "code",
   "execution_count": null,
   "metadata": {
    "collapsed": true
   },
   "outputs": [],
   "source": []
  },
  {
   "cell_type": "code",
   "execution_count": null,
   "metadata": {
    "collapsed": true
   },
   "outputs": [],
   "source": []
  },
  {
   "cell_type": "code",
   "execution_count": null,
   "metadata": {
    "collapsed": true
   },
   "outputs": [],
   "source": []
  },
  {
   "cell_type": "code",
   "execution_count": null,
   "metadata": {
    "collapsed": true
   },
   "outputs": [],
   "source": []
  },
  {
   "cell_type": "code",
   "execution_count": null,
   "metadata": {
    "collapsed": true
   },
   "outputs": [],
   "source": []
  }
 ],
 "metadata": {
  "kernelspec": {
   "display_name": "tf_orange",
   "language": "python",
   "name": "tf_orange"
  },
  "language_info": {
   "codemirror_mode": {
    "name": "ipython",
    "version": 3
   },
   "file_extension": ".py",
   "mimetype": "text/x-python",
   "name": "python",
   "nbconvert_exporter": "python",
   "pygments_lexer": "ipython3",
   "version": "3.6.1"
  }
 },
 "nbformat": 4,
 "nbformat_minor": 2
}
