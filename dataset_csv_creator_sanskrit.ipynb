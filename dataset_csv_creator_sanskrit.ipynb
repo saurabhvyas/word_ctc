{
 "cells": [
  {
   "cell_type": "code",
   "execution_count": 1,
   "metadata": {
    "collapsed": true
   },
   "outputs": [],
   "source": [
    "# simple notebook to create a csv file , given a bunch of wav files and corresponding transcriptions ( same name ) in same \n",
    "# folder\n",
    "\n",
    "# note, this file assumes, folder has all .wav files mono channel , to convert it into suitable format\n",
    "# find convert_mp3_to_wav.sh and copy its command, and run in dataset folder\n",
    "\n",
    "# to do\n",
    "# get rid of unicode characters , only plain text is needed\n",
    "\n"
   ]
  },
  {
   "cell_type": "code",
   "execution_count": 3,
   "metadata": {},
   "outputs": [],
   "source": [
    "import glob, os\n",
    "import csv\n",
    "\n",
    "dir_name = \"/media/saurabh/New Volume2/hindi_char/sanskrit/data_backup/working/\"\n",
    "os.chdir(dir_name)"
   ]
  },
  {
   "cell_type": "code",
   "execution_count": 4,
   "metadata": {
    "collapsed": true
   },
   "outputs": [],
   "source": [
    "\n",
    "\n",
    "def read_transcription_txt(file):\n",
    "    with open(file, 'r' , encoding='utf-16le') as myfile:\n",
    "        data=myfile.read().replace('\\n', '')\n",
    "        #data=unicode(data, errors='replace')\n",
    "        #data=data.decode('unicode_escape').encode('utf-8')\n",
    "        return data"
   ]
  },
  {
   "cell_type": "code",
   "execution_count": null,
   "metadata": {
    "collapsed": true
   },
   "outputs": [],
   "source": []
  },
  {
   "cell_type": "code",
   "execution_count": 5,
   "metadata": {
    "collapsed": true
   },
   "outputs": [],
   "source": [
    "temp_list=[]\n",
    "\n",
    "def create_csv():\n",
    "    \n",
    "    \n",
    "   \n",
    " for file in glob.glob(\"*.txt\"):\n",
    "    #print(file)\n",
    "    \n",
    "    \n",
    "    wav_string= dir_name + file.replace(\".txt\",\".wav\")\n",
    "    print(wav_string)\n",
    "    \n",
    "    #temp_list.append(file + ',' + wav_string)\n",
    "    \n",
    "    temp_name = dir_name + '/' + file\n",
    "    \n",
    "    \n",
    "    \n",
    "    transcription = read_transcription_txt(temp_name)\n",
    "    \n",
    "    print(transcription)\n",
    "    \n",
    "    temp_list.append([wav_string, transcription])\n",
    "    \n",
    "    "
   ]
  },
  {
   "cell_type": "code",
   "execution_count": 6,
   "metadata": {},
   "outputs": [
    {
     "name": "stdout",
     "output_type": "stream",
     "text": [
      "/media/saurabh/New Volume2/hindi_char/sanskrit/data_backup/working/A.wav\n",
      "﻿अधनस्य कुतो मित्रम्, अमित्रस्य कुतः सुखम् \n",
      "/media/saurabh/New Volume2/hindi_char/sanskrit/data_backup/working/B.wav\n",
      "﻿अयं निजः परो वेति गणना लघु चेतसाम्\n",
      "/media/saurabh/New Volume2/hindi_char/sanskrit/data_backup/working/C.wav\n",
      "﻿अलसस्य कुतो विद्या, अविद्यस्य कुतो धनम् \n",
      "/media/saurabh/New Volume2/hindi_char/sanskrit/data_backup/working/D.wav\n",
      "﻿अष्टादश पुराणेषु व्यासस्य वचनद्वयम्\n",
      "/media/saurabh/New Volume2/hindi_char/sanskrit/data_backup/working/E.wav\n",
      "﻿आलस्यं हि मनुष्याणां शरीरस्थो महान् रिपुः\n",
      "/media/saurabh/New Volume2/hindi_char/sanskrit/data_backup/working/F.wav\n",
      "﻿उदारचरितानां तु वसुधैव कुटुम्बकम् \n",
      "/media/saurabh/New Volume2/hindi_char/sanskrit/data_backup/working/G.wav\n",
      "﻿एवं परुषकारेण विना दैवं न सिद्ध्यति\n",
      "/media/saurabh/New Volume2/hindi_char/sanskrit/data_backup/working/H.wav\n",
      "﻿चन्दनं शीतलं लोके,चन्दनादपि चन्द्रमाः\n",
      "/media/saurabh/New Volume2/hindi_char/sanskrit/data_backup/working/I.wav\n",
      "﻿निद्रा तद्रा भयं क्रोधः आलस्यं दीर्घसूत्रता\n",
      "/media/saurabh/New Volume2/hindi_char/sanskrit/data_backup/working/J.wav\n",
      "﻿यथा ह्येकेन चक्रेण न रथस्य गतिर्भवेत् \n",
      "10\n"
     ]
    }
   ],
   "source": [
    "create_csv()\n",
    "\n",
    "dataset_len = len(temp_list)\n",
    "\n",
    "print(dataset_len)"
   ]
  },
  {
   "cell_type": "code",
   "execution_count": 7,
   "metadata": {},
   "outputs": [
    {
     "name": "stdout",
     "output_type": "stream",
     "text": [
      "[['/media/saurabh/New Volume2/hindi_char/sanskrit/data_backup/working/A.wav', '\\ufeffअधनस्य कुतो मित्रम्, अमित्रस्य कुतः सुखम्\\xa0'], ['/media/saurabh/New Volume2/hindi_char/sanskrit/data_backup/working/B.wav', '\\ufeffअयं निजः परो वेति गणना लघु चेतसाम्'], ['/media/saurabh/New Volume2/hindi_char/sanskrit/data_backup/working/C.wav', '\\ufeffअलसस्य कुतो विद्या, अविद्यस्य कुतो धनम्\\xa0'], ['/media/saurabh/New Volume2/hindi_char/sanskrit/data_backup/working/D.wav', '\\ufeffअष्टादश पुराणेषु व्यासस्य वचनद्वयम्'], ['/media/saurabh/New Volume2/hindi_char/sanskrit/data_backup/working/E.wav', '\\ufeffआलस्यं हि मनुष्याणां शरीरस्थो महान् रिपुः'], ['/media/saurabh/New Volume2/hindi_char/sanskrit/data_backup/working/F.wav', '\\ufeffउदारचरितानां तु वसुधैव कुटुम्बकम्\\xa0'], ['/media/saurabh/New Volume2/hindi_char/sanskrit/data_backup/working/G.wav', '\\ufeffएवं परुषकारेण विना दैवं न सिद्ध्यति'], ['/media/saurabh/New Volume2/hindi_char/sanskrit/data_backup/working/H.wav', '\\ufeffचन्दनं शीतलं लोके,चन्दनादपि चन्द्रमाः'], ['/media/saurabh/New Volume2/hindi_char/sanskrit/data_backup/working/I.wav', '\\ufeffनिद्रा तद्रा भयं क्रोधः आलस्यं दीर्घसूत्रता'], ['/media/saurabh/New Volume2/hindi_char/sanskrit/data_backup/working/J.wav', '\\ufeffयथा ह्येकेन चक्रेण न रथस्य गतिर्भवेत्\\xa0']]\n"
     ]
    }
   ],
   "source": [
    "print(temp_list)"
   ]
  },
  {
   "cell_type": "code",
   "execution_count": 8,
   "metadata": {
    "collapsed": true
   },
   "outputs": [],
   "source": [
    "def csv_writer(data, path):\n",
    "    \"\"\"\n",
    "    Write data to a CSV file path\n",
    "    \"\"\"\n",
    "    with open(path, \"w\", newline='') as csv_file:\n",
    "        writer = csv.writer(csv_file, delimiter=',')\n",
    "        for line in data:\n",
    "            writer.writerow(line)"
   ]
  },
  {
   "cell_type": "code",
   "execution_count": 9,
   "metadata": {
    "collapsed": true
   },
   "outputs": [],
   "source": [
    "csv_writer(temp_list,'/home/saurabh/Documents/tf_orange/tf_orange/sanskrit.csv')"
   ]
  },
  {
   "cell_type": "code",
   "execution_count": null,
   "metadata": {
    "collapsed": true
   },
   "outputs": [],
   "source": []
  }
 ],
 "metadata": {
  "kernelspec": {
   "display_name": "tf_orange",
   "language": "python",
   "name": "tf_orange"
  },
  "language_info": {
   "codemirror_mode": {
    "name": "ipython",
    "version": 3
   },
   "file_extension": ".py",
   "mimetype": "text/x-python",
   "name": "python",
   "nbconvert_exporter": "python",
   "pygments_lexer": "ipython3",
   "version": "3.6.1"
  }
 },
 "nbformat": 4,
 "nbformat_minor": 2
}
